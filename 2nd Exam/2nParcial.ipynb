{
 "cells": [
  {
   "metadata": {},
   "cell_type": "markdown",
   "source": [
    "El dataset que utilizaran contiene extractos de poemas/historias creadas por 3 reconocidos autores\n",
    "\n",
    "- Mary Shelley: Autora de \"Frankenstein\"\n",
    "\n",
    "- Edgar Allan Poe: Autor de Poemas como \"El Cuervo\"\n",
    "\n",
    "- HP Lovecraft: Autor de libros como \"El Necronomicon\""
   ],
   "id": "c841528a43087288"
  },
  {
   "cell_type": "code",
   "execution_count": null,
   "id": "initial_id",
   "metadata": {
    "collapsed": true
   },
   "outputs": [],
   "source": [
    ""
   ]
  }
 ],
 "metadata": {
  "kernelspec": {
   "display_name": "Python 3",
   "language": "python",
   "name": "python3"
  },
  "language_info": {
   "codemirror_mode": {
    "name": "ipython",
    "version": 2
   },
   "file_extension": ".py",
   "mimetype": "text/x-python",
   "name": "python",
   "nbconvert_exporter": "python",
   "pygments_lexer": "ipython2",
   "version": "2.7.6"
  }
 },
 "nbformat": 4,
 "nbformat_minor": 5
}
