{
 "cells": [
  {
   "metadata": {},
   "cell_type": "code",
   "outputs": [],
   "execution_count": null,
   "source": "",
   "id": "b5c16c6012c0244e"
  },
  {
   "metadata": {},
   "cell_type": "code",
   "outputs": [],
   "execution_count": null,
   "source": "",
   "id": "d20b8275b486ffaf"
  },
  {
   "cell_type": "code",
   "execution_count": null,
   "id": "initial_id",
   "metadata": {
    "collapsed": true
   },
   "outputs": [],
   "source": [
    "import contractions               #Won't -> will not\n",
    "import re                         #Regex\n",
    "import nltk                       #Tokenizar texto\n",
    "import numpy as np\n",
    "from nltk import word_tokenize\n",
    "from nltk.corpus import stopwords\n",
    "from nltk.stem.wordnet import WordNetLemmatizer\n",
    "from tqdm import tqdm\n",
    "import spacy\n",
    "nltk.download('stopwords')\n",
    "nltk.download('punkt')\n",
    "nltk.download('wordnet')\n",
    "nltk.download('punkt_tab')\n",
    "\n",
    "nlp = spacy.load('en_core_web_sm')\n",
    "\n",
    "stopwords_en = stopwords.words('english')\n",
    "lemmatizer = WordNetLemmatizer()\n",
    "tqdm.pandas()"
   ]
  },
  {
   "metadata": {},
   "cell_type": "code",
   "outputs": [],
   "execution_count": null,
   "source": [
    "def vectorize(texto):\n",
    "\n",
    "  #Todo a minusculas\n",
    "  texto = texto.lower()\n",
    "\n",
    "  #Contracciones\n",
    "  texto = contractions.fix(texto)\n",
    "\n",
    "  #Regex para quitar todo lo que no sea letra\n",
    "  texto = re.sub(r'[^a-z\\s]','', texto)\n",
    "\n",
    "  #Quitar stop words\n",
    "  texto = word_tokenize(texto)\n",
    "\n",
    "  #Eliminar stopwords\n",
    "  texto = [token for token in texto if token not in stopwords_en]\n",
    "\n",
    "  #Lemmatizar\n",
    "  texto = [lemmatizer.lemmatize(word) for word in texto]\n",
    "\n",
    "  #Generar vector (sumar linealmente)\n",
    "  vector = nlp(final).vector\n",
    "\n",
    "  return vector"
   ],
   "id": "b000e7831f2cbdca"
  },
  {
   "metadata": {},
   "cell_type": "code",
   "outputs": [],
   "execution_count": null,
   "source": "",
   "id": "21e31c5445546c39"
  },
  {
   "metadata": {},
   "cell_type": "code",
   "outputs": [],
   "execution_count": null,
   "source": "vectorize(\"this is a text\")",
   "id": "fbb099187ab09084"
  },
  {
   "metadata": {},
   "cell_type": "code",
   "outputs": [],
   "execution_count": null,
   "source": [
    "from tqdm import tqdm\n",
    "nltk.download('punk_tab')\n",
    "tqdm.pandas()\n",
    "df['vector'] = df['headline'].progress_apply(vectorize)\n"
   ],
   "id": "e228417253c7e908"
  }
 ],
 "metadata": {
  "kernelspec": {
   "display_name": "Python 3",
   "language": "python",
   "name": "python3"
  },
  "language_info": {
   "codemirror_mode": {
    "name": "ipython",
    "version": 2
   },
   "file_extension": ".py",
   "mimetype": "text/x-python",
   "name": "python",
   "nbconvert_exporter": "python",
   "pygments_lexer": "ipython2",
   "version": "2.7.6"
  }
 },
 "nbformat": 4,
 "nbformat_minor": 5
}
