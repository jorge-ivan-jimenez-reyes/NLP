{
 "cells": [
  {
   "metadata": {},
   "cell_type": "code",
   "outputs": [],
   "execution_count": null,
   "source": "!pip install contractions",
   "id": "180b4fbab826b83e"
  },
  {
   "metadata": {},
   "cell_type": "code",
   "outputs": [],
   "execution_count": null,
   "source": [
    "import numpy as np\n",
    "import pandas as pd"
   ],
   "id": "501ffa5edd22731d"
  },
  {
   "metadata": {},
   "cell_type": "code",
   "outputs": [],
   "execution_count": null,
   "source": [
    "import contractions               #Won't -> will not\n",
    "import re                         #Regex\n",
    "import nltk                       #Tokenizar texto\n",
    "from nltk import word_tokenize\n",
    "from nltk.corpus import stopwords\n",
    "from nltk.stem.wordnet import WordNetLemmatizer\n",
    "from tqdm import tqdm\n",
    "\n",
    "nltk.download('stopwords')\n",
    "nltk.download('punkt')\n",
    "nltk.download('wordnet')\n",
    "nltk.download('punkt_tab')\n",
    "\n",
    "stopwords_en = stopwords.words('english')\n",
    "lemmatizer = WordNetLemmatizer()\n",
    "tqdm.pandas()"
   ],
   "id": "2b1411c885f4305a"
  },
  {
   "metadata": {},
   "cell_type": "code",
   "outputs": [],
   "execution_count": null,
   "source": [
    "from google.colab import drive\n",
    "drive.mount('/content/drive')"
   ],
   "id": "20fc5b9dedefe93b"
  },
  {
   "metadata": {},
   "cell_type": "code",
   "outputs": [],
   "execution_count": null,
   "source": "df = pd.read_csv('/content/drive/MyDrive/1252/Procesamiento de Lenguaje Natural/Archivos/Articles.csv', encoding = \"latin-1\")",
   "id": "be1c0aecf182ab1e"
  },
  {
   "metadata": {},
   "cell_type": "code",
   "outputs": [],
   "execution_count": null,
   "source": "df.head()",
   "id": "71768b2f1e17d9dc"
  },
  {
   "metadata": {},
   "cell_type": "code",
   "outputs": [],
   "execution_count": null,
   "source": "df['NewsType'].unique()",
   "id": "1cd804654c719c5e"
  },
  {
   "metadata": {},
   "cell_type": "code",
   "outputs": [],
   "execution_count": null,
   "source": [
    "embeddings = {}\n",
    "\n",
    "with open('/content/drive/MyDrive/1252/Procesamiento de Lenguaje Natural/Archivos/glove.6B/glove.6B.300d.txt', encoding='utf-8') as f:\n",
    "  for line in f:\n",
    "    values = line.split()\n",
    "    word = values[0]\n",
    "    vectors = np.asarray(values[1:])\n",
    "    embeddings[word] = vectors"
   ],
   "id": "6376e81a93cd296c"
  },
  {
   "metadata": {},
   "cell_type": "code",
   "outputs": [],
   "execution_count": null,
   "source": [
    "def vectorize(texto):\n",
    "  vector_size = 300 #Dependiento del archivo de glove -> glove.6B.300d.txt\n",
    "\n",
    "  #Todo a minusculas\n",
    "  texto = texto.lower()\n",
    "\n",
    "  #Contracciones\n",
    "  texto = contractions.fix(texto)\n",
    "\n",
    "  #Regex para quitar todo lo que no sea letra\n",
    "  texto = re.sub(r'[^a-z\\s]','', texto)\n",
    "\n",
    "  #Quitar stop words\n",
    "  texto = word_tokenize(texto)\n",
    "\n",
    "  #Eliminar stopwords\n",
    "  texto = [token for token in texto if token not in stopwords_en]\n",
    "\n",
    "  #Lemmatizar\n",
    "  texto = [lemmatizer.lemmatize(word) for word in texto]\n",
    "\n",
    "  #Generar vector (sumar linealmente)\n",
    "  vector = np.zeros(vector_size)\n",
    "\n",
    "  for word in texto:\n",
    "    if word in embeddings:\n",
    "      vector += embeddings[word].astype(float)\n",
    "\n",
    "  vector = vector.reshape(1, -1)[0] #Una fila, columans necesarias\n",
    "\n",
    "  return vector"
   ],
   "id": "d5a4569ebe55ec9d"
  },
  {
   "metadata": {},
   "cell_type": "code",
   "outputs": [],
   "execution_count": null,
   "source": "vectorize('This is a test')",
   "id": "74ffa53d9a2b571b"
  },
  {
   "metadata": {},
   "cell_type": "code",
   "outputs": [],
   "execution_count": null,
   "source": "df['vector'] = df['Article'].progress_apply(vectorize)",
   "id": "38782d9aed004b94"
  },
  {
   "cell_type": "code",
   "execution_count": null,
   "id": "initial_id",
   "metadata": {
    "collapsed": true
   },
   "outputs": [],
   "source": "from sklearn.model_selection import train_test_split\n"
  }
 ],
 "metadata": {
  "kernelspec": {
   "display_name": "Python 3",
   "language": "python",
   "name": "python3"
  },
  "language_info": {
   "codemirror_mode": {
    "name": "ipython",
    "version": 2
   },
   "file_extension": ".py",
   "mimetype": "text/x-python",
   "name": "python",
   "nbconvert_exporter": "python",
   "pygments_lexer": "ipython2",
   "version": "2.7.6"
  }
 },
 "nbformat": 4,
 "nbformat_minor": 5
}
