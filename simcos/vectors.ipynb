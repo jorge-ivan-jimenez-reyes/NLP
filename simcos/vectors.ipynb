{
 "cells": [
  {
   "metadata": {
    "ExecuteTime": {
     "end_time": "2025-03-18T22:28:58.155650Z",
     "start_time": "2025-03-18T22:28:57.242512Z"
    }
   },
   "cell_type": "code",
   "source": "!pip install contractions",
   "id": "180b4fbab826b83e",
   "outputs": [
    {
     "name": "stdout",
     "output_type": "stream",
     "text": [
      "Requirement already satisfied: contractions in /Users/jorgejimenez/PycharmProjects/ProcesamientoIM-Proyecto/.venv/lib/python3.12/site-packages (0.1.73)\r\n",
      "Requirement already satisfied: textsearch>=0.0.21 in /Users/jorgejimenez/PycharmProjects/ProcesamientoIM-Proyecto/.venv/lib/python3.12/site-packages (from contractions) (0.0.24)\r\n",
      "Requirement already satisfied: anyascii in /Users/jorgejimenez/PycharmProjects/ProcesamientoIM-Proyecto/.venv/lib/python3.12/site-packages (from textsearch>=0.0.21->contractions) (0.3.2)\r\n",
      "Requirement already satisfied: pyahocorasick in /Users/jorgejimenez/PycharmProjects/ProcesamientoIM-Proyecto/.venv/lib/python3.12/site-packages (from textsearch>=0.0.21->contractions) (2.1.0)\r\n",
      "\r\n",
      "\u001B[1m[\u001B[0m\u001B[34;49mnotice\u001B[0m\u001B[1;39;49m]\u001B[0m\u001B[39;49m A new release of pip is available: \u001B[0m\u001B[31;49m24.3.1\u001B[0m\u001B[39;49m -> \u001B[0m\u001B[32;49m25.0.1\u001B[0m\r\n",
      "\u001B[1m[\u001B[0m\u001B[34;49mnotice\u001B[0m\u001B[1;39;49m]\u001B[0m\u001B[39;49m To update, run: \u001B[0m\u001B[32;49mpip install --upgrade pip\u001B[0m\r\n"
     ]
    }
   ],
   "execution_count": 1
  },
  {
   "metadata": {
    "ExecuteTime": {
     "end_time": "2025-03-18T22:29:01.720813Z",
     "start_time": "2025-03-18T22:29:01.714581Z"
    }
   },
   "cell_type": "code",
   "source": [
    "import numpy as np\n",
    "import pandas as pd"
   ],
   "id": "501ffa5edd22731d",
   "outputs": [],
   "execution_count": 2
  },
  {
   "metadata": {
    "ExecuteTime": {
     "end_time": "2025-03-18T22:29:05.486618Z",
     "start_time": "2025-03-18T22:29:03.902808Z"
    }
   },
   "cell_type": "code",
   "source": [
    "import contractions               #Won't -> will not\n",
    "import re                         #Regex\n",
    "import nltk                       #Tokenizar texto\n",
    "from nltk import word_tokenize\n",
    "from nltk.corpus import stopwords\n",
    "from nltk.stem.wordnet import WordNetLemmatizer\n",
    "from tqdm import tqdm\n",
    "\n",
    "nltk.download('stopwords')\n",
    "nltk.download('punkt')\n",
    "nltk.download('wordnet')\n",
    "nltk.download('punkt_tab')\n",
    "\n",
    "stopwords_en = stopwords.words('english')\n",
    "lemmatizer = WordNetLemmatizer()\n",
    "tqdm.pandas()"
   ],
   "id": "2b1411c885f4305a",
   "outputs": [
    {
     "name": "stderr",
     "output_type": "stream",
     "text": [
      "[nltk_data] Error loading stopwords: <urlopen error [SSL:\n",
      "[nltk_data]     CERTIFICATE_VERIFY_FAILED] certificate verify failed:\n",
      "[nltk_data]     unable to get local issuer certificate (_ssl.c:1000)>\n",
      "[nltk_data] Error loading punkt: <urlopen error [SSL:\n",
      "[nltk_data]     CERTIFICATE_VERIFY_FAILED] certificate verify failed:\n",
      "[nltk_data]     unable to get local issuer certificate (_ssl.c:1000)>\n",
      "[nltk_data] Error loading wordnet: <urlopen error [SSL:\n",
      "[nltk_data]     CERTIFICATE_VERIFY_FAILED] certificate verify failed:\n",
      "[nltk_data]     unable to get local issuer certificate (_ssl.c:1000)>\n",
      "[nltk_data] Error loading punkt_tab: <urlopen error [SSL:\n",
      "[nltk_data]     CERTIFICATE_VERIFY_FAILED] certificate verify failed:\n",
      "[nltk_data]     unable to get local issuer certificate (_ssl.c:1000)>\n"
     ]
    }
   ],
   "execution_count": 3
  },
  {
   "metadata": {},
   "cell_type": "code",
   "outputs": [],
   "execution_count": null,
   "source": "",
   "id": "20fc5b9dedefe93b"
  },
  {
   "metadata": {},
   "cell_type": "code",
   "outputs": [],
   "execution_count": null,
   "source": "df = pd.read_csv('/content/drive/MyDrive/1252/Procesamiento de Lenguaje Natural/Archivos/Articles.csv', encoding = \"latin-1\")",
   "id": "be1c0aecf182ab1e"
  },
  {
   "metadata": {},
   "cell_type": "code",
   "outputs": [],
   "execution_count": null,
   "source": "df.head()",
   "id": "71768b2f1e17d9dc"
  },
  {
   "metadata": {},
   "cell_type": "code",
   "outputs": [],
   "execution_count": null,
   "source": "df['NewsType'].unique()",
   "id": "1cd804654c719c5e"
  },
  {
   "metadata": {},
   "cell_type": "code",
   "outputs": [],
   "execution_count": null,
   "source": [
    "embeddings = {}\n",
    "\n",
    "with open('/content/drive/MyDrive/1252/Procesamiento de Lenguaje Natural/Archivos/glove.6B/glove.6B.300d.txt', encoding='utf-8') as f:\n",
    "  for line in f:\n",
    "    values = line.split()\n",
    "    word = values[0]\n",
    "    vectors = np.asarray(values[1:])\n",
    "    embeddings[word] = vectors"
   ],
   "id": "6376e81a93cd296c"
  },
  {
   "metadata": {},
   "cell_type": "code",
   "outputs": [],
   "execution_count": null,
   "source": [
    "def vectorize(texto):\n",
    "  vector_size = 300 #Dependiento del archivo de glove -> glove.6B.300d.txt\n",
    "\n",
    "  #Todo a minusculas\n",
    "  texto = texto.lower()\n",
    "\n",
    "  #Contracciones\n",
    "  texto = contractions.fix(texto)\n",
    "\n",
    "  #Regex para quitar todo lo que no sea letra\n",
    "  texto = re.sub(r'[^a-z\\s]','', texto)\n",
    "\n",
    "  #Quitar stop words\n",
    "  texto = word_tokenize(texto)\n",
    "\n",
    "  #Eliminar stopwords\n",
    "  texto = [token for token in texto if token not in stopwords_en]\n",
    "\n",
    "  #Lemmatizar\n",
    "  texto = [lemmatizer.lemmatize(word) for word in texto]\n",
    "\n",
    "  #Generar vector (sumar linealmente)\n",
    "  vector = np.zeros(vector_size)\n",
    "\n",
    "  for word in texto:\n",
    "    if word in embeddings:\n",
    "      vector += embeddings[word].astype(float)\n",
    "\n",
    "  vector = vector.reshape(1, -1)[0] #Una fila, columans necesarias\n",
    "\n",
    "  return vector"
   ],
   "id": "d5a4569ebe55ec9d"
  },
  {
   "metadata": {},
   "cell_type": "code",
   "outputs": [],
   "execution_count": null,
   "source": "vectorize('This is a test')",
   "id": "74ffa53d9a2b571b"
  },
  {
   "metadata": {},
   "cell_type": "code",
   "outputs": [],
   "execution_count": null,
   "source": "df['vector'] = df['Article'].progress_apply(vectorize)",
   "id": "38782d9aed004b94"
  },
  {
   "metadata": {},
   "cell_type": "code",
   "outputs": [],
   "execution_count": null,
   "source": [
    "def buscar_documentos(documento_original, n):\n",
    "  data = {\n",
    "      'Article':[],\n",
    "      'sims':[]\n",
    "  }\n",
    "\n",
    "  buscar = vectorize(documento_original)\n",
    "  A = buscar\n",
    "  for vector, headline in zip(df['vector'], df['Article']):\n",
    "\n",
    "    B = vector\n",
    "\n",
    "    try:\n",
    "      resultado = np.dot(A,B) / (np.linalg.norm(A) * np.linalg.norm(B))\n",
    "    except:\n",
    "      resultado = 0\n",
    "\n",
    "    data['Article'].append(headline)\n",
    "    data['sims'].append(resultado)\n",
    "\n",
    "  final = pd.DataFrame(data).sort_values(by='sims', ascending=False).head(n)\n",
    "  return final"
   ],
   "id": "e30f01906aa028e4"
  },
  {
   "metadata": {},
   "cell_type": "code",
   "outputs": [],
   "execution_count": null,
   "source": "buscar_documentos('Asian market plummet', 15)",
   "id": "24f4d82db6fe5a10"
  },
  {
   "metadata": {},
   "cell_type": "code",
   "outputs": [],
   "execution_count": null,
   "source": "print(buscar_documentos('Asian market plummet', 15)['Article'].iloc[0])",
   "id": "3ecbd1994961cbc6"
  },
  {
   "metadata": {},
   "cell_type": "code",
   "outputs": [],
   "execution_count": null,
   "source": "print(buscar_documentos('Roger Federer', 15)['Article'].iloc[0])",
   "id": "dac62266abdfb3cf"
  },
  {
   "metadata": {},
   "cell_type": "code",
   "outputs": [],
   "execution_count": null,
   "source": [
    "from sklearn.model_selection import train_test_split\n",
    "from sklearn.ensemble import RandomForestClassifier\n",
    "from sklearn.metrics import classification_report, confusion_matrix\n",
    "import seaborn as sns"
   ],
   "id": "f9704d4ccf728a54"
  },
  {
   "metadata": {},
   "cell_type": "code",
   "outputs": [],
   "execution_count": null,
   "source": [
    "X = df['vector']\n",
    "X = np.concatenate(X, axis=0).reshape(-1, 300)\n",
    "y = df['NewsType']\n",
    "\n",
    "X_test, X_train, y_test, y_train = train_test_split(X,\n",
    "                                                    y,\n",
    "                                                    train_size = 0.7,\n",
    "                                                    random_state=101)"
   ],
   "id": "7c7199dfacbd44d5"
  },
  {
   "metadata": {},
   "cell_type": "code",
   "outputs": [],
   "execution_count": null,
   "source": [
    "modelo = RandomForestClassifier()\n",
    "modelo.fit(X_train, y_train)"
   ],
   "id": "3f54697ecc005aca"
  },
  {
   "metadata": {},
   "cell_type": "code",
   "outputs": [],
   "execution_count": null,
   "source": [
    "y_pred = modelo.predict(X_test)\n",
    "print(classification_report(y_test, y_pred))"
   ],
   "id": "57d9f07392204e9c"
  },
  {
   "metadata": {},
   "cell_type": "code",
   "outputs": [],
   "execution_count": null,
   "source": [
    "sns.heatmap(confusion_matrix(y_test, y_pred), annot=True, fmt='.2f')\n",
    "print(classification_report(y_test,y_pred))"
   ],
   "id": "685a7abf623aee9f"
  }
 ],
 "metadata": {
  "kernelspec": {
   "display_name": "Python 3",
   "language": "python",
   "name": "python3"
  },
  "language_info": {
   "codemirror_mode": {
    "name": "ipython",
    "version": 2
   },
   "file_extension": ".py",
   "mimetype": "text/x-python",
   "name": "python",
   "nbconvert_exporter": "python",
   "pygments_lexer": "ipython2",
   "version": "2.7.6"
  }
 },
 "nbformat": 4,
 "nbformat_minor": 5
}
