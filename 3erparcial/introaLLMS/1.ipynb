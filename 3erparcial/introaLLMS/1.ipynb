{
 "cells": [
  {
   "metadata": {},
   "cell_type": "code",
   "outputs": [],
   "execution_count": null,
   "source": "",
   "id": "b446a0cc1823e851"
  },
  {
   "cell_type": "code",
   "execution_count": null,
   "id": "initial_id",
   "metadata": {
    "collapsed": true
   },
   "outputs": [],
   "source": [
    "from langchain_google_genai import ChatGoogleGenerativeAI\n",
    "from langchain_core.messages import SystemMessage, HumanMessage\n",
    "from IPython.display import Markdown, display\n",
    "\n",
    "llm = ChatGoogleGenerativeAI(\n",
    "    model = \"gemini-1.5\",\n",
    "    google_api_key = \"<KEY>\",\n",
    "\n",
    ")\n",
    "SYSTEM_PROMPT = \"Eres un asistente de IA. Responde Siempre usando Markdown\"\n",
    "PROMPT = \"¿Cuáles son los beneficios de usar un modelo de lenguaje grande (LLM) para la generación de texto?\"\n",
    "\n",
    "messages = [\n",
    "    SystemMessage(content=SYSTEM_PROMPT),\n",
    "    HumanMessage(content=PROMPT)\n",
    "]\n",
    "\n",
    "respuesta = llm.invoke(messages)\n",
    "\n",
    "display(Markdown(respuesta.content))"
   ]
  }
 ],
 "metadata": {
  "kernelspec": {
   "display_name": "Python 3",
   "language": "python",
   "name": "python3"
  },
  "language_info": {
   "codemirror_mode": {
    "name": "ipython",
    "version": 2
   },
   "file_extension": ".py",
   "mimetype": "text/x-python",
   "name": "python",
   "nbconvert_exporter": "python",
   "pygments_lexer": "ipython2",
   "version": "2.7.6"
  }
 },
 "nbformat": 4,
 "nbformat_minor": 5
}
