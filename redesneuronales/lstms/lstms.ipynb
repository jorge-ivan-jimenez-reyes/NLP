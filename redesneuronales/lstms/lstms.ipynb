{
 "cells": [
  {
   "metadata": {},
   "cell_type": "code",
   "outputs": [],
   "execution_count": null,
   "source": [
    "df = pd.read_csv('/content/drive/MyDrive/1252/Procesamiento de Lenguaje Natural/Archivos/HateSpeech (1) (1).csv')\n",
    "df = df[['class', 'tweet']]\n",
    "df.head()"
   ],
   "id": "fe06984a8bba20fc"
  },
  {
   "metadata": {},
   "cell_type": "code",
   "outputs": [],
   "execution_count": null,
   "source": [
    "from tensorflow import truediv\n",
    "\n",
    "df['artist'].value_counts()"
   ],
   "id": "bd61ad5171203de4"
  },
  {
   "cell_type": "code",
   "execution_count": null,
   "id": "initial_id",
   "metadata": {
    "collapsed": true
   },
   "outputs": [],
   "source": [
    "df = pd.read_csv('/content/drive/MyDrive/1252/Procesamiento de Lenguaje Natural/Archivos/HateSpeech (1) (1).csv')\n",
    "df = df[['class', 'tweet']]\n",
    "df.head()"
   ]
  },
  {
   "metadata": {},
   "cell_type": "code",
   "outputs": [],
   "execution_count": null,
   "source": [
    "artistas = ['Ariana Grande', 'Iron Maiden', 'Ed Sheran']\n",
    "df = df[df['artista'].isin(artistas)]\n",
    "df.head"
   ],
   "id": "5ca217fd61a077f1"
  },
  {
   "metadata": {},
   "cell_type": "code",
   "outputs": [],
   "execution_count": null,
   "source": "df['lyrics'.iloc[0].splitlines(keepends=true]",
   "id": "fe0cea135a8d1b6f"
  }
 ],
 "metadata": {
  "kernelspec": {
   "display_name": "Python 3",
   "language": "python",
   "name": "python3"
  },
  "language_info": {
   "codemirror_mode": {
    "name": "ipython",
    "version": 2
   },
   "file_extension": ".py",
   "mimetype": "text/x-python",
   "name": "python",
   "nbconvert_exporter": "python",
   "pygments_lexer": "ipython2",
   "version": "2.7.6"
  }
 },
 "nbformat": 4,
 "nbformat_minor": 5
}
