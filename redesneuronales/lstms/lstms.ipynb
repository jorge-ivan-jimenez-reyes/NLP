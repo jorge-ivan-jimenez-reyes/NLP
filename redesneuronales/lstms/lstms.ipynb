{
 "cells": [
  {
   "metadata": {
    "ExecuteTime": {
     "end_time": "2025-04-03T23:07:09.150252Z",
     "start_time": "2025-04-03T23:07:09.051763Z"
    }
   },
   "cell_type": "code",
   "source": [
    "df = pd.read_csv('/Users/JorgeJimenez/Documents/UP/NLP/redesneuronales/lstms/canciones_eng_fin (1).xlsx')\n",
    "df = df[['class', 'tweet']]\n",
    "df.head()"
   ],
   "id": "fe06984a8bba20fc",
   "outputs": [
    {
     "ename": "NameError",
     "evalue": "name 'pd' is not defined",
     "output_type": "error",
     "traceback": [
      "\u001B[31m---------------------------------------------------------------------------\u001B[39m",
      "\u001B[31mNameError\u001B[39m                                 Traceback (most recent call last)",
      "\u001B[36mCell\u001B[39m\u001B[36m \u001B[39m\u001B[32mIn[1]\u001B[39m\u001B[32m, line 1\u001B[39m\n\u001B[32m----> \u001B[39m\u001B[32m1\u001B[39m df = \u001B[43mpd\u001B[49m.read_csv(\u001B[33m'\u001B[39m\u001B[33m/Users/JorgeJimenez/Documents/UP/NLP/redesneuronales/lstms/canciones_eng_fin (1).xlsx\u001B[39m\u001B[33m'\u001B[39m)\n\u001B[32m      2\u001B[39m df = df[[\u001B[33m'\u001B[39m\u001B[33mclass\u001B[39m\u001B[33m'\u001B[39m, \u001B[33m'\u001B[39m\u001B[33mtweet\u001B[39m\u001B[33m'\u001B[39m]]\n\u001B[32m      3\u001B[39m df.head()\n",
      "\u001B[31mNameError\u001B[39m: name 'pd' is not defined"
     ]
    }
   ],
   "execution_count": 1
  },
  {
   "metadata": {},
   "cell_type": "code",
   "outputs": [],
   "execution_count": null,
   "source": [
    "from tensorflow import truediv\n",
    "\n",
    "df['artist'].value_counts().plot(kind='bar')"
   ],
   "id": "bd61ad5171203de4"
  },
  {
   "cell_type": "code",
   "execution_count": null,
   "id": "initial_id",
   "metadata": {
    "collapsed": true
   },
   "outputs": [],
   "source": [
    "df = pd.read_csv('/content/drive/MyDrive/1252/Procesamiento de Lenguaje Natural/Archivos/HateSpeech (1) (1).csv')\n",
    "df = df[['class', 'tweet']]\n",
    "df.head()"
   ]
  },
  {
   "metadata": {},
   "cell_type": "code",
   "outputs": [],
   "execution_count": null,
   "source": [
    "artistas = ['Ariana Grande', 'Iron Maiden', 'Ed Sheran']\n",
    "df = df[df['artista'].isin(artistas)]\n",
    "df.head"
   ],
   "id": "5ca217fd61a077f1"
  },
  {
   "metadata": {},
   "cell_type": "code",
   "outputs": [],
   "execution_count": null,
   "source": "df['lyrics'.iloc[0].splitlines(keepends=true]",
   "id": "fe0cea135a8d1b6f"
  },
  {
   "metadata": {},
   "cell_type": "code",
   "outputs": [],
   "execution_count": null,
   "source": [
    "data = ''.join(df(['lyrics']).splitlines(keepends=True)\n",
    "data"
   ],
   "id": "8c60e73435f40902"
  },
  {
   "metadata": {},
   "cell_type": "code",
   "outputs": [],
   "execution_count": null,
   "source": [
    "import numpy as pd\n",
    "from tenssorflow.keras.preprocessing.text import Tokenizer\n",
    "from tensorflow.keras.models import Sequential\n",
    "from tensorflow.keras.utils import to_categorical\n",
    "from tensorflow.keras.layers import Dense, LSTM, Embedding\n",
    "from tensorflow.keras.optimizer import Adan\n"
   ],
   "id": "355a4af73f18969d"
  },
  {
   "metadata": {},
   "cell_type": "code",
   "outputs": [],
   "execution_count": null,
   "source": "##checar que use gpu yque se acompatible con tensorflow",
   "id": "9b5de40e46dd533b"
  }
 ],
 "metadata": {
  "kernelspec": {
   "display_name": "Python 3",
   "language": "python",
   "name": "python3"
  },
  "language_info": {
   "codemirror_mode": {
    "name": "ipython",
    "version": 2
   },
   "file_extension": ".py",
   "mimetype": "text/x-python",
   "name": "python",
   "nbconvert_exporter": "python",
   "pygments_lexer": "ipython2",
   "version": "2.7.6"
  }
 },
 "nbformat": 4,
 "nbformat_minor": 5
}
