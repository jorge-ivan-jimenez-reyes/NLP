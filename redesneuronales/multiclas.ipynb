{
 "cells": [
  {
   "cell_type": "code",
   "id": "initial_id",
   "metadata": {
    "collapsed": true,
    "ExecuteTime": {
     "end_time": "2025-03-27T22:10:37.144615Z",
     "start_time": "2025-03-27T22:10:37.118878Z"
    }
   },
   "source": [
    "import pandas as pd\n",
    "\n",
    "from redesneuronales.redes import y_train\n",
    "\n",
    "df = pd.read_csv('HateSpeech (1) (1).csv')\n",
    "df.head()"
   ],
   "outputs": [
    {
     "ename": "ModuleNotFoundError",
     "evalue": "No module named 'redesneuronales.redes'",
     "output_type": "error",
     "traceback": [
      "\u001B[1;31m---------------------------------------------------------------------------\u001B[0m",
      "\u001B[1;31mModuleNotFoundError\u001B[0m                       Traceback (most recent call last)",
      "Cell \u001B[1;32mIn[22], line 3\u001B[0m\n\u001B[0;32m      1\u001B[0m \u001B[38;5;28;01mimport\u001B[39;00m \u001B[38;5;21;01mpandas\u001B[39;00m \u001B[38;5;28;01mas\u001B[39;00m \u001B[38;5;21;01mpd\u001B[39;00m\n\u001B[1;32m----> 3\u001B[0m \u001B[38;5;28;01mfrom\u001B[39;00m \u001B[38;5;21;01mredesneuronales\u001B[39;00m\u001B[38;5;21;01m.\u001B[39;00m\u001B[38;5;21;01mredes\u001B[39;00m \u001B[38;5;28;01mimport\u001B[39;00m y_train\n\u001B[0;32m      5\u001B[0m df \u001B[38;5;241m=\u001B[39m pd\u001B[38;5;241m.\u001B[39mread_csv(\u001B[38;5;124m'\u001B[39m\u001B[38;5;124mHateSpeech (1) (1).csv\u001B[39m\u001B[38;5;124m'\u001B[39m)\n\u001B[0;32m      6\u001B[0m df\u001B[38;5;241m.\u001B[39mhead()\n",
      "\u001B[1;31mModuleNotFoundError\u001B[0m: No module named 'redesneuronales.redes'"
     ]
    }
   ],
   "execution_count": 22
  },
  {
   "metadata": {
    "ExecuteTime": {
     "end_time": "2025-03-27T22:10:41.761110Z",
     "start_time": "2025-03-27T22:10:41.719853Z"
    }
   },
   "cell_type": "code",
   "source": [
    "df = df[['class', 'tweet']]\n",
    "df.head()"
   ],
   "id": "379fb05c9315e789",
   "outputs": [
    {
     "data": {
      "text/plain": [
       "   class                                              tweet\n",
       "0      2  !!! RT @mayasolovely: As a woman you shouldn't...\n",
       "1      1  !!!!! RT @mleew17: boy dats cold...tyga dwn ba...\n",
       "2      1  !!!!!!! RT @UrKindOfBrand Dawg!!!! RT @80sbaby...\n",
       "3      1  !!!!!!!!! RT @C_G_Anderson: @viva_based she lo...\n",
       "4      1  !!!!!!!!!!!!! RT @ShenikaRoberts: The shit you..."
      ],
      "text/html": [
       "<div>\n",
       "<style scoped>\n",
       "    .dataframe tbody tr th:only-of-type {\n",
       "        vertical-align: middle;\n",
       "    }\n",
       "\n",
       "    .dataframe tbody tr th {\n",
       "        vertical-align: top;\n",
       "    }\n",
       "\n",
       "    .dataframe thead th {\n",
       "        text-align: right;\n",
       "    }\n",
       "</style>\n",
       "<table border=\"1\" class=\"dataframe\">\n",
       "  <thead>\n",
       "    <tr style=\"text-align: right;\">\n",
       "      <th></th>\n",
       "      <th>class</th>\n",
       "      <th>tweet</th>\n",
       "    </tr>\n",
       "  </thead>\n",
       "  <tbody>\n",
       "    <tr>\n",
       "      <th>0</th>\n",
       "      <td>2</td>\n",
       "      <td>!!! RT @mayasolovely: As a woman you shouldn't...</td>\n",
       "    </tr>\n",
       "    <tr>\n",
       "      <th>1</th>\n",
       "      <td>1</td>\n",
       "      <td>!!!!! RT @mleew17: boy dats cold...tyga dwn ba...</td>\n",
       "    </tr>\n",
       "    <tr>\n",
       "      <th>2</th>\n",
       "      <td>1</td>\n",
       "      <td>!!!!!!! RT @UrKindOfBrand Dawg!!!! RT @80sbaby...</td>\n",
       "    </tr>\n",
       "    <tr>\n",
       "      <th>3</th>\n",
       "      <td>1</td>\n",
       "      <td>!!!!!!!!! RT @C_G_Anderson: @viva_based she lo...</td>\n",
       "    </tr>\n",
       "    <tr>\n",
       "      <th>4</th>\n",
       "      <td>1</td>\n",
       "      <td>!!!!!!!!!!!!! RT @ShenikaRoberts: The shit you...</td>\n",
       "    </tr>\n",
       "  </tbody>\n",
       "</table>\n",
       "</div>"
      ]
     },
     "execution_count": 23,
     "metadata": {},
     "output_type": "execute_result"
    }
   ],
   "execution_count": 23
  },
  {
   "metadata": {
    "ExecuteTime": {
     "end_time": "2025-03-26T22:46:31.115458Z",
     "start_time": "2025-03-26T22:46:31.108585Z"
    }
   },
   "cell_type": "code",
   "source": "df['class'].unique()",
   "id": "a41a472a4757a7de",
   "outputs": [
    {
     "data": {
      "text/plain": [
       "array([2, 1, 0])"
      ]
     },
     "execution_count": 11,
     "metadata": {},
     "output_type": "execute_result"
    }
   ],
   "execution_count": 11
  },
  {
   "metadata": {
    "ExecuteTime": {
     "end_time": "2025-03-27T22:10:58.791645Z",
     "start_time": "2025-03-27T22:10:58.640045Z"
    }
   },
   "cell_type": "code",
   "source": "df['class'].value_counts().plot(kind='bar')",
   "id": "ba72872d895507e8",
   "outputs": [
    {
     "data": {
      "text/plain": [
       "<Axes: xlabel='class'>"
      ]
     },
     "execution_count": 24,
     "metadata": {},
     "output_type": "execute_result"
    },
    {
     "data": {
      "text/plain": [
       "<Figure size 640x480 with 1 Axes>"
      ],
      "image/png": "[encoded data removed]"
     },
     "metadata": {},
     "output_type": "display_data"
    }
   ],
   "execution_count": 24
  },
  {
   "metadata": {
    "ExecuteTime": {
     "end_time": "2025-03-27T22:11:02.768329Z",
     "start_time": "2025-03-27T22:11:01.879046Z"
    }
   },
   "cell_type": "code",
   "source": [
    "import spacy\n",
    "nlp = spacy.load('en_core_web_sm')\n"
   ],
   "id": "b3229df7e3aa6da7",
   "outputs": [],
   "execution_count": 25
  },
  {
   "metadata": {
    "ExecuteTime": {
     "end_time": "2025-03-27T22:15:26.653478Z",
     "start_time": "2025-03-27T22:11:06.380943Z"
    }
   },
   "cell_type": "code",
   "source": [
    "import contractions\n",
    "import re\n",
    "import nltk\n",
    "from nltk import word_tokenize\n",
    "from nltk.corpus import stopwords\n",
    "from nltk.stem.wordnet import WordNetLemmatizer\n",
    "from tqdm import tqdm\n",
    "import spacy\n",
    "\n",
    "# Descargar recursos de NLTK\n",
    "nltk.download('stopwords')\n",
    "nltk.download('punkt')\n",
    "nltk.download('wordnet')\n",
    "\n",
    "# spaCy: cargar modelo grande de inglés\n",
    "import spacy\n",
    "nlp = spacy.load(\"en_core_web_lg\")\n",
    "\n",
    "# Configurar stopwords y lematizador\n",
    "stopwords_en = stopwords.words('english')\n",
    "lemmatizer = WordNetLemmatizer()\n",
    "\n",
    "tqdm.pandas()\n",
    "\n",
    "# Función de preprocesamiento\n",
    "def preprocess(text):\n",
    "    # Expandir contracciones\n",
    "    text = contractions.fix(text)\n",
    "    # Quitar caracteres especiales y números\n",
    "    text = re.sub(r\"[^a-zA-Z\\s]\", \"\", text)\n",
    "    # Tokenizar\n",
    "    tokens = word_tokenize(text.lower())\n",
    "    # Quitar stopwords y lematizar\n",
    "    tokens = [lemmatizer.lemmatize(t) for t in tokens if t not in stopwords_en]\n",
    "    return \" \".join(tokens)\n",
    "\n",
    "# Vectorización con spaCy\n",
    "def vectorize(text):\n",
    "    doc = nlp(text)\n",
    "    return doc.vector  # retorna el vector del documento (promedio de tokens)\n",
    "\n",
    "# Aplicación en el DataFrame\n",
    "df['clean_tweet'] = df['tweet'].progress_apply(preprocess)\n",
    "df['vector'] = df['clean_tweet'].progress_apply(vectorize)\n"
   ],
   "id": "b0ee618cd483f8ae",
   "outputs": [
    {
     "name": "stderr",
     "output_type": "stream",
     "text": [
      "[nltk_data] Downloading package stopwords to\n",
      "[nltk_data]     C:\\Users\\jorge\\AppData\\Roaming\\nltk_data...\n",
      "[nltk_data]   Package stopwords is already up-to-date!\n",
      "[nltk_data] Downloading package punkt to\n",
      "[nltk_data]     C:\\Users\\jorge\\AppData\\Roaming\\nltk_data...\n",
      "[nltk_data]   Package punkt is already up-to-date!\n",
      "[nltk_data] Downloading package wordnet to\n",
      "[nltk_data]     C:\\Users\\jorge\\AppData\\Roaming\\nltk_data...\n",
      "[nltk_data]   Package wordnet is already up-to-date!\n",
      "100%|██████████| 24783/24783 [00:04<00:00, 5191.35it/s]\n",
      "100%|██████████| 24783/24783 [04:12<00:00, 98.33it/s] \n"
     ]
    }
   ],
   "execution_count": 26
  },
  {
   "metadata": {
    "ExecuteTime": {
     "end_time": "2025-03-26T22:55:46.254540Z",
     "start_time": "2025-03-26T22:51:28.992961Z"
    }
   },
   "cell_type": "code",
   "source": [
    "from tqdm import tqdm\n",
    "tqdm.pandas()\n",
    "df['vector'] = df['tweet'].progress_apply(vectorize)"
   ],
   "id": "c0dd25da9bfdf512",
   "outputs": [
    {
     "name": "stderr",
     "output_type": "stream",
     "text": [
      "100%|██████████| 24783/24783 [04:17<00:00, 96.34it/s] \n"
     ]
    }
   ],
   "execution_count": 19
  },
  {
   "metadata": {
    "ExecuteTime": {
     "end_time": "2025-03-26T23:03:50.905673Z",
     "start_time": "2025-03-26T23:03:50.884880Z"
    }
   },
   "cell_type": "code",
   "source": "df.head()",
   "id": "e31a8f888c6d3e88",
   "outputs": [
    {
     "data": {
      "text/plain": [
       "   class                                              tweet  \\\n",
       "0      2  !!! RT @mayasolovely: As a woman you shouldn't...   \n",
       "1      1  !!!!! RT @mleew17: boy dats cold...tyga dwn ba...   \n",
       "2      1  !!!!!!! RT @UrKindOfBrand Dawg!!!! RT @80sbaby...   \n",
       "3      1  !!!!!!!!! RT @C_G_Anderson: @viva_based she lo...   \n",
       "4      1  !!!!!!!!!!!!! RT @ShenikaRoberts: The shit you...   \n",
       "\n",
       "                                         clean_tweet  \\\n",
       "0  rt mayasolovely woman complain cleaning house ...   \n",
       "1  rt mleew boy dat coldtyga dwn bad cuffin dat h...   \n",
       "2  rt urkindofbrand dawg rt sbabylife ever fuck b...   \n",
       "3           rt cganderson vivabased look like tranny   \n",
       "4  rt shenikaroberts shit hear might true might f...   \n",
       "\n",
       "                                              vector  \n",
       "0  [-0.07505301, 0.1915238, -0.12692589, -0.06303...  \n",
       "1  [-0.12701173, 0.11966555, 0.07483304, -0.22008...  \n",
       "2  [-0.19659114, 0.1531408, -0.009106409, -0.1411...  \n",
       "3  [-0.117813505, 0.1942591, 0.040762678, -0.1087...  \n",
       "4  [-0.15921175, 0.22921783, -0.036085773, -0.115...  "
      ],
      "text/html": [
       "<div>\n",
       "<style scoped>\n",
       "    .dataframe tbody tr th:only-of-type {\n",
       "        vertical-align: middle;\n",
       "    }\n",
       "\n",
       "    .dataframe tbody tr th {\n",
       "        vertical-align: top;\n",
       "    }\n",
       "\n",
       "    .dataframe thead th {\n",
       "        text-align: right;\n",
       "    }\n",
       "</style>\n",
       "<table border=\"1\" class=\"dataframe\">\n",
       "  <thead>\n",
       "    <tr style=\"text-align: right;\">\n",
       "      <th></th>\n",
       "      <th>class</th>\n",
       "      <th>tweet</th>\n",
       "      <th>clean_tweet</th>\n",
       "      <th>vector</th>\n",
       "    </tr>\n",
       "  </thead>\n",
       "  <tbody>\n",
       "    <tr>\n",
       "      <th>0</th>\n",
       "      <td>2</td>\n",
       "      <td>!!! RT @mayasolovely: As a woman you shouldn't...</td>\n",
       "      <td>rt mayasolovely woman complain cleaning house ...</td>\n",
       "      <td>[-0.07505301, 0.1915238, -0.12692589, -0.06303...</td>\n",
       "    </tr>\n",
       "    <tr>\n",
       "      <th>1</th>\n",
       "      <td>1</td>\n",
       "      <td>!!!!! RT @mleew17: boy dats cold...tyga dwn ba...</td>\n",
       "      <td>rt mleew boy dat coldtyga dwn bad cuffin dat h...</td>\n",
       "      <td>[-0.12701173, 0.11966555, 0.07483304, -0.22008...</td>\n",
       "    </tr>\n",
       "    <tr>\n",
       "      <th>2</th>\n",
       "      <td>1</td>\n",
       "      <td>!!!!!!! RT @UrKindOfBrand Dawg!!!! RT @80sbaby...</td>\n",
       "      <td>rt urkindofbrand dawg rt sbabylife ever fuck b...</td>\n",
       "      <td>[-0.19659114, 0.1531408, -0.009106409, -0.1411...</td>\n",
       "    </tr>\n",
       "    <tr>\n",
       "      <th>3</th>\n",
       "      <td>1</td>\n",
       "      <td>!!!!!!!!! RT @C_G_Anderson: @viva_based she lo...</td>\n",
       "      <td>rt cganderson vivabased look like tranny</td>\n",
       "      <td>[-0.117813505, 0.1942591, 0.040762678, -0.1087...</td>\n",
       "    </tr>\n",
       "    <tr>\n",
       "      <th>4</th>\n",
       "      <td>1</td>\n",
       "      <td>!!!!!!!!!!!!! RT @ShenikaRoberts: The shit you...</td>\n",
       "      <td>rt shenikaroberts shit hear might true might f...</td>\n",
       "      <td>[-0.15921175, 0.22921783, -0.036085773, -0.115...</td>\n",
       "    </tr>\n",
       "  </tbody>\n",
       "</table>\n",
       "</div>"
      ]
     },
     "execution_count": 20,
     "metadata": {},
     "output_type": "execute_result"
    }
   ],
   "execution_count": 20
  },
  {
   "metadata": {},
   "cell_type": "code",
   "outputs": [],
   "execution_count": null,
   "source": [
    "from sklearn import preprocessing\n",
    "    x = df['vector']\n",
    "    y= np.concatenate(X,axis=0)"
   ],
   "id": "ca0e8b2b23d36cc7"
  },
  {
   "metadata": {},
   "cell_type": "code",
   "outputs": [],
   "execution_count": null,
   "source": [
    "from tensorflow.keras.utils import to_categorical\n",
    "from sklearn.preprocessing import LabelEncoder\n",
    "\n",
    "label_encoder = LabelEncoder()\n",
    "y_encoded = label_encoder.fit_transform(df['class'])\n",
    "y_train = to_categorical(y_encoded)  # Convertir a one-hot encoding\n"
   ],
   "id": "a3c4e9da3d7c78ae"
  },
  {
   "metadata": {},
   "cell_type": "code",
   "outputs": [],
   "execution_count": null,
   "source": "y_train",
   "id": "427fb834a264fb76"
  },
  {
   "metadata": {},
   "cell_type": "code",
   "outputs": [],
   "execution_count": null,
   "source": [
    "model = Sequential()\n",
    "model.add(Dense(units=128, activation='relu', input_dim=300))\n",
    "model.add(Dense(units=128, activation='relu'))\n",
    "model.add(Dense(units=3, activation='softmax'))\n",
    "model.compile(optimizer=Adam(learning_rate=0.01), loss='categorical_crossentropy', metrics=['accuracy'])\n",
    "\n",
    "\n"
   ],
   "id": "a6ba9a798665ae1f"
  },
  {
   "metadata": {},
   "cell_type": "code",
   "outputs": [],
   "execution_count": null,
   "source": [
    "history = model.fit(x_train,\n",
    "                    y_train,\n",
    "                    batch_size=10,\n",
    "                    epochs=10,\n",
    "                    validation_data=(x_test,y_test))"
   ],
   "id": "8d07e5d377144707"
  },
  {
   "metadata": {},
   "cell_type": "code",
   "outputs": [],
   "execution_count": null,
   "source": "sns.lineplot(data=metrics)",
   "id": "74b4ab348d5671cb"
  },
  {
   "metadata": {
    "ExecuteTime": {
     "end_time": "2025-03-27T22:21:29.325063Z",
     "start_time": "2025-03-27T22:21:29.297244Z"
    }
   },
   "cell_type": "code",
   "source": [
    "y_pred = model.predict(X_test)\n",
    "y_pred"
   ],
   "id": "b19882fc7e853070",
   "outputs": [
    {
     "ename": "NameError",
     "evalue": "name 'model' is not defined",
     "output_type": "error",
     "traceback": [
      "\u001B[1;31m---------------------------------------------------------------------------\u001B[0m",
      "\u001B[1;31mNameError\u001B[0m                                 Traceback (most recent call last)",
      "Cell \u001B[1;32mIn[27], line 1\u001B[0m\n\u001B[1;32m----> 1\u001B[0m y_pred \u001B[38;5;241m=\u001B[39m \u001B[43mmodel\u001B[49m\u001B[38;5;241m.\u001B[39mpredict(X_test)\n\u001B[0;32m      2\u001B[0m y_pred\n",
      "\u001B[1;31mNameError\u001B[0m: name 'model' is not defined"
     ]
    }
   ],
   "execution_count": 27
  }
 ],
 "metadata": {
  "kernelspec": {
   "display_name": "Python 3",
   "language": "python",
   "name": "python3"
  },
  "language_info": {
   "codemirror_mode": {
    "name": "ipython",
    "version": 2
   },
   "file_extension": ".py",
   "mimetype": "text/x-python",
   "name": "python",
   "nbconvert_exporter": "python",
   "pygments_lexer": "ipython2",
   "version": "2.7.6"
  }
 },
 "nbformat": 4,
 "nbformat_minor": 5
}
