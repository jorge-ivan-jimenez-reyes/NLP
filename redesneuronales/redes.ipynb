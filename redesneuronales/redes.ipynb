{
 "cells": [
  {
   "metadata": {
    "collapsed": true,
    "ExecuteTime": {
     "end_time": "2025-03-21T02:59:42.485877Z",
     "start_time": "2025-03-21T02:59:42.449229Z"
    }
   },
   "cell_type": "code",
   "source": [
    "import pandas as pd\n",
    "df = pd.read_csv('clickbait_dataset.csv')\n",
    "df.head()\n"
   ],
   "id": "initial_id",
   "outputs": [
    {
     "data": {
      "text/plain": [
       "                                            headline  clickbait\n",
       "0  This Is What $1 USD Gets You In Food All Aroun...          1\n",
       "1  Make These Easy Chicken Fajita Quesadillas At ...          1\n",
       "2  The Hardest \"Walking Dead\" Video Game Quiz You...          1\n",
       "3  34 Online Shops Based In The Southeast You Sho...          1\n",
       "4  US and France to work together for new Iran sa...          0"
      ],
      "text/html": [
       "<div>\n",
       "<style scoped>\n",
       "    .dataframe tbody tr th:only-of-type {\n",
       "        vertical-align: middle;\n",
       "    }\n",
       "\n",
       "    .dataframe tbody tr th {\n",
       "        vertical-align: top;\n",
       "    }\n",
       "\n",
       "    .dataframe thead th {\n",
       "        text-align: right;\n",
       "    }\n",
       "</style>\n",
       "<table border=\"1\" class=\"dataframe\">\n",
       "  <thead>\n",
       "    <tr style=\"text-align: right;\">\n",
       "      <th></th>\n",
       "      <th>headline</th>\n",
       "      <th>clickbait</th>\n",
       "    </tr>\n",
       "  </thead>\n",
       "  <tbody>\n",
       "    <tr>\n",
       "      <th>0</th>\n",
       "      <td>This Is What $1 USD Gets You In Food All Aroun...</td>\n",
       "      <td>1</td>\n",
       "    </tr>\n",
       "    <tr>\n",
       "      <th>1</th>\n",
       "      <td>Make These Easy Chicken Fajita Quesadillas At ...</td>\n",
       "      <td>1</td>\n",
       "    </tr>\n",
       "    <tr>\n",
       "      <th>2</th>\n",
       "      <td>The Hardest \"Walking Dead\" Video Game Quiz You...</td>\n",
       "      <td>1</td>\n",
       "    </tr>\n",
       "    <tr>\n",
       "      <th>3</th>\n",
       "      <td>34 Online Shops Based In The Southeast You Sho...</td>\n",
       "      <td>1</td>\n",
       "    </tr>\n",
       "    <tr>\n",
       "      <th>4</th>\n",
       "      <td>US and France to work together for new Iran sa...</td>\n",
       "      <td>0</td>\n",
       "    </tr>\n",
       "  </tbody>\n",
       "</table>\n",
       "</div>"
      ]
     },
     "execution_count": 1,
     "metadata": {},
     "output_type": "execute_result"
    }
   ],
   "execution_count": 1
  },
  {
   "metadata": {
    "ExecuteTime": {
     "end_time": "2025-03-21T02:59:42.500299Z",
     "start_time": "2025-03-21T02:59:42.495235Z"
    }
   },
   "cell_type": "code",
   "source": "df = df.dropna()\n",
   "id": "feed999458a94f75",
   "outputs": [],
   "execution_count": 2
  },
  {
   "metadata": {
    "ExecuteTime": {
     "end_time": "2025-03-21T02:59:44.041980Z",
     "start_time": "2025-03-21T02:59:42.516709Z"
    }
   },
   "cell_type": "code",
   "source": [
    "import ssl\n",
    "import nltk\n",
    "\n",
    "try:\n",
    "    _create_unverified_https_context = ssl._create_unverified_context\n",
    "except AttributeError:\n",
    "    pass\n",
    "else:\n",
    "    ssl._create_default_https_context = _create_unverified_https_context\n",
    "\n",
    "nltk.download('punkt')  # Asegúrate de que 'punkt' es el paquete correcto\n"
   ],
   "id": "347787ddc135cf18",
   "outputs": [
    {
     "name": "stderr",
     "output_type": "stream",
     "text": [
      "[nltk_data] Downloading package punkt to\n",
      "[nltk_data]     /Users/jorgejimenez/nltk_data...\n",
      "[nltk_data]   Package punkt is already up-to-date!\n"
     ]
    },
    {
     "data": {
      "text/plain": [
       "True"
      ]
     },
     "execution_count": 3,
     "metadata": {},
     "output_type": "execute_result"
    }
   ],
   "execution_count": 3
  },
  {
   "metadata": {
    "ExecuteTime": {
     "end_time": "2025-03-21T02:59:44.064474Z",
     "start_time": "2025-03-21T02:59:44.062802Z"
    }
   },
   "cell_type": "code",
   "source": "",
   "id": "9c5f40de4dd24096",
   "outputs": [],
   "execution_count": null
  },
  {
   "metadata": {
    "ExecuteTime": {
     "end_time": "2025-03-21T03:01:02.175273Z",
     "start_time": "2025-03-21T02:59:44.094396Z"
    }
   },
   "cell_type": "code",
   "source": [
    "import numpy as np\n",
    "embeddings ={}\n",
    "with open('/Users/jorgejimenez/Documents/UP/NLP/simcos/glove.42B.300d.txt', encoding='utf-8') as f:\n",
    "  for line in f:\n",
    "    values = line.split()\n",
    "    word = values[0]\n",
    "    vectors = np.asarray(values[1:])\n",
    "    embeddings[word] = vectors"
   ],
   "id": "91cf58a1ba959881",
   "outputs": [],
   "execution_count": 4
  },
  {
   "metadata": {
    "ExecuteTime": {
     "end_time": "2025-03-21T03:01:04.630639Z",
     "start_time": "2025-03-21T03:01:04.430028Z"
    }
   },
   "cell_type": "code",
   "source": [
    "import contractions               #Won't -> will not\n",
    "import re                         #Regex\n",
    "import nltk                       #Tokenizar texto\n",
    "from nltk import word_tokenize\n",
    "from nltk.corpus import stopwords\n",
    "from nltk.stem.wordnet import WordNetLemmatizer\n",
    "from tqdm import tqdm\n",
    "\n",
    "nltk.download('stopwords')\n",
    "nltk.download('punkt')\n",
    "nltk.download('wordnet')\n",
    "nltk.download('punkt_tab')\n",
    "\n",
    "stopwords_en = stopwords.words('english')\n",
    "lemmatizer = WordNetLemmatizer()\n",
    "tqdm.pandas()"
   ],
   "id": "1c2cfc483b0913d3",
   "outputs": [
    {
     "name": "stderr",
     "output_type": "stream",
     "text": [
      "[nltk_data] Downloading package stopwords to\n",
      "[nltk_data]     /Users/jorgejimenez/nltk_data...\n",
      "[nltk_data]   Package stopwords is already up-to-date!\n",
      "[nltk_data] Downloading package punkt to\n",
      "[nltk_data]     /Users/jorgejimenez/nltk_data...\n",
      "[nltk_data]   Package punkt is already up-to-date!\n",
      "[nltk_data] Downloading package wordnet to\n",
      "[nltk_data]     /Users/jorgejimenez/nltk_data...\n",
      "[nltk_data]   Package wordnet is already up-to-date!\n",
      "[nltk_data] Downloading package punkt_tab to\n",
      "[nltk_data]     /Users/jorgejimenez/nltk_data...\n",
      "[nltk_data]   Package punkt_tab is already up-to-date!\n"
     ]
    }
   ],
   "execution_count": 5
  },
  {
   "metadata": {
    "ExecuteTime": {
     "end_time": "2025-03-21T03:01:05.157667Z",
     "start_time": "2025-03-21T03:01:05.151274Z"
    }
   },
   "cell_type": "code",
   "source": [
    "def vectorize(texto):\n",
    "  vector_size = 300 #Dependiento del archivo de glove -> glove.6B.300d.txt\n",
    "\n",
    "  #Todo a minusculas\n",
    "  texto = texto.lower()\n",
    "\n",
    "  #Contracciones\n",
    "  texto = contractions.fix(texto)\n",
    "\n",
    "  #Regex para quitar todo lo que no sea letra\n",
    "  texto = re.sub(r'[^a-z\\s]','', texto)\n",
    "\n",
    "  #Quitar stop words\n",
    "  texto = word_tokenize(texto)\n",
    "\n",
    "  #Eliminar stopwords\n",
    "  texto = [token for token in texto if token not in stopwords_en]\n",
    "\n",
    "  #Lemmatizar\n",
    "  texto = [lemmatizer.lemmatize(word) for word in texto]\n",
    "\n",
    "  #Generar vector (sumar linealmente)\n",
    "  vector = np.zeros(vector_size)\n",
    "\n",
    "  for word in texto:\n",
    "    if word in embeddings:\n",
    "      vector += embeddings[word].astype(float)\n",
    "\n",
    "  vector = vector.reshape(1, -1)[0] #Una fila, columans necesarias\n",
    "\n",
    "  return vector"
   ],
   "id": "510f58d13c933145",
   "outputs": [],
   "execution_count": 6
  },
  {
   "metadata": {
    "ExecuteTime": {
     "end_time": "2025-03-21T03:01:24.906652Z",
     "start_time": "2025-03-21T03:01:05.162046Z"
    }
   },
   "cell_type": "code",
   "source": [
    "from tqdm import tqdm\n",
    "nltk.download('punk_tab')\n",
    "tqdm.pandas()\n",
    "df['vector'] = df['headline'].progress_apply(vectorize)\n"
   ],
   "id": "1243a5c11e8e0870",
   "outputs": [
    {
     "name": "stderr",
     "output_type": "stream",
     "text": [
      "[nltk_data] Error loading punk_tab: Package 'punk_tab' not found in\n",
      "[nltk_data]     index\n",
      "100%|██████████| 32000/32000 [00:19<00:00, 1628.58it/s]\n"
     ]
    }
   ],
   "execution_count": 7
  },
  {
   "metadata": {
    "ExecuteTime": {
     "end_time": "2025-03-21T03:01:25.500071Z",
     "start_time": "2025-03-21T03:01:25.489433Z"
    }
   },
   "cell_type": "code",
   "source": "df.head()",
   "id": "2efee60e776a7f77",
   "outputs": [
    {
     "data": {
      "text/plain": [
       "                                            headline  clickbait  \\\n",
       "0  This Is What $1 USD Gets You In Food All Aroun...          1   \n",
       "1  Make These Easy Chicken Fajita Quesadillas At ...          1   \n",
       "2  The Hardest \"Walking Dead\" Video Game Quiz You...          1   \n",
       "3  34 Online Shops Based In The Southeast You Sho...          1   \n",
       "4  US and France to work together for new Iran sa...          0   \n",
       "\n",
       "                                              vector  \n",
       "0  [0.3411369999999999, 0.016487000000000016, 0.2...  \n",
       "1  [-0.40621599999999997, -1.1668068399999998, 1....  \n",
       "2  [-2.3220799999999997, 2.40599, 1.121831, -0.07...  \n",
       "3  [1.675697, 0.37274699999999994, 0.892619, -1.4...  \n",
       "4  [0.31207199999999996, 2.1173759999999997, -0.1...  "
      ],
      "text/html": [
       "<div>\n",
       "<style scoped>\n",
       "    .dataframe tbody tr th:only-of-type {\n",
       "        vertical-align: middle;\n",
       "    }\n",
       "\n",
       "    .dataframe tbody tr th {\n",
       "        vertical-align: top;\n",
       "    }\n",
       "\n",
       "    .dataframe thead th {\n",
       "        text-align: right;\n",
       "    }\n",
       "</style>\n",
       "<table border=\"1\" class=\"dataframe\">\n",
       "  <thead>\n",
       "    <tr style=\"text-align: right;\">\n",
       "      <th></th>\n",
       "      <th>headline</th>\n",
       "      <th>clickbait</th>\n",
       "      <th>vector</th>\n",
       "    </tr>\n",
       "  </thead>\n",
       "  <tbody>\n",
       "    <tr>\n",
       "      <th>0</th>\n",
       "      <td>This Is What $1 USD Gets You In Food All Aroun...</td>\n",
       "      <td>1</td>\n",
       "      <td>[0.3411369999999999, 0.016487000000000016, 0.2...</td>\n",
       "    </tr>\n",
       "    <tr>\n",
       "      <th>1</th>\n",
       "      <td>Make These Easy Chicken Fajita Quesadillas At ...</td>\n",
       "      <td>1</td>\n",
       "      <td>[-0.40621599999999997, -1.1668068399999998, 1....</td>\n",
       "    </tr>\n",
       "    <tr>\n",
       "      <th>2</th>\n",
       "      <td>The Hardest \"Walking Dead\" Video Game Quiz You...</td>\n",
       "      <td>1</td>\n",
       "      <td>[-2.3220799999999997, 2.40599, 1.121831, -0.07...</td>\n",
       "    </tr>\n",
       "    <tr>\n",
       "      <th>3</th>\n",
       "      <td>34 Online Shops Based In The Southeast You Sho...</td>\n",
       "      <td>1</td>\n",
       "      <td>[1.675697, 0.37274699999999994, 0.892619, -1.4...</td>\n",
       "    </tr>\n",
       "    <tr>\n",
       "      <th>4</th>\n",
       "      <td>US and France to work together for new Iran sa...</td>\n",
       "      <td>0</td>\n",
       "      <td>[0.31207199999999996, 2.1173759999999997, -0.1...</td>\n",
       "    </tr>\n",
       "  </tbody>\n",
       "</table>\n",
       "</div>"
      ]
     },
     "execution_count": 8,
     "metadata": {},
     "output_type": "execute_result"
    }
   ],
   "execution_count": 8
  },
  {
   "metadata": {
    "ExecuteTime": {
     "end_time": "2025-03-21T03:01:26.297606Z",
     "start_time": "2025-03-21T03:01:26.051178Z"
    }
   },
   "cell_type": "code",
   "source": [
    "from sklearn.model_selection import train_test_split\n",
    "X = df['vector']\n",
    "X = np.concatenate(X, axis = 0).reshape(-1, 300)\n",
    "y = df['clickbait']\n",
    "X_train, X_test, y_train, y_test = train_test_split(X, y,\n",
    "                                                    test_size = 0.7,\n",
    "                                                    random_state = 101)\n"
   ],
   "id": "59314614ba8eeac7",
   "outputs": [],
   "execution_count": 9
  },
  {
   "metadata": {
    "ExecuteTime": {
     "end_time": "2025-03-21T03:01:26.338004Z",
     "start_time": "2025-03-21T03:01:26.334783Z"
    }
   },
   "cell_type": "code",
   "source": [
    "#aqruitecura de redes neuronales\n",
    "#pytorch"
   ],
   "id": "b6909dab92deab3a",
   "outputs": [],
   "execution_count": 10
  },
  {
   "metadata": {
    "ExecuteTime": {
     "end_time": "2025-03-21T03:01:33.435738Z",
     "start_time": "2025-03-21T03:01:26.848500Z"
    }
   },
   "cell_type": "code",
   "source": [
    "import tensorflow as tf\n",
    "\n",
    "print(\"Versión de TensorFlow:\", tf.__version__)\n",
    "\n",
    "gpus = tf.config.list_physical_devices('GPU')\n",
    "if gpus:\n",
    "    print(\"GPU detectada:\", gpus)\n",
    "else:\n",
    "    print(\"No se detectó una GPU\")\n"
   ],
   "id": "e084f0a34162c057",
   "outputs": [
    {
     "name": "stdout",
     "output_type": "stream",
     "text": [
      "Versión de TensorFlow: 2.16.2\n",
      "GPU detectada: [PhysicalDevice(name='/physical_device:GPU:0', device_type='GPU')]\n"
     ]
    }
   ],
   "execution_count": 11
  },
  {
   "metadata": {
    "ExecuteTime": {
     "end_time": "2025-03-21T03:01:33.464928Z",
     "start_time": "2025-03-21T03:01:33.460331Z"
    }
   },
   "cell_type": "code",
   "source": [
    "import tensorflow as tf\n",
    "import keras\n",
    "\n",
    "print(\"TensorFlow:\", tf.__version__)\n",
    "print(\"Keras:\", keras.__version__)\n"
   ],
   "id": "f420526ac97f5cb8",
   "outputs": [
    {
     "name": "stdout",
     "output_type": "stream",
     "text": [
      "TensorFlow: 2.16.2\n",
      "Keras: 3.6.0\n"
     ]
    }
   ],
   "execution_count": 12
  },
  {
   "metadata": {
    "ExecuteTime": {
     "end_time": "2025-03-21T03:01:34.129139Z",
     "start_time": "2025-03-21T03:01:34.111208Z"
    }
   },
   "cell_type": "code",
   "source": [
    "from tensorflow import keras\n",
    "from tensorflow.keras.models import Sequential\n",
    "from tensorflow.keras.layers import Dense, Input\n",
    "from tensorflow.keras.optimizers import Adam\n"
   ],
   "id": "bd6252e0f07cef6d",
   "outputs": [],
   "execution_count": 13
  },
  {
   "metadata": {
    "ExecuteTime": {
     "end_time": "2025-03-21T03:01:35.410548Z",
     "start_time": "2025-03-21T03:01:35.132109Z"
    }
   },
   "cell_type": "code",
   "source": [
    "model = Sequential([\n",
    "    Input(shape=(300,)),  # Definir la forma de entrada aquí\n",
    "    Dense(128, activation='relu'),\n",
    "    Dense(256, activation='relu'),\n",
    "    Dense(1, activation='sigmoid')\n",
    "])"
   ],
   "id": "e63e1f410119c9d6",
   "outputs": [],
   "execution_count": 14
  },
  {
   "metadata": {
    "ExecuteTime": {
     "end_time": "2025-03-21T03:01:35.428721Z",
     "start_time": "2025-03-21T03:01:35.414489Z"
    }
   },
   "cell_type": "code",
   "source": "model.compile(optimizer=Adam(learning_rate=0.001), loss='binary_crossentropy', metrics=['accuracy'])",
   "id": "69c6772183a4512e",
   "outputs": [],
   "execution_count": 15
  },
  {
   "metadata": {
    "ExecuteTime": {
     "end_time": "2025-03-21T03:01:36.568330Z",
     "start_time": "2025-03-21T03:01:36.558506Z"
    }
   },
   "cell_type": "code",
   "source": "model.summary()",
   "id": "ceba5e61ab603db1",
   "outputs": [
    {
     "data": {
      "text/plain": [
       "\u001B[1mModel: \"sequential\"\u001B[0m\n"
      ],
      "text/html": [
       "<pre style=\"white-space:pre;overflow-x:auto;line-height:normal;font-family:Menlo,'DejaVu Sans Mono',consolas,'Courier New',monospace\"><span style=\"font-weight: bold\">Model: \"sequential\"</span>\n",
       "</pre>\n"
      ]
     },
     "metadata": {},
     "output_type": "display_data"
    },
    {
     "data": {
      "text/plain": [
       "┏━━━━━━━━━━━━━━━━━━━━━━━━━━━━━━━━━┳━━━━━━━━━━━━━━━━━━━━━━━━┳━━━━━━━━━━━━━━━┓\n",
       "┃\u001B[1m \u001B[0m\u001B[1mLayer (type)                   \u001B[0m\u001B[1m \u001B[0m┃\u001B[1m \u001B[0m\u001B[1mOutput Shape          \u001B[0m\u001B[1m \u001B[0m┃\u001B[1m \u001B[0m\u001B[1m      Param #\u001B[0m\u001B[1m \u001B[0m┃\n",
       "┡━━━━━━━━━━━━━━━━━━━━━━━━━━━━━━━━━╇━━━━━━━━━━━━━━━━━━━━━━━━╇━━━━━━━━━━━━━━━┩\n",
       "│ dense (\u001B[38;5;33mDense\u001B[0m)                   │ (\u001B[38;5;45mNone\u001B[0m, \u001B[38;5;34m128\u001B[0m)            │        \u001B[38;5;34m38,528\u001B[0m │\n",
       "├─────────────────────────────────┼────────────────────────┼───────────────┤\n",
       "│ dense_1 (\u001B[38;5;33mDense\u001B[0m)                 │ (\u001B[38;5;45mNone\u001B[0m, \u001B[38;5;34m256\u001B[0m)            │        \u001B[38;5;34m33,024\u001B[0m │\n",
       "├─────────────────────────────────┼────────────────────────┼───────────────┤\n",
       "│ dense_2 (\u001B[38;5;33mDense\u001B[0m)                 │ (\u001B[38;5;45mNone\u001B[0m, \u001B[38;5;34m1\u001B[0m)              │           \u001B[38;5;34m257\u001B[0m │\n",
       "└─────────────────────────────────┴────────────────────────┴───────────────┘\n"
      ],
      "text/html": [
       "<pre style=\"white-space:pre;overflow-x:auto;line-height:normal;font-family:Menlo,'DejaVu Sans Mono',consolas,'Courier New',monospace\">┏━━━━━━━━━━━━━━━━━━━━━━━━━━━━━━━━━┳━━━━━━━━━━━━━━━━━━━━━━━━┳━━━━━━━━━━━━━━━┓\n",
       "┃<span style=\"font-weight: bold\"> Layer (type)                    </span>┃<span style=\"font-weight: bold\"> Output Shape           </span>┃<span style=\"font-weight: bold\">       Param # </span>┃\n",
       "┡━━━━━━━━━━━━━━━━━━━━━━━━━━━━━━━━━╇━━━━━━━━━━━━━━━━━━━━━━━━╇━━━━━━━━━━━━━━━┩\n",
       "│ dense (<span style=\"color: #0087ff; text-decoration-color: #0087ff\">Dense</span>)                   │ (<span style=\"color: #00d7ff; text-decoration-color: #00d7ff\">None</span>, <span style=\"color: #00af00; text-decoration-color: #00af00\">128</span>)            │        <span style=\"color: #00af00; text-decoration-color: #00af00\">38,528</span> │\n",
       "├─────────────────────────────────┼────────────────────────┼───────────────┤\n",
       "│ dense_1 (<span style=\"color: #0087ff; text-decoration-color: #0087ff\">Dense</span>)                 │ (<span style=\"color: #00d7ff; text-decoration-color: #00d7ff\">None</span>, <span style=\"color: #00af00; text-decoration-color: #00af00\">256</span>)            │        <span style=\"color: #00af00; text-decoration-color: #00af00\">33,024</span> │\n",
       "├─────────────────────────────────┼────────────────────────┼───────────────┤\n",
       "│ dense_2 (<span style=\"color: #0087ff; text-decoration-color: #0087ff\">Dense</span>)                 │ (<span style=\"color: #00d7ff; text-decoration-color: #00d7ff\">None</span>, <span style=\"color: #00af00; text-decoration-color: #00af00\">1</span>)              │           <span style=\"color: #00af00; text-decoration-color: #00af00\">257</span> │\n",
       "└─────────────────────────────────┴────────────────────────┴───────────────┘\n",
       "</pre>\n"
      ]
     },
     "metadata": {},
     "output_type": "display_data"
    },
    {
     "data": {
      "text/plain": [
       "\u001B[1m Total params: \u001B[0m\u001B[38;5;34m71,809\u001B[0m (280.50 KB)\n"
      ],
      "text/html": [
       "<pre style=\"white-space:pre;overflow-x:auto;line-height:normal;font-family:Menlo,'DejaVu Sans Mono',consolas,'Courier New',monospace\"><span style=\"font-weight: bold\"> Total params: </span><span style=\"color: #00af00; text-decoration-color: #00af00\">71,809</span> (280.50 KB)\n",
       "</pre>\n"
      ]
     },
     "metadata": {},
     "output_type": "display_data"
    },
    {
     "data": {
      "text/plain": [
       "\u001B[1m Trainable params: \u001B[0m\u001B[38;5;34m71,809\u001B[0m (280.50 KB)\n"
      ],
      "text/html": [
       "<pre style=\"white-space:pre;overflow-x:auto;line-height:normal;font-family:Menlo,'DejaVu Sans Mono',consolas,'Courier New',monospace\"><span style=\"font-weight: bold\"> Trainable params: </span><span style=\"color: #00af00; text-decoration-color: #00af00\">71,809</span> (280.50 KB)\n",
       "</pre>\n"
      ]
     },
     "metadata": {},
     "output_type": "display_data"
    },
    {
     "data": {
      "text/plain": [
       "\u001B[1m Non-trainable params: \u001B[0m\u001B[38;5;34m0\u001B[0m (0.00 B)\n"
      ],
      "text/html": [
       "<pre style=\"white-space:pre;overflow-x:auto;line-height:normal;font-family:Menlo,'DejaVu Sans Mono',consolas,'Courier New',monospace\"><span style=\"font-weight: bold\"> Non-trainable params: </span><span style=\"color: #00af00; text-decoration-color: #00af00\">0</span> (0.00 B)\n",
       "</pre>\n"
      ]
     },
     "metadata": {},
     "output_type": "display_data"
    }
   ],
   "execution_count": 16
  },
  {
   "metadata": {
    "ExecuteTime": {
     "end_time": "2025-03-21T03:27:18.222063Z",
     "start_time": "2025-03-21T03:21:51.854267Z"
    }
   },
   "cell_type": "code",
   "source": "history = model.fit(X_train, y_train, epochs=100, batch_size=30, validation_data=(X_test, y_test))",
   "id": "4899889d35de8df4",
   "outputs": [
    {
     "name": "stdout",
     "output_type": "stream",
     "text": [
      "Epoch 1/100\n",
      "\u001B[1m320/320\u001B[0m \u001B[32m━━━━━━━━━━━━━━━━━━━━\u001B[0m\u001B[37m\u001B[0m \u001B[1m4s\u001B[0m 11ms/step - accuracy: 1.0000 - loss: 0.0000e+00 - val_accuracy: 0.9471 - val_loss: 0.9844\n",
      "Epoch 2/100\n",
      "\u001B[1m320/320\u001B[0m \u001B[32m━━━━━━━━━━━━━━━━━━━━\u001B[0m\u001B[37m\u001B[0m \u001B[1m3s\u001B[0m 10ms/step - accuracy: 1.0000 - loss: 0.0000e+00 - val_accuracy: 0.9469 - val_loss: 0.9856\n",
      "Epoch 3/100\n",
      "\u001B[1m320/320\u001B[0m \u001B[32m━━━━━━━━━━━━━━━━━━━━\u001B[0m\u001B[37m\u001B[0m \u001B[1m3s\u001B[0m 11ms/step - accuracy: 1.0000 - loss: 3.4692e-11 - val_accuracy: 0.9471 - val_loss: 0.9785\n",
      "Epoch 4/100\n",
      "\u001B[1m320/320\u001B[0m \u001B[32m━━━━━━━━━━━━━━━━━━━━\u001B[0m\u001B[37m\u001B[0m \u001B[1m3s\u001B[0m 11ms/step - accuracy: 1.0000 - loss: 0.0000e+00 - val_accuracy: 0.9468 - val_loss: 0.9798\n",
      "Epoch 5/100\n",
      "\u001B[1m320/320\u001B[0m \u001B[32m━━━━━━━━━━━━━━━━━━━━\u001B[0m\u001B[37m\u001B[0m \u001B[1m3s\u001B[0m 11ms/step - accuracy: 1.0000 - loss: 0.0000e+00 - val_accuracy: 0.9467 - val_loss: 0.9809\n",
      "Epoch 6/100\n",
      "\u001B[1m320/320\u001B[0m \u001B[32m━━━━━━━━━━━━━━━━━━━━\u001B[0m\u001B[37m\u001B[0m \u001B[1m3s\u001B[0m 10ms/step - accuracy: 1.0000 - loss: 0.0000e+00 - val_accuracy: 0.9468 - val_loss: 0.9822\n",
      "Epoch 7/100\n",
      "\u001B[1m320/320\u001B[0m \u001B[32m━━━━━━━━━━━━━━━━━━━━\u001B[0m\u001B[37m\u001B[0m \u001B[1m3s\u001B[0m 10ms/step - accuracy: 1.0000 - loss: 0.0000e+00 - val_accuracy: 0.9470 - val_loss: 0.9835\n",
      "Epoch 8/100\n",
      "\u001B[1m320/320\u001B[0m \u001B[32m━━━━━━━━━━━━━━━━━━━━\u001B[0m\u001B[37m\u001B[0m \u001B[1m3s\u001B[0m 10ms/step - accuracy: 1.0000 - loss: 0.0000e+00 - val_accuracy: 0.9467 - val_loss: 0.9847\n",
      "Epoch 9/100\n",
      "\u001B[1m320/320\u001B[0m \u001B[32m━━━━━━━━━━━━━━━━━━━━\u001B[0m\u001B[37m\u001B[0m \u001B[1m3s\u001B[0m 10ms/step - accuracy: 1.0000 - loss: 0.0000e+00 - val_accuracy: 0.9467 - val_loss: 0.9859\n",
      "Epoch 10/100\n",
      "\u001B[1m320/320\u001B[0m \u001B[32m━━━━━━━━━━━━━━━━━━━━\u001B[0m\u001B[37m\u001B[0m \u001B[1m3s\u001B[0m 10ms/step - accuracy: 1.0000 - loss: 0.0000e+00 - val_accuracy: 0.9471 - val_loss: 0.9838\n",
      "Epoch 11/100\n",
      "\u001B[1m320/320\u001B[0m \u001B[32m━━━━━━━━━━━━━━━━━━━━\u001B[0m\u001B[37m\u001B[0m \u001B[1m4s\u001B[0m 11ms/step - accuracy: 1.0000 - loss: 0.0000e+00 - val_accuracy: 0.9471 - val_loss: 0.9850\n",
      "Epoch 12/100\n",
      "\u001B[1m320/320\u001B[0m \u001B[32m━━━━━━━━━━━━━━━━━━━━\u001B[0m\u001B[37m\u001B[0m \u001B[1m3s\u001B[0m 10ms/step - accuracy: 1.0000 - loss: 0.0000e+00 - val_accuracy: 0.9471 - val_loss: 0.9861\n",
      "Epoch 13/100\n",
      "\u001B[1m320/320\u001B[0m \u001B[32m━━━━━━━━━━━━━━━━━━━━\u001B[0m\u001B[37m\u001B[0m \u001B[1m3s\u001B[0m 10ms/step - accuracy: 1.0000 - loss: 0.0000e+00 - val_accuracy: 0.9472 - val_loss: 0.9866\n",
      "Epoch 14/100\n",
      "\u001B[1m320/320\u001B[0m \u001B[32m━━━━━━━━━━━━━━━━━━━━\u001B[0m\u001B[37m\u001B[0m \u001B[1m3s\u001B[0m 11ms/step - accuracy: 1.0000 - loss: 8.3632e-13 - val_accuracy: 0.9472 - val_loss: 0.9844\n",
      "Epoch 15/100\n",
      "\u001B[1m320/320\u001B[0m \u001B[32m━━━━━━━━━━━━━━━━━━━━\u001B[0m\u001B[37m\u001B[0m \u001B[1m3s\u001B[0m 10ms/step - accuracy: 1.0000 - loss: 0.0000e+00 - val_accuracy: 0.9474 - val_loss: 0.9855\n",
      "Epoch 16/100\n",
      "\u001B[1m320/320\u001B[0m \u001B[32m━━━━━━━━━━━━━━━━━━━━\u001B[0m\u001B[37m\u001B[0m \u001B[1m3s\u001B[0m 10ms/step - accuracy: 1.0000 - loss: 0.0000e+00 - val_accuracy: 0.9469 - val_loss: 0.9868\n",
      "Epoch 17/100\n",
      "\u001B[1m320/320\u001B[0m \u001B[32m━━━━━━━━━━━━━━━━━━━━\u001B[0m\u001B[37m\u001B[0m \u001B[1m3s\u001B[0m 10ms/step - accuracy: 1.0000 - loss: 0.0000e+00 - val_accuracy: 0.9474 - val_loss: 0.9837\n",
      "Epoch 18/100\n",
      "\u001B[1m320/320\u001B[0m \u001B[32m━━━━━━━━━━━━━━━━━━━━\u001B[0m\u001B[37m\u001B[0m \u001B[1m3s\u001B[0m 10ms/step - accuracy: 1.0000 - loss: 0.0000e+00 - val_accuracy: 0.9471 - val_loss: 0.9842\n",
      "Epoch 19/100\n",
      "\u001B[1m320/320\u001B[0m \u001B[32m━━━━━━━━━━━━━━━━━━━━\u001B[0m\u001B[37m\u001B[0m \u001B[1m3s\u001B[0m 10ms/step - accuracy: 1.0000 - loss: 0.0000e+00 - val_accuracy: 0.9470 - val_loss: 0.9855\n",
      "Epoch 20/100\n",
      "\u001B[1m320/320\u001B[0m \u001B[32m━━━━━━━━━━━━━━━━━━━━\u001B[0m\u001B[37m\u001B[0m \u001B[1m4s\u001B[0m 11ms/step - accuracy: 1.0000 - loss: 0.0000e+00 - val_accuracy: 0.9469 - val_loss: 0.9866\n",
      "Epoch 21/100\n",
      "\u001B[1m320/320\u001B[0m \u001B[32m━━━━━━━━━━━━━━━━━━━━\u001B[0m\u001B[37m\u001B[0m \u001B[1m3s\u001B[0m 10ms/step - accuracy: 1.0000 - loss: 8.6772e-12 - val_accuracy: 0.9474 - val_loss: 0.9838\n",
      "Epoch 22/100\n",
      "\u001B[1m320/320\u001B[0m \u001B[32m━━━━━━━━━━━━━━━━━━━━\u001B[0m\u001B[37m\u001B[0m \u001B[1m3s\u001B[0m 10ms/step - accuracy: 1.0000 - loss: 0.0000e+00 - val_accuracy: 0.9471 - val_loss: 0.9851\n",
      "Epoch 23/100\n",
      "\u001B[1m320/320\u001B[0m \u001B[32m━━━━━━━━━━━━━━━━━━━━\u001B[0m\u001B[37m\u001B[0m \u001B[1m3s\u001B[0m 10ms/step - accuracy: 1.0000 - loss: 0.0000e+00 - val_accuracy: 0.9469 - val_loss: 0.9862\n",
      "Epoch 24/100\n",
      "\u001B[1m320/320\u001B[0m \u001B[32m━━━━━━━━━━━━━━━━━━━━\u001B[0m\u001B[37m\u001B[0m \u001B[1m3s\u001B[0m 10ms/step - accuracy: 1.0000 - loss: 0.0000e+00 - val_accuracy: 0.9470 - val_loss: 0.9846\n",
      "Epoch 25/100\n",
      "\u001B[1m320/320\u001B[0m \u001B[32m━━━━━━━━━━━━━━━━━━━━\u001B[0m\u001B[37m\u001B[0m \u001B[1m3s\u001B[0m 10ms/step - accuracy: 1.0000 - loss: 0.0000e+00 - val_accuracy: 0.9470 - val_loss: 0.9858\n",
      "Epoch 26/100\n",
      "\u001B[1m320/320\u001B[0m \u001B[32m━━━━━━━━━━━━━━━━━━━━\u001B[0m\u001B[37m\u001B[0m \u001B[1m3s\u001B[0m 10ms/step - accuracy: 1.0000 - loss: 0.0000e+00 - val_accuracy: 0.9469 - val_loss: 0.9869\n",
      "Epoch 27/100\n",
      "\u001B[1m320/320\u001B[0m \u001B[32m━━━━━━━━━━━━━━━━━━━━\u001B[0m\u001B[37m\u001B[0m \u001B[1m3s\u001B[0m 10ms/step - accuracy: 1.0000 - loss: 0.0000e+00 - val_accuracy: 0.9470 - val_loss: 0.9883\n",
      "Epoch 28/100\n",
      "\u001B[1m320/320\u001B[0m \u001B[32m━━━━━━━━━━━━━━━━━━━━\u001B[0m\u001B[37m\u001B[0m \u001B[1m3s\u001B[0m 10ms/step - accuracy: 1.0000 - loss: 0.0000e+00 - val_accuracy: 0.9473 - val_loss: 0.9831\n",
      "Epoch 29/100\n",
      "\u001B[1m320/320\u001B[0m \u001B[32m━━━━━━━━━━━━━━━━━━━━\u001B[0m\u001B[37m\u001B[0m \u001B[1m3s\u001B[0m 10ms/step - accuracy: 1.0000 - loss: 0.0000e+00 - val_accuracy: 0.9472 - val_loss: 0.9844\n",
      "Epoch 30/100\n",
      "\u001B[1m320/320\u001B[0m \u001B[32m━━━━━━━━━━━━━━━━━━━━\u001B[0m\u001B[37m\u001B[0m \u001B[1m3s\u001B[0m 11ms/step - accuracy: 1.0000 - loss: 0.0000e+00 - val_accuracy: 0.9474 - val_loss: 0.9856\n",
      "Epoch 31/100\n",
      "\u001B[1m320/320\u001B[0m \u001B[32m━━━━━━━━━━━━━━━━━━━━\u001B[0m\u001B[37m\u001B[0m \u001B[1m3s\u001B[0m 10ms/step - accuracy: 1.0000 - loss: 0.0000e+00 - val_accuracy: 0.9473 - val_loss: 0.9867\n",
      "Epoch 32/100\n",
      "\u001B[1m320/320\u001B[0m \u001B[32m━━━━━━━━━━━━━━━━━━━━\u001B[0m\u001B[37m\u001B[0m \u001B[1m3s\u001B[0m 10ms/step - accuracy: 1.0000 - loss: 0.0000e+00 - val_accuracy: 0.9471 - val_loss: 0.9865\n",
      "Epoch 33/100\n",
      "\u001B[1m320/320\u001B[0m \u001B[32m━━━━━━━━━━━━━━━━━━━━\u001B[0m\u001B[37m\u001B[0m \u001B[1m3s\u001B[0m 10ms/step - accuracy: 1.0000 - loss: 0.0000e+00 - val_accuracy: 0.9471 - val_loss: 0.9876\n",
      "Epoch 34/100\n",
      "\u001B[1m320/320\u001B[0m \u001B[32m━━━━━━━━━━━━━━━━━━━━\u001B[0m\u001B[37m\u001B[0m \u001B[1m3s\u001B[0m 10ms/step - accuracy: 1.0000 - loss: 0.0000e+00 - val_accuracy: 0.9471 - val_loss: 0.9887\n",
      "Epoch 35/100\n",
      "\u001B[1m320/320\u001B[0m \u001B[32m━━━━━━━━━━━━━━━━━━━━\u001B[0m\u001B[37m\u001B[0m \u001B[1m3s\u001B[0m 10ms/step - accuracy: 1.0000 - loss: 0.0000e+00 - val_accuracy: 0.9473 - val_loss: 0.9884\n",
      "Epoch 36/100\n",
      "\u001B[1m320/320\u001B[0m \u001B[32m━━━━━━━━━━━━━━━━━━━━\u001B[0m\u001B[37m\u001B[0m \u001B[1m3s\u001B[0m 10ms/step - accuracy: 1.0000 - loss: 0.0000e+00 - val_accuracy: 0.9472 - val_loss: 0.9896\n",
      "Epoch 37/100\n",
      "\u001B[1m320/320\u001B[0m \u001B[32m━━━━━━━━━━━━━━━━━━━━\u001B[0m\u001B[37m\u001B[0m \u001B[1m3s\u001B[0m 10ms/step - accuracy: 1.0000 - loss: 0.0000e+00 - val_accuracy: 0.9471 - val_loss: 0.9907\n",
      "Epoch 38/100\n",
      "\u001B[1m320/320\u001B[0m \u001B[32m━━━━━━━━━━━━━━━━━━━━\u001B[0m\u001B[37m\u001B[0m \u001B[1m3s\u001B[0m 10ms/step - accuracy: 1.0000 - loss: 0.0000e+00 - val_accuracy: 0.9472 - val_loss: 0.9879\n",
      "Epoch 39/100\n",
      "\u001B[1m320/320\u001B[0m \u001B[32m━━━━━━━━━━━━━━━━━━━━\u001B[0m\u001B[37m\u001B[0m \u001B[1m3s\u001B[0m 10ms/step - accuracy: 1.0000 - loss: 0.0000e+00 - val_accuracy: 0.9471 - val_loss: 0.9891\n",
      "Epoch 40/100\n",
      "\u001B[1m320/320\u001B[0m \u001B[32m━━━━━━━━━━━━━━━━━━━━\u001B[0m\u001B[37m\u001B[0m \u001B[1m3s\u001B[0m 10ms/step - accuracy: 1.0000 - loss: 0.0000e+00 - val_accuracy: 0.9472 - val_loss: 0.9877\n",
      "Epoch 41/100\n",
      "\u001B[1m320/320\u001B[0m \u001B[32m━━━━━━━━━━━━━━━━━━━━\u001B[0m\u001B[37m\u001B[0m \u001B[1m3s\u001B[0m 10ms/step - accuracy: 1.0000 - loss: 0.0000e+00 - val_accuracy: 0.9470 - val_loss: 0.9888\n",
      "Epoch 42/100\n",
      "\u001B[1m320/320\u001B[0m \u001B[32m━━━━━━━━━━━━━━━━━━━━\u001B[0m\u001B[37m\u001B[0m \u001B[1m3s\u001B[0m 10ms/step - accuracy: 1.0000 - loss: 0.0000e+00 - val_accuracy: 0.9469 - val_loss: 0.9899\n",
      "Epoch 43/100\n",
      "\u001B[1m320/320\u001B[0m \u001B[32m━━━━━━━━━━━━━━━━━━━━\u001B[0m\u001B[37m\u001B[0m \u001B[1m3s\u001B[0m 10ms/step - accuracy: 1.0000 - loss: 1.1281e-12 - val_accuracy: 0.9471 - val_loss: 0.9898\n",
      "Epoch 44/100\n",
      "\u001B[1m320/320\u001B[0m \u001B[32m━━━━━━━━━━━━━━━━━━━━\u001B[0m\u001B[37m\u001B[0m \u001B[1m3s\u001B[0m 10ms/step - accuracy: 1.0000 - loss: 0.0000e+00 - val_accuracy: 0.9468 - val_loss: 0.9908\n",
      "Epoch 45/100\n",
      "\u001B[1m320/320\u001B[0m \u001B[32m━━━━━━━━━━━━━━━━━━━━\u001B[0m\u001B[37m\u001B[0m \u001B[1m3s\u001B[0m 10ms/step - accuracy: 1.0000 - loss: 0.0000e+00 - val_accuracy: 0.9470 - val_loss: 0.9902\n",
      "Epoch 46/100\n",
      "\u001B[1m320/320\u001B[0m \u001B[32m━━━━━━━━━━━━━━━━━━━━\u001B[0m\u001B[37m\u001B[0m \u001B[1m3s\u001B[0m 10ms/step - accuracy: 1.0000 - loss: 0.0000e+00 - val_accuracy: 0.9471 - val_loss: 0.9871\n",
      "Epoch 47/100\n",
      "\u001B[1m320/320\u001B[0m \u001B[32m━━━━━━━━━━━━━━━━━━━━\u001B[0m\u001B[37m\u001B[0m \u001B[1m3s\u001B[0m 10ms/step - accuracy: 1.0000 - loss: 0.0000e+00 - val_accuracy: 0.9469 - val_loss: 0.9883\n",
      "Epoch 48/100\n",
      "\u001B[1m320/320\u001B[0m \u001B[32m━━━━━━━━━━━━━━━━━━━━\u001B[0m\u001B[37m\u001B[0m \u001B[1m3s\u001B[0m 10ms/step - accuracy: 1.0000 - loss: 0.0000e+00 - val_accuracy: 0.9470 - val_loss: 0.9893\n",
      "Epoch 49/100\n",
      "\u001B[1m320/320\u001B[0m \u001B[32m━━━━━━━━━━━━━━━━━━━━\u001B[0m\u001B[37m\u001B[0m \u001B[1m3s\u001B[0m 10ms/step - accuracy: 1.0000 - loss: 4.2813e-12 - val_accuracy: 0.9471 - val_loss: 0.9887\n",
      "Epoch 50/100\n",
      "\u001B[1m320/320\u001B[0m \u001B[32m━━━━━━━━━━━━━━━━━━━━\u001B[0m\u001B[37m\u001B[0m \u001B[1m3s\u001B[0m 10ms/step - accuracy: 1.0000 - loss: 0.0000e+00 - val_accuracy: 0.9468 - val_loss: 0.9898\n",
      "Epoch 51/100\n",
      "\u001B[1m320/320\u001B[0m \u001B[32m━━━━━━━━━━━━━━━━━━━━\u001B[0m\u001B[37m\u001B[0m \u001B[1m3s\u001B[0m 10ms/step - accuracy: 1.0000 - loss: 0.0000e+00 - val_accuracy: 0.9468 - val_loss: 0.9909\n",
      "Epoch 52/100\n",
      "\u001B[1m320/320\u001B[0m \u001B[32m━━━━━━━━━━━━━━━━━━━━\u001B[0m\u001B[37m\u001B[0m \u001B[1m3s\u001B[0m 11ms/step - accuracy: 1.0000 - loss: 0.0000e+00 - val_accuracy: 0.9470 - val_loss: 0.9893\n",
      "Epoch 53/100\n",
      "\u001B[1m320/320\u001B[0m \u001B[32m━━━━━━━━━━━━━━━━━━━━\u001B[0m\u001B[37m\u001B[0m \u001B[1m3s\u001B[0m 10ms/step - accuracy: 1.0000 - loss: 0.0000e+00 - val_accuracy: 0.9470 - val_loss: 0.9904\n",
      "Epoch 54/100\n",
      "\u001B[1m320/320\u001B[0m \u001B[32m━━━━━━━━━━━━━━━━━━━━\u001B[0m\u001B[37m\u001B[0m \u001B[1m3s\u001B[0m 10ms/step - accuracy: 1.0000 - loss: 0.0000e+00 - val_accuracy: 0.9471 - val_loss: 0.9914\n",
      "Epoch 55/100\n",
      "\u001B[1m320/320\u001B[0m \u001B[32m━━━━━━━━━━━━━━━━━━━━\u001B[0m\u001B[37m\u001B[0m \u001B[1m3s\u001B[0m 10ms/step - accuracy: 1.0000 - loss: 0.0000e+00 - val_accuracy: 0.9470 - val_loss: 0.9924\n",
      "Epoch 56/100\n",
      "\u001B[1m320/320\u001B[0m \u001B[32m━━━━━━━━━━━━━━━━━━━━\u001B[0m\u001B[37m\u001B[0m \u001B[1m3s\u001B[0m 10ms/step - accuracy: 1.0000 - loss: 0.0000e+00 - val_accuracy: 0.9469 - val_loss: 0.9918\n",
      "Epoch 57/100\n",
      "\u001B[1m320/320\u001B[0m \u001B[32m━━━━━━━━━━━━━━━━━━━━\u001B[0m\u001B[37m\u001B[0m \u001B[1m3s\u001B[0m 10ms/step - accuracy: 1.0000 - loss: 0.0000e+00 - val_accuracy: 0.9471 - val_loss: 0.9928\n",
      "Epoch 58/100\n",
      "\u001B[1m320/320\u001B[0m \u001B[32m━━━━━━━━━━━━━━━━━━━━\u001B[0m\u001B[37m\u001B[0m \u001B[1m3s\u001B[0m 10ms/step - accuracy: 1.0000 - loss: 2.9907e-12 - val_accuracy: 0.9474 - val_loss: 0.9866\n",
      "Epoch 59/100\n",
      "\u001B[1m320/320\u001B[0m \u001B[32m━━━━━━━━━━━━━━━━━━━━\u001B[0m\u001B[37m\u001B[0m \u001B[1m3s\u001B[0m 10ms/step - accuracy: 1.0000 - loss: 0.0000e+00 - val_accuracy: 0.9475 - val_loss: 0.9878\n",
      "Epoch 60/100\n",
      "\u001B[1m320/320\u001B[0m \u001B[32m━━━━━━━━━━━━━━━━━━━━\u001B[0m\u001B[37m\u001B[0m \u001B[1m3s\u001B[0m 10ms/step - accuracy: 1.0000 - loss: 0.0000e+00 - val_accuracy: 0.9473 - val_loss: 0.9888\n",
      "Epoch 61/100\n",
      "\u001B[1m320/320\u001B[0m \u001B[32m━━━━━━━━━━━━━━━━━━━━\u001B[0m\u001B[37m\u001B[0m \u001B[1m3s\u001B[0m 10ms/step - accuracy: 1.0000 - loss: 0.0000e+00 - val_accuracy: 0.9471 - val_loss: 0.9899\n",
      "Epoch 62/100\n",
      "\u001B[1m320/320\u001B[0m \u001B[32m━━━━━━━━━━━━━━━━━━━━\u001B[0m\u001B[37m\u001B[0m \u001B[1m3s\u001B[0m 10ms/step - accuracy: 1.0000 - loss: 1.8101e-11 - val_accuracy: 0.9473 - val_loss: 0.9898\n",
      "Epoch 63/100\n",
      "\u001B[1m320/320\u001B[0m \u001B[32m━━━━━━━━━━━━━━━━━━━━\u001B[0m\u001B[37m\u001B[0m \u001B[1m3s\u001B[0m 10ms/step - accuracy: 1.0000 - loss: 0.0000e+00 - val_accuracy: 0.9472 - val_loss: 0.9908\n",
      "Epoch 64/100\n",
      "\u001B[1m320/320\u001B[0m \u001B[32m━━━━━━━━━━━━━━━━━━━━\u001B[0m\u001B[37m\u001B[0m \u001B[1m3s\u001B[0m 10ms/step - accuracy: 1.0000 - loss: 0.0000e+00 - val_accuracy: 0.9472 - val_loss: 0.9918\n",
      "Epoch 65/100\n",
      "\u001B[1m320/320\u001B[0m \u001B[32m━━━━━━━━━━━━━━━━━━━━\u001B[0m\u001B[37m\u001B[0m \u001B[1m3s\u001B[0m 10ms/step - accuracy: 1.0000 - loss: 1.8667e-12 - val_accuracy: 0.9471 - val_loss: 0.9911\n",
      "Epoch 66/100\n",
      "\u001B[1m320/320\u001B[0m \u001B[32m━━━━━━━━━━━━━━━━━━━━\u001B[0m\u001B[37m\u001B[0m \u001B[1m3s\u001B[0m 10ms/step - accuracy: 1.0000 - loss: 0.0000e+00 - val_accuracy: 0.9471 - val_loss: 0.9921\n",
      "Epoch 67/100\n",
      "\u001B[1m320/320\u001B[0m \u001B[32m━━━━━━━━━━━━━━━━━━━━\u001B[0m\u001B[37m\u001B[0m \u001B[1m3s\u001B[0m 10ms/step - accuracy: 1.0000 - loss: 0.0000e+00 - val_accuracy: 0.9471 - val_loss: 0.9930\n",
      "Epoch 68/100\n",
      "\u001B[1m320/320\u001B[0m \u001B[32m━━━━━━━━━━━━━━━━━━━━\u001B[0m\u001B[37m\u001B[0m \u001B[1m3s\u001B[0m 10ms/step - accuracy: 1.0000 - loss: 0.0000e+00 - val_accuracy: 0.9470 - val_loss: 0.9939\n",
      "Epoch 69/100\n",
      "\u001B[1m320/320\u001B[0m \u001B[32m━━━━━━━━━━━━━━━━━━━━\u001B[0m\u001B[37m\u001B[0m \u001B[1m3s\u001B[0m 10ms/step - accuracy: 1.0000 - loss: 0.0000e+00 - val_accuracy: 0.9471 - val_loss: 0.9944\n",
      "Epoch 70/100\n",
      "\u001B[1m320/320\u001B[0m \u001B[32m━━━━━━━━━━━━━━━━━━━━\u001B[0m\u001B[37m\u001B[0m \u001B[1m3s\u001B[0m 10ms/step - accuracy: 1.0000 - loss: 0.0000e+00 - val_accuracy: 0.9472 - val_loss: 0.9953\n",
      "Epoch 71/100\n",
      "\u001B[1m320/320\u001B[0m \u001B[32m━━━━━━━━━━━━━━━━━━━━\u001B[0m\u001B[37m\u001B[0m \u001B[1m3s\u001B[0m 10ms/step - accuracy: 1.0000 - loss: 0.0000e+00 - val_accuracy: 0.9473 - val_loss: 0.9926\n",
      "Epoch 72/100\n",
      "\u001B[1m320/320\u001B[0m \u001B[32m━━━━━━━━━━━━━━━━━━━━\u001B[0m\u001B[37m\u001B[0m \u001B[1m3s\u001B[0m 10ms/step - accuracy: 1.0000 - loss: 0.0000e+00 - val_accuracy: 0.9472 - val_loss: 0.9931\n",
      "Epoch 73/100\n",
      "\u001B[1m320/320\u001B[0m \u001B[32m━━━━━━━━━━━━━━━━━━━━\u001B[0m\u001B[37m\u001B[0m \u001B[1m4s\u001B[0m 11ms/step - accuracy: 1.0000 - loss: 0.0000e+00 - val_accuracy: 0.9472 - val_loss: 0.9940\n",
      "Epoch 74/100\n",
      "\u001B[1m320/320\u001B[0m \u001B[32m━━━━━━━━━━━━━━━━━━━━\u001B[0m\u001B[37m\u001B[0m \u001B[1m3s\u001B[0m 10ms/step - accuracy: 1.0000 - loss: 0.0000e+00 - val_accuracy: 0.9473 - val_loss: 0.9949\n",
      "Epoch 75/100\n",
      "\u001B[1m320/320\u001B[0m \u001B[32m━━━━━━━━━━━━━━━━━━━━\u001B[0m\u001B[37m\u001B[0m \u001B[1m3s\u001B[0m 10ms/step - accuracy: 1.0000 - loss: 0.0000e+00 - val_accuracy: 0.9471 - val_loss: 0.9945\n",
      "Epoch 76/100\n",
      "\u001B[1m320/320\u001B[0m \u001B[32m━━━━━━━━━━━━━━━━━━━━\u001B[0m\u001B[37m\u001B[0m \u001B[1m3s\u001B[0m 10ms/step - accuracy: 1.0000 - loss: 0.0000e+00 - val_accuracy: 0.9473 - val_loss: 0.9954\n",
      "Epoch 77/100\n",
      "\u001B[1m320/320\u001B[0m \u001B[32m━━━━━━━━━━━━━━━━━━━━\u001B[0m\u001B[37m\u001B[0m \u001B[1m3s\u001B[0m 10ms/step - accuracy: 1.0000 - loss: 0.0000e+00 - val_accuracy: 0.9471 - val_loss: 0.9964\n",
      "Epoch 78/100\n",
      "\u001B[1m320/320\u001B[0m \u001B[32m━━━━━━━━━━━━━━━━━━━━\u001B[0m\u001B[37m\u001B[0m \u001B[1m3s\u001B[0m 10ms/step - accuracy: 1.0000 - loss: 0.0000e+00 - val_accuracy: 0.9471 - val_loss: 0.9972\n",
      "Epoch 79/100\n",
      "\u001B[1m320/320\u001B[0m \u001B[32m━━━━━━━━━━━━━━━━━━━━\u001B[0m\u001B[37m\u001B[0m \u001B[1m3s\u001B[0m 10ms/step - accuracy: 1.0000 - loss: 0.0000e+00 - val_accuracy: 0.9471 - val_loss: 0.9963\n",
      "Epoch 80/100\n",
      "\u001B[1m320/320\u001B[0m \u001B[32m━━━━━━━━━━━━━━━━━━━━\u001B[0m\u001B[37m\u001B[0m \u001B[1m3s\u001B[0m 10ms/step - accuracy: 1.0000 - loss: 0.0000e+00 - val_accuracy: 0.9471 - val_loss: 0.9972\n",
      "Epoch 81/100\n",
      "\u001B[1m320/320\u001B[0m \u001B[32m━━━━━━━━━━━━━━━━━━━━\u001B[0m\u001B[37m\u001B[0m \u001B[1m3s\u001B[0m 10ms/step - accuracy: 1.0000 - loss: 0.0000e+00 - val_accuracy: 0.9472 - val_loss: 0.9980\n",
      "Epoch 82/100\n",
      "\u001B[1m320/320\u001B[0m \u001B[32m━━━━━━━━━━━━━━━━━━━━\u001B[0m\u001B[37m\u001B[0m \u001B[1m3s\u001B[0m 10ms/step - accuracy: 1.0000 - loss: 0.0000e+00 - val_accuracy: 0.9470 - val_loss: 0.9946\n",
      "Epoch 83/100\n",
      "\u001B[1m320/320\u001B[0m \u001B[32m━━━━━━━━━━━━━━━━━━━━\u001B[0m\u001B[37m\u001B[0m \u001B[1m3s\u001B[0m 11ms/step - accuracy: 1.0000 - loss: 0.0000e+00 - val_accuracy: 0.9472 - val_loss: 0.9955\n",
      "Epoch 84/100\n",
      "\u001B[1m320/320\u001B[0m \u001B[32m━━━━━━━━━━━━━━━━━━━━\u001B[0m\u001B[37m\u001B[0m \u001B[1m3s\u001B[0m 10ms/step - accuracy: 1.0000 - loss: 0.0000e+00 - val_accuracy: 0.9473 - val_loss: 0.9933\n",
      "Epoch 85/100\n",
      "\u001B[1m320/320\u001B[0m \u001B[32m━━━━━━━━━━━━━━━━━━━━\u001B[0m\u001B[37m\u001B[0m \u001B[1m3s\u001B[0m 10ms/step - accuracy: 1.0000 - loss: 0.0000e+00 - val_accuracy: 0.9475 - val_loss: 0.9943\n",
      "Epoch 86/100\n",
      "\u001B[1m320/320\u001B[0m \u001B[32m━━━━━━━━━━━━━━━━━━━━\u001B[0m\u001B[37m\u001B[0m \u001B[1m3s\u001B[0m 10ms/step - accuracy: 1.0000 - loss: 0.0000e+00 - val_accuracy: 0.9474 - val_loss: 0.9952\n",
      "Epoch 87/100\n",
      "\u001B[1m320/320\u001B[0m \u001B[32m━━━━━━━━━━━━━━━━━━━━\u001B[0m\u001B[37m\u001B[0m \u001B[1m3s\u001B[0m 10ms/step - accuracy: 1.0000 - loss: 0.0000e+00 - val_accuracy: 0.9472 - val_loss: 0.9961\n",
      "Epoch 88/100\n",
      "\u001B[1m320/320\u001B[0m \u001B[32m━━━━━━━━━━━━━━━━━━━━\u001B[0m\u001B[37m\u001B[0m \u001B[1m3s\u001B[0m 10ms/step - accuracy: 1.0000 - loss: 0.0000e+00 - val_accuracy: 0.9471 - val_loss: 0.9969\n",
      "Epoch 89/100\n",
      "\u001B[1m320/320\u001B[0m \u001B[32m━━━━━━━━━━━━━━━━━━━━\u001B[0m\u001B[37m\u001B[0m \u001B[1m3s\u001B[0m 10ms/step - accuracy: 1.0000 - loss: 0.0000e+00 - val_accuracy: 0.9472 - val_loss: 0.9977\n",
      "Epoch 90/100\n",
      "\u001B[1m320/320\u001B[0m \u001B[32m━━━━━━━━━━━━━━━━━━━━\u001B[0m\u001B[37m\u001B[0m \u001B[1m3s\u001B[0m 10ms/step - accuracy: 1.0000 - loss: 8.2201e-12 - val_accuracy: 0.9474 - val_loss: 0.9967\n",
      "Epoch 91/100\n",
      "\u001B[1m320/320\u001B[0m \u001B[32m━━━━━━━━━━━━━━━━━━━━\u001B[0m\u001B[37m\u001B[0m \u001B[1m3s\u001B[0m 10ms/step - accuracy: 1.0000 - loss: 0.0000e+00 - val_accuracy: 0.9472 - val_loss: 0.9976\n",
      "Epoch 92/100\n",
      "\u001B[1m320/320\u001B[0m \u001B[32m━━━━━━━━━━━━━━━━━━━━\u001B[0m\u001B[37m\u001B[0m \u001B[1m3s\u001B[0m 10ms/step - accuracy: 1.0000 - loss: 0.0000e+00 - val_accuracy: 0.9471 - val_loss: 0.9984\n",
      "Epoch 93/100\n",
      "\u001B[1m320/320\u001B[0m \u001B[32m━━━━━━━━━━━━━━━━━━━━\u001B[0m\u001B[37m\u001B[0m \u001B[1m3s\u001B[0m 11ms/step - accuracy: 1.0000 - loss: 0.0000e+00 - val_accuracy: 0.9472 - val_loss: 0.9991\n",
      "Epoch 94/100\n",
      "\u001B[1m320/320\u001B[0m \u001B[32m━━━━━━━━━━━━━━━━━━━━\u001B[0m\u001B[37m\u001B[0m \u001B[1m3s\u001B[0m 10ms/step - accuracy: 1.0000 - loss: 0.0000e+00 - val_accuracy: 0.9472 - val_loss: 0.9976\n",
      "Epoch 95/100\n",
      "\u001B[1m320/320\u001B[0m \u001B[32m━━━━━━━━━━━━━━━━━━━━\u001B[0m\u001B[37m\u001B[0m \u001B[1m3s\u001B[0m 10ms/step - accuracy: 1.0000 - loss: 0.0000e+00 - val_accuracy: 0.9474 - val_loss: 0.9984\n",
      "Epoch 96/100\n",
      "\u001B[1m320/320\u001B[0m \u001B[32m━━━━━━━━━━━━━━━━━━━━\u001B[0m\u001B[37m\u001B[0m \u001B[1m3s\u001B[0m 10ms/step - accuracy: 1.0000 - loss: 0.0000e+00 - val_accuracy: 0.9475 - val_loss: 0.9935\n",
      "Epoch 97/100\n",
      "\u001B[1m320/320\u001B[0m \u001B[32m━━━━━━━━━━━━━━━━━━━━\u001B[0m\u001B[37m\u001B[0m \u001B[1m3s\u001B[0m 10ms/step - accuracy: 1.0000 - loss: 0.0000e+00 - val_accuracy: 0.9475 - val_loss: 0.9945\n",
      "Epoch 98/100\n",
      "\u001B[1m320/320\u001B[0m \u001B[32m━━━━━━━━━━━━━━━━━━━━\u001B[0m\u001B[37m\u001B[0m \u001B[1m3s\u001B[0m 10ms/step - accuracy: 1.0000 - loss: 0.0000e+00 - val_accuracy: 0.9473 - val_loss: 0.9955\n",
      "Epoch 99/100\n",
      "\u001B[1m320/320\u001B[0m \u001B[32m━━━━━━━━━━━━━━━━━━━━\u001B[0m\u001B[37m\u001B[0m \u001B[1m3s\u001B[0m 10ms/step - accuracy: 1.0000 - loss: 0.0000e+00 - val_accuracy: 0.9474 - val_loss: 0.9963\n",
      "Epoch 100/100\n",
      "\u001B[1m320/320\u001B[0m \u001B[32m━━━━━━━━━━━━━━━━━━━━\u001B[0m\u001B[37m\u001B[0m \u001B[1m3s\u001B[0m 10ms/step - accuracy: 1.0000 - loss: 0.0000e+00 - val_accuracy: 0.9474 - val_loss: 0.9956\n"
     ]
    }
   ],
   "execution_count": 28
  },
  {
   "metadata": {
    "ExecuteTime": {
     "end_time": "2025-03-21T03:31:35.304144Z",
     "start_time": "2025-03-21T03:31:35.271108Z"
    }
   },
   "cell_type": "code",
   "source": [
    "metrics = pd.DataFrame(history.history)\n",
    "metrics"
   ],
   "id": "dea13ac7f023e0cc",
   "outputs": [
    {
     "data": {
      "text/plain": [
       "    accuracy          loss  val_accuracy  val_loss\n",
       "0        1.0  0.000000e+00      0.947054  0.984408\n",
       "1        1.0  0.000000e+00      0.946875  0.985588\n",
       "2        1.0  1.241763e-11      0.947098  0.978472\n",
       "3        1.0  0.000000e+00      0.946830  0.979805\n",
       "4        1.0  0.000000e+00      0.946696  0.980854\n",
       "..       ...           ...           ...       ...\n",
       "95       1.0  0.000000e+00      0.947500  0.993543\n",
       "96       1.0  0.000000e+00      0.947500  0.994518\n",
       "97       1.0  0.000000e+00      0.947321  0.995453\n",
       "98       1.0  0.000000e+00      0.947366  0.996345\n",
       "99       1.0  0.000000e+00      0.947366  0.995618\n",
       "\n",
       "[100 rows x 4 columns]"
      ],
      "text/html": [
       "<div>\n",
       "<style scoped>\n",
       "    .dataframe tbody tr th:only-of-type {\n",
       "        vertical-align: middle;\n",
       "    }\n",
       "\n",
       "    .dataframe tbody tr th {\n",
       "        vertical-align: top;\n",
       "    }\n",
       "\n",
       "    .dataframe thead th {\n",
       "        text-align: right;\n",
       "    }\n",
       "</style>\n",
       "<table border=\"1\" class=\"dataframe\">\n",
       "  <thead>\n",
       "    <tr style=\"text-align: right;\">\n",
       "      <th></th>\n",
       "      <th>accuracy</th>\n",
       "      <th>loss</th>\n",
       "      <th>val_accuracy</th>\n",
       "      <th>val_loss</th>\n",
       "    </tr>\n",
       "  </thead>\n",
       "  <tbody>\n",
       "    <tr>\n",
       "      <th>0</th>\n",
       "      <td>1.0</td>\n",
       "      <td>0.000000e+00</td>\n",
       "      <td>0.947054</td>\n",
       "      <td>0.984408</td>\n",
       "    </tr>\n",
       "    <tr>\n",
       "      <th>1</th>\n",
       "      <td>1.0</td>\n",
       "      <td>0.000000e+00</td>\n",
       "      <td>0.946875</td>\n",
       "      <td>0.985588</td>\n",
       "    </tr>\n",
       "    <tr>\n",
       "      <th>2</th>\n",
       "      <td>1.0</td>\n",
       "      <td>1.241763e-11</td>\n",
       "      <td>0.947098</td>\n",
       "      <td>0.978472</td>\n",
       "    </tr>\n",
       "    <tr>\n",
       "      <th>3</th>\n",
       "      <td>1.0</td>\n",
       "      <td>0.000000e+00</td>\n",
       "      <td>0.946830</td>\n",
       "      <td>0.979805</td>\n",
       "    </tr>\n",
       "    <tr>\n",
       "      <th>4</th>\n",
       "      <td>1.0</td>\n",
       "      <td>0.000000e+00</td>\n",
       "      <td>0.946696</td>\n",
       "      <td>0.980854</td>\n",
       "    </tr>\n",
       "    <tr>\n",
       "      <th>...</th>\n",
       "      <td>...</td>\n",
       "      <td>...</td>\n",
       "      <td>...</td>\n",
       "      <td>...</td>\n",
       "    </tr>\n",
       "    <tr>\n",
       "      <th>95</th>\n",
       "      <td>1.0</td>\n",
       "      <td>0.000000e+00</td>\n",
       "      <td>0.947500</td>\n",
       "      <td>0.993543</td>\n",
       "    </tr>\n",
       "    <tr>\n",
       "      <th>96</th>\n",
       "      <td>1.0</td>\n",
       "      <td>0.000000e+00</td>\n",
       "      <td>0.947500</td>\n",
       "      <td>0.994518</td>\n",
       "    </tr>\n",
       "    <tr>\n",
       "      <th>97</th>\n",
       "      <td>1.0</td>\n",
       "      <td>0.000000e+00</td>\n",
       "      <td>0.947321</td>\n",
       "      <td>0.995453</td>\n",
       "    </tr>\n",
       "    <tr>\n",
       "      <th>98</th>\n",
       "      <td>1.0</td>\n",
       "      <td>0.000000e+00</td>\n",
       "      <td>0.947366</td>\n",
       "      <td>0.996345</td>\n",
       "    </tr>\n",
       "    <tr>\n",
       "      <th>99</th>\n",
       "      <td>1.0</td>\n",
       "      <td>0.000000e+00</td>\n",
       "      <td>0.947366</td>\n",
       "      <td>0.995618</td>\n",
       "    </tr>\n",
       "  </tbody>\n",
       "</table>\n",
       "<p>100 rows × 4 columns</p>\n",
       "</div>"
      ]
     },
     "execution_count": 29,
     "metadata": {},
     "output_type": "execute_result"
    }
   ],
   "execution_count": 29
  },
  {
   "metadata": {
    "ExecuteTime": {
     "end_time": "2025-03-21T03:36:46.446524Z",
     "start_time": "2025-03-21T03:36:46.279095Z"
    }
   },
   "cell_type": "code",
   "source": [
    "import seaborn as sns\n",
    "sns.lineplot(data=metrics[['loss', 'accuracy']])"
   ],
   "id": "d9b39f936fcae0c5",
   "outputs": [
    {
     "data": {
      "text/plain": [
       "<Axes: >"
      ]
     },
     "execution_count": 31,
     "metadata": {},
     "output_type": "execute_result"
    },
    {
     "data": {
      "text/plain": [
       "<Figure size 640x480 with 1 Axes>"
      ],
      "image/png": "[encoded data removed]"
     },
     "metadata": {},
     "output_type": "display_data"
    }
   ],
   "execution_count": 31
  }
 ],
 "metadata": {
  "kernelspec": {
   "display_name": "Python 3",
   "language": "python",
   "name": "python3"
  },
  "language_info": {
   "codemirror_mode": {
    "name": "ipython",
    "version": 2
   },
   "file_extension": ".py",
   "mimetype": "text/x-python",
   "name": "python",
   "nbconvert_exporter": "python",
   "pygments_lexer": "ipython2",
   "version": "2.7.6"
  }
 },
 "nbformat": 4,
 "nbformat_minor": 5
}
