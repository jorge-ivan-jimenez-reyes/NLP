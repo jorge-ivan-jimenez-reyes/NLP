{
 "cells": [
  {
   "metadata": {
    "collapsed": true,
    "ExecuteTime": {
     "end_time": "2025-03-20T23:23:34.340219Z",
     "start_time": "2025-03-20T23:23:34.310131Z"
    }
   },
   "cell_type": "code",
   "source": [
    "import pandas as pd\n",
    "df = pd.read_csv('clickbait_dataset.csv')\n",
    "df.head()\n"
   ],
   "id": "initial_id",
   "outputs": [
    {
     "data": {
      "text/plain": [
       "                                            headline  clickbait\n",
       "0  This Is What $1 USD Gets You In Food All Aroun...          1\n",
       "1  Make These Easy Chicken Fajita Quesadillas At ...          1\n",
       "2  The Hardest \"Walking Dead\" Video Game Quiz You...          1\n",
       "3  34 Online Shops Based In The Southeast You Sho...          1\n",
       "4  US and France to work together for new Iran sa...          0"
      ],
      "text/html": [
       "<div>\n",
       "<style scoped>\n",
       "    .dataframe tbody tr th:only-of-type {\n",
       "        vertical-align: middle;\n",
       "    }\n",
       "\n",
       "    .dataframe tbody tr th {\n",
       "        vertical-align: top;\n",
       "    }\n",
       "\n",
       "    .dataframe thead th {\n",
       "        text-align: right;\n",
       "    }\n",
       "</style>\n",
       "<table border=\"1\" class=\"dataframe\">\n",
       "  <thead>\n",
       "    <tr style=\"text-align: right;\">\n",
       "      <th></th>\n",
       "      <th>headline</th>\n",
       "      <th>clickbait</th>\n",
       "    </tr>\n",
       "  </thead>\n",
       "  <tbody>\n",
       "    <tr>\n",
       "      <th>0</th>\n",
       "      <td>This Is What $1 USD Gets You In Food All Aroun...</td>\n",
       "      <td>1</td>\n",
       "    </tr>\n",
       "    <tr>\n",
       "      <th>1</th>\n",
       "      <td>Make These Easy Chicken Fajita Quesadillas At ...</td>\n",
       "      <td>1</td>\n",
       "    </tr>\n",
       "    <tr>\n",
       "      <th>2</th>\n",
       "      <td>The Hardest \"Walking Dead\" Video Game Quiz You...</td>\n",
       "      <td>1</td>\n",
       "    </tr>\n",
       "    <tr>\n",
       "      <th>3</th>\n",
       "      <td>34 Online Shops Based In The Southeast You Sho...</td>\n",
       "      <td>1</td>\n",
       "    </tr>\n",
       "    <tr>\n",
       "      <th>4</th>\n",
       "      <td>US and France to work together for new Iran sa...</td>\n",
       "      <td>0</td>\n",
       "    </tr>\n",
       "  </tbody>\n",
       "</table>\n",
       "</div>"
      ]
     },
     "execution_count": 1,
     "metadata": {},
     "output_type": "execute_result"
    }
   ],
   "execution_count": 1
  },
  {
   "metadata": {
    "ExecuteTime": {
     "end_time": "2025-03-20T23:23:36.949144Z",
     "start_time": "2025-03-20T23:23:36.931038Z"
    }
   },
   "cell_type": "code",
   "source": "df = df.dropna()\n",
   "id": "feed999458a94f75",
   "outputs": [],
   "execution_count": 2
  },
  {
   "metadata": {
    "ExecuteTime": {
     "end_time": "2025-03-20T23:23:39.919128Z",
     "start_time": "2025-03-20T23:23:38.362401Z"
    }
   },
   "cell_type": "code",
   "source": [
    "import ssl\n",
    "import nltk\n",
    "\n",
    "try:\n",
    "    _create_unverified_https_context = ssl._create_unverified_context\n",
    "except AttributeError:\n",
    "    pass\n",
    "else:\n",
    "    ssl._create_default_https_context = _create_unverified_https_context\n",
    "\n",
    "nltk.download('punkt')  # Asegúrate de que 'punkt' es el paquete correcto\n"
   ],
   "id": "347787ddc135cf18",
   "outputs": [
    {
     "name": "stderr",
     "output_type": "stream",
     "text": [
      "[nltk_data] Downloading package punkt to\n",
      "[nltk_data]     /Users/jorgejimenez/nltk_data...\n",
      "[nltk_data]   Package punkt is already up-to-date!\n"
     ]
    },
    {
     "data": {
      "text/plain": [
       "True"
      ]
     },
     "execution_count": 3,
     "metadata": {},
     "output_type": "execute_result"
    }
   ],
   "execution_count": 3
  },
  {
   "metadata": {},
   "cell_type": "code",
   "source": "",
   "id": "9c5f40de4dd24096",
   "outputs": [],
   "execution_count": null
  },
  {
   "metadata": {
    "ExecuteTime": {
     "end_time": "2025-03-20T23:25:02.556645Z",
     "start_time": "2025-03-20T23:23:46.871847Z"
    }
   },
   "cell_type": "code",
   "source": [
    "import numpy as np\n",
    "embeddings ={}\n",
    "with open('/Users/jorgejimenez/Documents/UP/NLP/simcos/glove.42B.300d.txt', encoding='utf-8') as f:\n",
    "  for line in f:\n",
    "    values = line.split()\n",
    "    word = values[0]\n",
    "    vectors = np.asarray(values[1:])\n",
    "    embeddings[word] = vectors"
   ],
   "id": "91cf58a1ba959881",
   "outputs": [],
   "execution_count": 4
  },
  {
   "metadata": {
    "ExecuteTime": {
     "end_time": "2025-03-20T23:25:11.631616Z",
     "start_time": "2025-03-20T23:25:10.163369Z"
    }
   },
   "cell_type": "code",
   "source": [
    "import contractions               #Won't -> will not\n",
    "import re                         #Regex\n",
    "import nltk                       #Tokenizar texto\n",
    "from nltk import word_tokenize\n",
    "from nltk.corpus import stopwords\n",
    "from nltk.stem.wordnet import WordNetLemmatizer\n",
    "from tqdm import tqdm\n",
    "\n",
    "nltk.download('stopwords')\n",
    "nltk.download('punkt')\n",
    "nltk.download('wordnet')\n",
    "nltk.download('punkt_tab')\n",
    "\n",
    "stopwords_en = stopwords.words('english')\n",
    "lemmatizer = WordNetLemmatizer()\n",
    "tqdm.pandas()"
   ],
   "id": "1c2cfc483b0913d3",
   "outputs": [
    {
     "name": "stderr",
     "output_type": "stream",
     "text": [
      "[nltk_data] Downloading package stopwords to\n",
      "[nltk_data]     /Users/jorgejimenez/nltk_data...\n",
      "[nltk_data]   Unzipping corpora/stopwords.zip.\n",
      "[nltk_data] Downloading package punkt to\n",
      "[nltk_data]     /Users/jorgejimenez/nltk_data...\n",
      "[nltk_data]   Package punkt is already up-to-date!\n",
      "[nltk_data] Downloading package wordnet to\n",
      "[nltk_data]     /Users/jorgejimenez/nltk_data...\n",
      "[nltk_data]   Package wordnet is already up-to-date!\n",
      "[nltk_data] Downloading package punkt_tab to\n",
      "[nltk_data]     /Users/jorgejimenez/nltk_data...\n",
      "[nltk_data]   Unzipping tokenizers/punkt_tab.zip.\n"
     ]
    }
   ],
   "execution_count": 5
  },
  {
   "metadata": {
    "ExecuteTime": {
     "end_time": "2025-03-20T23:25:13.101999Z",
     "start_time": "2025-03-20T23:25:13.093689Z"
    }
   },
   "cell_type": "code",
   "source": [
    "def vectorize(texto):\n",
    "  vector_size = 300 #Dependiento del archivo de glove -> glove.6B.300d.txt\n",
    "\n",
    "  #Todo a minusculas\n",
    "  texto = texto.lower()\n",
    "\n",
    "  #Contracciones\n",
    "  texto = contractions.fix(texto)\n",
    "\n",
    "  #Regex para quitar todo lo que no sea letra\n",
    "  texto = re.sub(r'[^a-z\\s]','', texto)\n",
    "\n",
    "  #Quitar stop words\n",
    "  texto = word_tokenize(texto)\n",
    "\n",
    "  #Eliminar stopwords\n",
    "  texto = [token for token in texto if token not in stopwords_en]\n",
    "\n",
    "  #Lemmatizar\n",
    "  texto = [lemmatizer.lemmatize(word) for word in texto]\n",
    "\n",
    "  #Generar vector (sumar linealmente)\n",
    "  vector = np.zeros(vector_size)\n",
    "\n",
    "  for word in texto:\n",
    "    if word in embeddings:\n",
    "      vector += embeddings[word].astype(float)\n",
    "\n",
    "  vector = vector.reshape(1, -1)[0] #Una fila, columans necesarias\n",
    "\n",
    "  return vector"
   ],
   "id": "510f58d13c933145",
   "outputs": [],
   "execution_count": 6
  },
  {
   "metadata": {
    "ExecuteTime": {
     "end_time": "2025-03-20T23:25:36.097947Z",
     "start_time": "2025-03-20T23:25:16.818070Z"
    }
   },
   "cell_type": "code",
   "source": [
    "from tqdm import tqdm\n",
    "nltk.download('punk_tab')\n",
    "tqdm.pandas()\n",
    "df['vector'] = df['headline'].progress_apply(vectorize)\n"
   ],
   "id": "1243a5c11e8e0870",
   "outputs": [
    {
     "name": "stderr",
     "output_type": "stream",
     "text": [
      "[nltk_data] Error loading punk_tab: Package 'punk_tab' not found in\n",
      "[nltk_data]     index\n",
      "100%|██████████| 32000/32000 [00:19<00:00, 1662.71it/s]\n"
     ]
    }
   ],
   "execution_count": 7
  },
  {
   "metadata": {
    "ExecuteTime": {
     "end_time": "2025-03-20T23:25:39.439451Z",
     "start_time": "2025-03-20T23:25:39.418263Z"
    }
   },
   "cell_type": "code",
   "source": "df.head()",
   "id": "2efee60e776a7f77",
   "outputs": [
    {
     "data": {
      "text/plain": [
       "                                            headline  clickbait  \\\n",
       "0  This Is What $1 USD Gets You In Food All Aroun...          1   \n",
       "1  Make These Easy Chicken Fajita Quesadillas At ...          1   \n",
       "2  The Hardest \"Walking Dead\" Video Game Quiz You...          1   \n",
       "3  34 Online Shops Based In The Southeast You Sho...          1   \n",
       "4  US and France to work together for new Iran sa...          0   \n",
       "\n",
       "                                              vector  \n",
       "0  [0.3411369999999999, 0.016487000000000016, 0.2...  \n",
       "1  [-0.40621599999999997, -1.1668068399999998, 1....  \n",
       "2  [-2.3220799999999997, 2.40599, 1.121831, -0.07...  \n",
       "3  [1.675697, 0.37274699999999994, 0.892619, -1.4...  \n",
       "4  [0.31207199999999996, 2.1173759999999997, -0.1...  "
      ],
      "text/html": [
       "<div>\n",
       "<style scoped>\n",
       "    .dataframe tbody tr th:only-of-type {\n",
       "        vertical-align: middle;\n",
       "    }\n",
       "\n",
       "    .dataframe tbody tr th {\n",
       "        vertical-align: top;\n",
       "    }\n",
       "\n",
       "    .dataframe thead th {\n",
       "        text-align: right;\n",
       "    }\n",
       "</style>\n",
       "<table border=\"1\" class=\"dataframe\">\n",
       "  <thead>\n",
       "    <tr style=\"text-align: right;\">\n",
       "      <th></th>\n",
       "      <th>headline</th>\n",
       "      <th>clickbait</th>\n",
       "      <th>vector</th>\n",
       "    </tr>\n",
       "  </thead>\n",
       "  <tbody>\n",
       "    <tr>\n",
       "      <th>0</th>\n",
       "      <td>This Is What $1 USD Gets You In Food All Aroun...</td>\n",
       "      <td>1</td>\n",
       "      <td>[0.3411369999999999, 0.016487000000000016, 0.2...</td>\n",
       "    </tr>\n",
       "    <tr>\n",
       "      <th>1</th>\n",
       "      <td>Make These Easy Chicken Fajita Quesadillas At ...</td>\n",
       "      <td>1</td>\n",
       "      <td>[-0.40621599999999997, -1.1668068399999998, 1....</td>\n",
       "    </tr>\n",
       "    <tr>\n",
       "      <th>2</th>\n",
       "      <td>The Hardest \"Walking Dead\" Video Game Quiz You...</td>\n",
       "      <td>1</td>\n",
       "      <td>[-2.3220799999999997, 2.40599, 1.121831, -0.07...</td>\n",
       "    </tr>\n",
       "    <tr>\n",
       "      <th>3</th>\n",
       "      <td>34 Online Shops Based In The Southeast You Sho...</td>\n",
       "      <td>1</td>\n",
       "      <td>[1.675697, 0.37274699999999994, 0.892619, -1.4...</td>\n",
       "    </tr>\n",
       "    <tr>\n",
       "      <th>4</th>\n",
       "      <td>US and France to work together for new Iran sa...</td>\n",
       "      <td>0</td>\n",
       "      <td>[0.31207199999999996, 2.1173759999999997, -0.1...</td>\n",
       "    </tr>\n",
       "  </tbody>\n",
       "</table>\n",
       "</div>"
      ]
     },
     "execution_count": 8,
     "metadata": {},
     "output_type": "execute_result"
    }
   ],
   "execution_count": 8
  },
  {
   "metadata": {
    "ExecuteTime": {
     "end_time": "2025-03-20T23:25:41.441685Z",
     "start_time": "2025-03-20T23:25:41.267019Z"
    }
   },
   "cell_type": "code",
   "source": [
    "from sklearn.model_selection import train_test_split\n",
    "X = df['vector']\n",
    "X = np.concatenate(X, axis = 0).reshape(-1, 300)\n",
    "y = df['clickbait']\n",
    "X_train, X_test, y_train, y_test = train_test_split(X, y,\n",
    "                                                    test_size = 0.7,\n",
    "                                                    random_state = 101)\n"
   ],
   "id": "59314614ba8eeac7",
   "outputs": [],
   "execution_count": 9
  },
  {
   "metadata": {},
   "cell_type": "code",
   "source": [
    "#aqruitecura de redes neuronales\n",
    "#pytorch"
   ],
   "id": "b6909dab92deab3a",
   "outputs": [],
   "execution_count": null
  },
  {
   "metadata": {
    "ExecuteTime": {
     "end_time": "2025-03-20T23:25:47.178688Z",
     "start_time": "2025-03-20T23:25:43.264341Z"
    }
   },
   "cell_type": "code",
   "source": [
    "import tensorflow as tf\n",
    "\n",
    "print(\"Versión de TensorFlow:\", tf.__version__)\n",
    "\n",
    "gpus = tf.config.list_physical_devices('GPU')\n",
    "if gpus:\n",
    "    print(\"GPU detectada:\", gpus)\n",
    "else:\n",
    "    print(\"No se detectó una GPU\")\n"
   ],
   "id": "e084f0a34162c057",
   "outputs": [
    {
     "name": "stdout",
     "output_type": "stream",
     "text": [
      "Versión de TensorFlow: 2.16.2\n",
      "GPU detectada: [PhysicalDevice(name='/physical_device:GPU:0', device_type='GPU')]\n"
     ]
    }
   ],
   "execution_count": 10
  },
  {
   "metadata": {
    "ExecuteTime": {
     "end_time": "2025-03-20T23:25:49.608351Z",
     "start_time": "2025-03-20T23:25:49.598359Z"
    }
   },
   "cell_type": "code",
   "source": [
    "import tensorflow as tf\n",
    "import keras\n",
    "\n",
    "print(\"TensorFlow:\", tf.__version__)\n",
    "print(\"Keras:\", keras.__version__)\n"
   ],
   "id": "f420526ac97f5cb8",
   "outputs": [
    {
     "name": "stdout",
     "output_type": "stream",
     "text": [
      "TensorFlow: 2.16.2\n",
      "Keras: 3.6.0\n"
     ]
    }
   ],
   "execution_count": 11
  },
  {
   "metadata": {
    "ExecuteTime": {
     "end_time": "2025-03-20T23:25:52.400938Z",
     "start_time": "2025-03-20T23:25:52.243204Z"
    }
   },
   "cell_type": "code",
   "source": [
    "from tensorflow import keras\n",
    "from tensorflow.keras.models import Sequential\n",
    "from tensorflow.keras.layers import Dense\n",
    "from tensorflow.keras.optimizers import Adam\n"
   ],
   "id": "bd6252e0f07cef6d",
   "outputs": [],
   "execution_count": 12
  },
  {
   "metadata": {
    "ExecuteTime": {
     "end_time": "2025-03-20T23:25:55.137419Z",
     "start_time": "2025-03-20T23:25:54.376844Z"
    }
   },
   "cell_type": "code",
   "source": [
    "model = Sequential()\n",
    "model.add(Dense(units=128, activation='relu', input_shape=(300,)))\n",
    "model.add(Dense(units=256,activation='relu'))\n",
    "model.add(Dense(units=1,activation='sigmoid'))"
   ],
   "id": "e63e1f410119c9d6",
   "outputs": [
    {
     "name": "stderr",
     "output_type": "stream",
     "text": [
      "/Users/jorgejimenez/PycharmProjects/ProcesamientoIM-Proyecto/.venv/lib/python3.12/site-packages/keras/src/layers/core/dense.py:87: UserWarning: Do not pass an `input_shape`/`input_dim` argument to a layer. When using Sequential models, prefer using an `Input(shape)` object as the first layer in the model instead.\n",
      "  super().__init__(activity_regularizer=activity_regularizer, **kwargs)\n"
     ]
    }
   ],
   "execution_count": 13
  },
  {
   "metadata": {},
   "cell_type": "code",
   "source": "model.compile(optimizer=Adam(learning_rate=0.001), loss='binary_crossentropy', metrics=['accuracy'])",
   "id": "69c6772183a4512e",
   "outputs": [],
   "execution_count": null
  },
  {
   "metadata": {},
   "cell_type": "code",
   "source": "model.summary()",
   "id": "ceba5e61ab603db1",
   "outputs": [],
   "execution_count": null
  },
  {
   "metadata": {},
   "cell_type": "code",
   "source": "history = model.fit(X_train, y_train, epochs=100, batch_size=32, validation_data=(X_test, y_test))",
   "id": "4899889d35de8df4",
   "outputs": [],
   "execution_count": null
  },
  {
   "metadata": {},
   "cell_type": "code",
   "source": [
    "metrics = pd.DataFrame(history.history)\n",
    "metrics"
   ],
   "id": "dea13ac7f023e0cc",
   "outputs": [],
   "execution_count": null
  },
  {
   "metadata": {},
   "cell_type": "code",
   "source": [
    "import seaborn as sns\n",
    "sns.lineplot(data=metrics[['loss', 'accuracy']])"
   ],
   "id": "d9b39f936fcae0c5",
   "outputs": [],
   "execution_count": null
  }
 ],
 "metadata": {
  "kernelspec": {
   "display_name": "Python 3",
   "language": "python",
   "name": "python3"
  },
  "language_info": {
   "codemirror_mode": {
    "name": "ipython",
    "version": 2
   },
   "file_extension": ".py",
   "mimetype": "text/x-python",
   "name": "python",
   "nbconvert_exporter": "python",
   "pygments_lexer": "ipython2",
   "version": "2.7.6"
  }
 },
 "nbformat": 4,
 "nbformat_minor": 5
}
