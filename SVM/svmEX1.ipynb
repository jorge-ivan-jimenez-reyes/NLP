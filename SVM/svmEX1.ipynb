{
 "cells": [
  {
   "cell_type": "code",
   "id": "initial_id",
   "metadata": {
    "collapsed": true,
    "ExecuteTime": {
     "end_time": "2025-02-19T19:48:06.417996Z",
     "start_time": "2025-02-19T19:48:06.391173Z"
    }
   },
   "source": [
    "import pandas as pd\n",
    "df = pd.read_csv('deepsea.csv')\n",
    "df.head()\n"
   ],
   "outputs": [
    {
     "data": {
      "text/plain": [
       "                                               tweet category\n",
       "0  Fascinating discovery! An abyssal fish species...  biology\n",
       "1  Deep sea fish really said 'surface world I'm c...     meme\n",
       "2  Research suggests rapid vertical migration mig...  biology\n",
       "3  lmao this fish literally speedran evolving to ...     meme\n",
       "4  The vertical migration observed in this abyssa...  biology"
      ],
      "text/html": [
       "<div>\n",
       "<style scoped>\n",
       "    .dataframe tbody tr th:only-of-type {\n",
       "        vertical-align: middle;\n",
       "    }\n",
       "\n",
       "    .dataframe tbody tr th {\n",
       "        vertical-align: top;\n",
       "    }\n",
       "\n",
       "    .dataframe thead th {\n",
       "        text-align: right;\n",
       "    }\n",
       "</style>\n",
       "<table border=\"1\" class=\"dataframe\">\n",
       "  <thead>\n",
       "    <tr style=\"text-align: right;\">\n",
       "      <th></th>\n",
       "      <th>tweet</th>\n",
       "      <th>category</th>\n",
       "    </tr>\n",
       "  </thead>\n",
       "  <tbody>\n",
       "    <tr>\n",
       "      <th>0</th>\n",
       "      <td>Fascinating discovery! An abyssal fish species...</td>\n",
       "      <td>biology</td>\n",
       "    </tr>\n",
       "    <tr>\n",
       "      <th>1</th>\n",
       "      <td>Deep sea fish really said 'surface world I'm c...</td>\n",
       "      <td>meme</td>\n",
       "    </tr>\n",
       "    <tr>\n",
       "      <th>2</th>\n",
       "      <td>Research suggests rapid vertical migration mig...</td>\n",
       "      <td>biology</td>\n",
       "    </tr>\n",
       "    <tr>\n",
       "      <th>3</th>\n",
       "      <td>lmao this fish literally speedran evolving to ...</td>\n",
       "      <td>meme</td>\n",
       "    </tr>\n",
       "    <tr>\n",
       "      <th>4</th>\n",
       "      <td>The vertical migration observed in this abyssa...</td>\n",
       "      <td>biology</td>\n",
       "    </tr>\n",
       "  </tbody>\n",
       "</table>\n",
       "</div>"
      ]
     },
     "execution_count": 1,
     "metadata": {},
     "output_type": "execute_result"
    }
   ],
   "execution_count": 1
  },
  {
   "cell_type": "code",
   "id": "921f5a2d5e655ff0",
   "metadata": {
    "ExecuteTime": {
     "end_time": "2025-02-19T19:48:39.001877Z",
     "start_time": "2025-02-19T19:48:38.973700Z"
    }
   },
   "source": [
    "import re\n",
    "import nltk\n",
    "import numpy as np\n",
    "import ssl\n",
    "try:\n",
    "    _create_unverified_https_context = ssl._create_unverified_context\n",
    "except AttributeError:\n",
    "    # Legacy Python that doesn't verify HTTPS certificates by default\n",
    "    pass\n",
    "else:\n",
    "    ssl._create_default_https_context = _create_unverified_https_context\n",
    "\n",
    "from nltk.tokenize import word_tokenize\n",
    "from nltk.corpus import stopwords\n",
    "from nltk.stem.wordnet import WordNetLemmatizer\n",
    "nltk.download('stopwords')\n",
    "nltk.download('wordnet')\n",
    "nltk.download('punkt')\n",
    "nltk.download('punkt_tab')\n",
    "nltk.download('averaged_perceptron_tagger')\n",
    "stopwords_en = stopwords.words('english')\n",
    "lemmatizer = WordNetLemmatizer()"
   ],
   "outputs": [
    {
     "name": "stderr",
     "output_type": "stream",
     "text": [
      "[nltk_data] Downloading package stopwords to\n",
      "[nltk_data]     /Users/jorgejimenez/nltk_data...\n",
      "[nltk_data]   Package stopwords is already up-to-date!\n",
      "[nltk_data] Downloading package wordnet to\n",
      "[nltk_data]     /Users/jorgejimenez/nltk_data...\n",
      "[nltk_data]   Package wordnet is already up-to-date!\n",
      "[nltk_data] Downloading package punkt to\n",
      "[nltk_data]     /Users/jorgejimenez/nltk_data...\n",
      "[nltk_data]   Package punkt is already up-to-date!\n",
      "[nltk_data] Downloading package punkt_tab to\n",
      "[nltk_data]     /Users/jorgejimenez/nltk_data...\n",
      "[nltk_data]   Package punkt_tab is already up-to-date!\n",
      "[nltk_data] Downloading package averaged_perceptron_tagger to\n",
      "[nltk_data]     /Users/jorgejimenez/nltk_data...\n",
      "[nltk_data]   Package averaged_perceptron_tagger is already up-to-\n",
      "[nltk_data]       date!\n"
     ]
    }
   ],
   "execution_count": 12
  },
  {
   "cell_type": "code",
   "id": "e906949e8ff0c6c",
   "metadata": {
    "ExecuteTime": {
     "end_time": "2025-02-19T19:48:44.131533Z",
     "start_time": "2025-02-19T19:48:44.107166Z"
    }
   },
   "source": [
    "mapper = {\n",
    "    1: 'Suicide',\n",
    "    0: 'Non-suicide'\n",
    "}\n",
    "df['etiqueta'] = df['category'].map(mapper)\n",
    "df.head()"
   ],
   "outputs": [
    {
     "data": {
      "text/plain": [
       "                                               tweet category etiqueta  \\\n",
       "0  Fascinating discovery! An abyssal fish species...  biology      NaN   \n",
       "1  Deep sea fish really said 'surface world I'm c...     meme      NaN   \n",
       "2  Research suggests rapid vertical migration mig...  biology      NaN   \n",
       "3  lmao this fish literally speedran evolving to ...     meme      NaN   \n",
       "4  The vertical migration observed in this abyssa...  biology      NaN   \n",
       "\n",
       "                                         clean_tweet  \n",
       "0  fascinating discovery abyssal fish specie obse...  \n",
       "1  deep sea fish really said surface world coming...  \n",
       "2  research suggests rapid vertical migration mig...  \n",
       "3  lmao fish literally speedran evolving surface ...  \n",
       "4  vertical migration observed abyssal specie pro...  "
      ],
      "text/html": [
       "<div>\n",
       "<style scoped>\n",
       "    .dataframe tbody tr th:only-of-type {\n",
       "        vertical-align: middle;\n",
       "    }\n",
       "\n",
       "    .dataframe tbody tr th {\n",
       "        vertical-align: top;\n",
       "    }\n",
       "\n",
       "    .dataframe thead th {\n",
       "        text-align: right;\n",
       "    }\n",
       "</style>\n",
       "<table border=\"1\" class=\"dataframe\">\n",
       "  <thead>\n",
       "    <tr style=\"text-align: right;\">\n",
       "      <th></th>\n",
       "      <th>tweet</th>\n",
       "      <th>category</th>\n",
       "      <th>etiqueta</th>\n",
       "      <th>clean_tweet</th>\n",
       "    </tr>\n",
       "  </thead>\n",
       "  <tbody>\n",
       "    <tr>\n",
       "      <th>0</th>\n",
       "      <td>Fascinating discovery! An abyssal fish species...</td>\n",
       "      <td>biology</td>\n",
       "      <td>NaN</td>\n",
       "      <td>fascinating discovery abyssal fish specie obse...</td>\n",
       "    </tr>\n",
       "    <tr>\n",
       "      <th>1</th>\n",
       "      <td>Deep sea fish really said 'surface world I'm c...</td>\n",
       "      <td>meme</td>\n",
       "      <td>NaN</td>\n",
       "      <td>deep sea fish really said surface world coming...</td>\n",
       "    </tr>\n",
       "    <tr>\n",
       "      <th>2</th>\n",
       "      <td>Research suggests rapid vertical migration mig...</td>\n",
       "      <td>biology</td>\n",
       "      <td>NaN</td>\n",
       "      <td>research suggests rapid vertical migration mig...</td>\n",
       "    </tr>\n",
       "    <tr>\n",
       "      <th>3</th>\n",
       "      <td>lmao this fish literally speedran evolving to ...</td>\n",
       "      <td>meme</td>\n",
       "      <td>NaN</td>\n",
       "      <td>lmao fish literally speedran evolving surface ...</td>\n",
       "    </tr>\n",
       "    <tr>\n",
       "      <th>4</th>\n",
       "      <td>The vertical migration observed in this abyssa...</td>\n",
       "      <td>biology</td>\n",
       "      <td>NaN</td>\n",
       "      <td>vertical migration observed abyssal specie pro...</td>\n",
       "    </tr>\n",
       "  </tbody>\n",
       "</table>\n",
       "</div>"
      ]
     },
     "execution_count": 13,
     "metadata": {},
     "output_type": "execute_result"
    }
   ],
   "execution_count": 13
  },
  {
   "cell_type": "code",
   "id": "5e9a798c9b03c4e4",
   "metadata": {
    "ExecuteTime": {
     "end_time": "2025-02-19T19:48:45.742223Z",
     "start_time": "2025-02-19T19:48:45.731857Z"
    }
   },
   "source": [
    "import contractions\n",
    "from tqdm import tqdm\n",
    "tqdm.pandas()\n",
    "\n",
    "def preprocesamiento_texto(texto):\n",
    "    texto = texto.lower()\n",
    "    texto = contractions.fix(texto)\n",
    "    texto = re.sub(r'[^a-z\\s]','', texto)\n",
    "    texto_tokenized = word_tokenize(texto)\n",
    "    texto_no_stop = [token for token in texto_tokenized if token not in stopwords_en]\n",
    "    final = [lemmatizer.lemmatize (word) for word in texto_no_stop]\n",
    "    final = ' '.join(final)\n",
    "    return final"
   ],
   "outputs": [],
   "execution_count": 14
  },
  {
   "cell_type": "code",
   "id": "b551a0caec166bf1",
   "metadata": {
    "ExecuteTime": {
     "end_time": "2025-02-19T19:48:49.636183Z",
     "start_time": "2025-02-19T19:48:49.548620Z"
    }
   },
   "source": [
    "\n",
    "\n",
    "df['clean_tweet'] = df['tweet'].progress_apply(preprocesamiento_texto)\n",
    "df.head()"
   ],
   "outputs": [
    {
     "name": "stderr",
     "output_type": "stream",
     "text": [
      "100%|██████████| 462/462 [00:00<00:00, 6745.41it/s]\n"
     ]
    },
    {
     "data": {
      "text/plain": [
       "                                               tweet category etiqueta  \\\n",
       "0  Fascinating discovery! An abyssal fish species...  biology      NaN   \n",
       "1  Deep sea fish really said 'surface world I'm c...     meme      NaN   \n",
       "2  Research suggests rapid vertical migration mig...  biology      NaN   \n",
       "3  lmao this fish literally speedran evolving to ...     meme      NaN   \n",
       "4  The vertical migration observed in this abyssa...  biology      NaN   \n",
       "\n",
       "                                         clean_tweet  \n",
       "0  fascinating discovery abyssal fish specie obse...  \n",
       "1  deep sea fish really said surface world coming...  \n",
       "2  research suggests rapid vertical migration mig...  \n",
       "3  lmao fish literally speedran evolving surface ...  \n",
       "4  vertical migration observed abyssal specie pro...  "
      ],
      "text/html": [
       "<div>\n",
       "<style scoped>\n",
       "    .dataframe tbody tr th:only-of-type {\n",
       "        vertical-align: middle;\n",
       "    }\n",
       "\n",
       "    .dataframe tbody tr th {\n",
       "        vertical-align: top;\n",
       "    }\n",
       "\n",
       "    .dataframe thead th {\n",
       "        text-align: right;\n",
       "    }\n",
       "</style>\n",
       "<table border=\"1\" class=\"dataframe\">\n",
       "  <thead>\n",
       "    <tr style=\"text-align: right;\">\n",
       "      <th></th>\n",
       "      <th>tweet</th>\n",
       "      <th>category</th>\n",
       "      <th>etiqueta</th>\n",
       "      <th>clean_tweet</th>\n",
       "    </tr>\n",
       "  </thead>\n",
       "  <tbody>\n",
       "    <tr>\n",
       "      <th>0</th>\n",
       "      <td>Fascinating discovery! An abyssal fish species...</td>\n",
       "      <td>biology</td>\n",
       "      <td>NaN</td>\n",
       "      <td>fascinating discovery abyssal fish specie obse...</td>\n",
       "    </tr>\n",
       "    <tr>\n",
       "      <th>1</th>\n",
       "      <td>Deep sea fish really said 'surface world I'm c...</td>\n",
       "      <td>meme</td>\n",
       "      <td>NaN</td>\n",
       "      <td>deep sea fish really said surface world coming...</td>\n",
       "    </tr>\n",
       "    <tr>\n",
       "      <th>2</th>\n",
       "      <td>Research suggests rapid vertical migration mig...</td>\n",
       "      <td>biology</td>\n",
       "      <td>NaN</td>\n",
       "      <td>research suggests rapid vertical migration mig...</td>\n",
       "    </tr>\n",
       "    <tr>\n",
       "      <th>3</th>\n",
       "      <td>lmao this fish literally speedran evolving to ...</td>\n",
       "      <td>meme</td>\n",
       "      <td>NaN</td>\n",
       "      <td>lmao fish literally speedran evolving surface ...</td>\n",
       "    </tr>\n",
       "    <tr>\n",
       "      <th>4</th>\n",
       "      <td>The vertical migration observed in this abyssa...</td>\n",
       "      <td>biology</td>\n",
       "      <td>NaN</td>\n",
       "      <td>vertical migration observed abyssal specie pro...</td>\n",
       "    </tr>\n",
       "  </tbody>\n",
       "</table>\n",
       "</div>"
      ]
     },
     "execution_count": 15,
     "metadata": {},
     "output_type": "execute_result"
    }
   ],
   "execution_count": 15
  },
  {
   "cell_type": "code",
   "id": "b8dfce9bc7797a02",
   "metadata": {
    "ExecuteTime": {
     "end_time": "2025-02-19T19:48:51.837532Z",
     "start_time": "2025-02-19T19:48:51.831926Z"
    }
   },
   "source": [
    "x = df['clean_tweet']\n",
    "y = df['category']"
   ],
   "outputs": [],
   "execution_count": 16
  },
  {
   "cell_type": "code",
   "id": "fa4c67cd87dec323",
   "metadata": {
    "ExecuteTime": {
     "end_time": "2025-02-19T19:48:53.341817Z",
     "start_time": "2025-02-19T19:48:53.324430Z"
    }
   },
   "source": [
    "from sklearn.model_selection import train_test_split\n",
    "x_train, x_test, y_train, y_test = train_test_split(x,y, train_size=0.7,random_state=101)\n"
   ],
   "outputs": [],
   "execution_count": 17
  },
  {
   "cell_type": "code",
   "id": "bfc9d804f452988d",
   "metadata": {
    "ExecuteTime": {
     "end_time": "2025-02-19T19:48:54.471183Z",
     "start_time": "2025-02-19T19:48:54.462314Z"
    }
   },
   "source": [
    "from sklearn.feature_extraction.text import TfidfVectorizer\n"
   ],
   "outputs": [],
   "execution_count": 18
  },
  {
   "cell_type": "code",
   "id": "8b5cd537695ea058",
   "metadata": {
    "ExecuteTime": {
     "end_time": "2025-02-19T19:48:27.161951Z",
     "start_time": "2025-02-19T19:48:27.149559Z"
    }
   },
   "source": [
    "\n",
    "tfidf_vectorizer = TfidfVectorizer()\n",
    "x_train_vectorized = tfidf_vectorizer.fit_transform(x_train)\n",
    "x_test_vectorized = tfidf_vectorizer.transform(x_test)"
   ],
   "outputs": [],
   "execution_count": 9
  },
  {
   "cell_type": "code",
   "id": "f5a4fd1fe8709b65",
   "metadata": {
    "ExecuteTime": {
     "end_time": "2025-02-19T19:48:27.189733Z",
     "start_time": "2025-02-19T19:48:27.183721Z"
    }
   },
   "source": [
    "from sklearn.svm import  SVC\n",
    "from sklearn.metrics import classification_report, confusion_matrix\n",
    "import seaborn as sns"
   ],
   "outputs": [],
   "execution_count": 10
  },
  {
   "cell_type": "code",
   "id": "7e91c4210f18b8c4",
   "metadata": {
    "ExecuteTime": {
     "end_time": "2025-02-19T19:48:27.426702Z",
     "start_time": "2025-02-19T19:48:27.209582Z"
    }
   },
   "source": [
    "model_1 = SVC()\n",
    "model_1.fit(x_train_vectorized, y_train)\n",
    "y_pred = model_1.predict(x_test_vectorized)\n",
    "\n",
    "print(classification_report(y_test, y_pred))\n",
    "\n",
    "sns.heatmap(confusion_matrix(y_test, y_pred), annot=True, fmt='.2f')"
   ],
   "outputs": [
    {
     "name": "stdout",
     "output_type": "stream",
     "text": [
      "              precision    recall  f1-score   support\n",
      "\n",
      "     biology       1.00      1.00      1.00        71\n",
      "        meme       1.00      1.00      1.00        68\n",
      "\n",
      "    accuracy                           1.00       139\n",
      "   macro avg       1.00      1.00      1.00       139\n",
      "weighted avg       1.00      1.00      1.00       139\n",
      "\n"
     ]
    },
    {
     "data": {
      "text/plain": [
       "<Axes: >"
      ]
     },
     "execution_count": 11,
     "metadata": {},
     "output_type": "execute_result"
    },
    {
     "data": {
      "text/plain": [
       "<Figure size 640x480 with 2 Axes>"
      ],
      "image/png": "[encoded data removed]"
     },
     "metadata": {},
     "output_type": "display_data"
    }
   ],
   "execution_count": 11
  },
  {
   "metadata": {
    "ExecuteTime": {
     "end_time": "2025-02-19T19:53:18.774788Z",
     "start_time": "2025-02-19T19:53:18.309952Z"
    }
   },
   "cell_type": "code",
   "source": [
    "model_2 = SVC(kernel='linear')\n",
    "model_2.fit(x_train_vectorized, y_train)\n",
    "y_pred = model_2.predict(x_test_vectorized)\n",
    "print(classification_report(y_test, y_pred))\n",
    "sns.heatmap(confusion_matrix(y_test, y_pred), annot=True, fmt='.2f')"
   ],
   "id": "eccd7ec58101e0e2",
   "outputs": [
    {
     "name": "stdout",
     "output_type": "stream",
     "text": [
      "              precision    recall  f1-score   support\n",
      "\n",
      "     biology       1.00      1.00      1.00        71\n",
      "        meme       1.00      1.00      1.00        68\n",
      "\n",
      "    accuracy                           1.00       139\n",
      "   macro avg       1.00      1.00      1.00       139\n",
      "weighted avg       1.00      1.00      1.00       139\n",
      "\n"
     ]
    },
    {
     "data": {
      "text/plain": [
       "<Axes: >"
      ]
     },
     "execution_count": 19,
     "metadata": {},
     "output_type": "execute_result"
    },
    {
     "data": {
      "text/plain": [
       "<Figure size 640x480 with 2 Axes>"
      ],
      "image/png": "[encoded data removed]"
     },
     "metadata": {},
     "output_type": "display_data"
    }
   ],
   "execution_count": 19
  },
  {
   "metadata": {},
   "cell_type": "code",
   "outputs": [],
   "execution_count": null,
   "source": "",
   "id": "46c53929e27f30"
  },
  {
   "metadata": {},
   "cell_type": "markdown",
   "source": "## Hello\n",
   "id": "ba5dfbd133169478"
  },
  {
   "metadata": {},
   "cell_type": "code",
   "outputs": [],
   "execution_count": null,
   "source": "",
   "id": "b182dc725b9154bf"
  }
 ],
 "metadata": {
  "kernelspec": {
   "display_name": "Python 3",
   "language": "python",
   "name": "python3"
  },
  "language_info": {
   "codemirror_mode": {
    "name": "ipython",
    "version": 3
   },
   "file_extension": ".py",
   "mimetype": "text/x-python",
   "name": "python",
   "nbconvert_exporter": "python",
   "pygments_lexer": "ipython3",
   "version": "3.12.6"
  }
 },
 "nbformat": 4,
 "nbformat_minor": 5
}
