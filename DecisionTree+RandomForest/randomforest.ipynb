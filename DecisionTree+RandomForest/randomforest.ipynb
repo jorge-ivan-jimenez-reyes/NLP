{
 "cells": [
  {
   "cell_type": "code",
   "id": "initial_id",
   "metadata": {
    "collapsed": true,
    "ExecuteTime": {
     "end_time": "2025-02-25T23:01:27.140438Z",
     "start_time": "2025-02-25T23:01:27.044626Z"
    }
   },
   "source": [
    "import pandas as pd\n",
    "df = pd.read_csv('SuicTweets.csv')\n",
    "df.head()\n"
   ],
   "outputs": [
    {
     "data": {
      "text/plain": [
       "                                               tweet  intention\n",
       "0  my life is meaningless i just want to end my l...          1\n",
       "1  muttering i wanna die to myself daily for a fe...          1\n",
       "2  work slave i really feel like my only purpose ...          1\n",
       "3  i did something on the 2 of october i overdose...          1\n",
       "4  i feel like no one cares i just want to die ma...          1"
      ],
      "text/html": [
       "<div>\n",
       "<style scoped>\n",
       "    .dataframe tbody tr th:only-of-type {\n",
       "        vertical-align: middle;\n",
       "    }\n",
       "\n",
       "    .dataframe tbody tr th {\n",
       "        vertical-align: top;\n",
       "    }\n",
       "\n",
       "    .dataframe thead th {\n",
       "        text-align: right;\n",
       "    }\n",
       "</style>\n",
       "<table border=\"1\" class=\"dataframe\">\n",
       "  <thead>\n",
       "    <tr style=\"text-align: right;\">\n",
       "      <th></th>\n",
       "      <th>tweet</th>\n",
       "      <th>intention</th>\n",
       "    </tr>\n",
       "  </thead>\n",
       "  <tbody>\n",
       "    <tr>\n",
       "      <th>0</th>\n",
       "      <td>my life is meaningless i just want to end my l...</td>\n",
       "      <td>1</td>\n",
       "    </tr>\n",
       "    <tr>\n",
       "      <th>1</th>\n",
       "      <td>muttering i wanna die to myself daily for a fe...</td>\n",
       "      <td>1</td>\n",
       "    </tr>\n",
       "    <tr>\n",
       "      <th>2</th>\n",
       "      <td>work slave i really feel like my only purpose ...</td>\n",
       "      <td>1</td>\n",
       "    </tr>\n",
       "    <tr>\n",
       "      <th>3</th>\n",
       "      <td>i did something on the 2 of october i overdose...</td>\n",
       "      <td>1</td>\n",
       "    </tr>\n",
       "    <tr>\n",
       "      <th>4</th>\n",
       "      <td>i feel like no one cares i just want to die ma...</td>\n",
       "      <td>1</td>\n",
       "    </tr>\n",
       "  </tbody>\n",
       "</table>\n",
       "</div>"
      ]
     },
     "execution_count": 4,
     "metadata": {},
     "output_type": "execute_result"
    }
   ],
   "execution_count": 4
  },
  {
   "metadata": {
    "ExecuteTime": {
     "end_time": "2025-02-25T23:01:27.640329Z",
     "start_time": "2025-02-25T23:01:27.364326Z"
    }
   },
   "cell_type": "code",
   "source": [
    "import re\n",
    "import nltk\n",
    "import numpy as np\n",
    "from nltk.tokenize import word_tokenize\n",
    "from nltk.corpus import stopwords\n",
    "from nltk.stem.wordnet import WordNetLemmatizer\n",
    "nltk.download('stopwords')\n",
    "nltk.download('wordnet')\n",
    "nltk.download('punkt')\n",
    "stopwords_en = stopwords.words('english')\n",
    "lemmatizer = WordNetLemmatizer()"
   ],
   "id": "ea974d05c706d0ea",
   "outputs": [
    {
     "name": "stderr",
     "output_type": "stream",
     "text": [
      "[nltk_data] Error loading stopwords: <urlopen error [SSL:\n",
      "[nltk_data]     CERTIFICATE_VERIFY_FAILED] certificate verify failed:\n",
      "[nltk_data]     unable to get local issuer certificate (_ssl.c:1000)>\n",
      "[nltk_data] Error loading wordnet: <urlopen error [SSL:\n",
      "[nltk_data]     CERTIFICATE_VERIFY_FAILED] certificate verify failed:\n",
      "[nltk_data]     unable to get local issuer certificate (_ssl.c:1000)>\n",
      "[nltk_data] Error loading punkt: <urlopen error [SSL:\n",
      "[nltk_data]     CERTIFICATE_VERIFY_FAILED] certificate verify failed:\n",
      "[nltk_data]     unable to get local issuer certificate (_ssl.c:1000)>\n"
     ]
    }
   ],
   "execution_count": 5
  },
  {
   "metadata": {
    "ExecuteTime": {
     "end_time": "2025-02-25T23:01:27.740074Z",
     "start_time": "2025-02-25T23:01:27.730765Z"
    }
   },
   "cell_type": "code",
   "source": [
    "mapper = {\n",
    "    1: 'Suicide',\n",
    "    0: 'Non-suicide'\n",
    "}\n",
    "df['etiqueta'] = df['intention'].map(mapper)\n",
    "df.head()"
   ],
   "id": "702f87d42e95ee3f",
   "outputs": [
    {
     "data": {
      "text/plain": [
       "                                               tweet  intention etiqueta\n",
       "0  my life is meaningless i just want to end my l...          1  Suicide\n",
       "1  muttering i wanna die to myself daily for a fe...          1  Suicide\n",
       "2  work slave i really feel like my only purpose ...          1  Suicide\n",
       "3  i did something on the 2 of october i overdose...          1  Suicide\n",
       "4  i feel like no one cares i just want to die ma...          1  Suicide"
      ],
      "text/html": [
       "<div>\n",
       "<style scoped>\n",
       "    .dataframe tbody tr th:only-of-type {\n",
       "        vertical-align: middle;\n",
       "    }\n",
       "\n",
       "    .dataframe tbody tr th {\n",
       "        vertical-align: top;\n",
       "    }\n",
       "\n",
       "    .dataframe thead th {\n",
       "        text-align: right;\n",
       "    }\n",
       "</style>\n",
       "<table border=\"1\" class=\"dataframe\">\n",
       "  <thead>\n",
       "    <tr style=\"text-align: right;\">\n",
       "      <th></th>\n",
       "      <th>tweet</th>\n",
       "      <th>intention</th>\n",
       "      <th>etiqueta</th>\n",
       "    </tr>\n",
       "  </thead>\n",
       "  <tbody>\n",
       "    <tr>\n",
       "      <th>0</th>\n",
       "      <td>my life is meaningless i just want to end my l...</td>\n",
       "      <td>1</td>\n",
       "      <td>Suicide</td>\n",
       "    </tr>\n",
       "    <tr>\n",
       "      <th>1</th>\n",
       "      <td>muttering i wanna die to myself daily for a fe...</td>\n",
       "      <td>1</td>\n",
       "      <td>Suicide</td>\n",
       "    </tr>\n",
       "    <tr>\n",
       "      <th>2</th>\n",
       "      <td>work slave i really feel like my only purpose ...</td>\n",
       "      <td>1</td>\n",
       "      <td>Suicide</td>\n",
       "    </tr>\n",
       "    <tr>\n",
       "      <th>3</th>\n",
       "      <td>i did something on the 2 of october i overdose...</td>\n",
       "      <td>1</td>\n",
       "      <td>Suicide</td>\n",
       "    </tr>\n",
       "    <tr>\n",
       "      <th>4</th>\n",
       "      <td>i feel like no one cares i just want to die ma...</td>\n",
       "      <td>1</td>\n",
       "      <td>Suicide</td>\n",
       "    </tr>\n",
       "  </tbody>\n",
       "</table>\n",
       "</div>"
      ]
     },
     "execution_count": 6,
     "metadata": {},
     "output_type": "execute_result"
    }
   ],
   "execution_count": 6
  },
  {
   "metadata": {
    "ExecuteTime": {
     "end_time": "2025-02-25T23:01:27.892223Z",
     "start_time": "2025-02-25T23:01:27.804333Z"
    }
   },
   "cell_type": "code",
   "source": [
    "import contractions\n",
    "from tqdm import tqdm\n",
    "tqdm.pandas()\n",
    "\n",
    "def preprocesamiento_texto(texto):\n",
    "    texto = texto.lower()\n",
    "    texto = contractions.fix(texto)\n",
    "    texto = re.sub(r'[^a-z\\s]','', texto)\n",
    "    texto_tokenized = word_tokenize(texto)\n",
    "    texto_no_stop = [token for token in texto_tokenized if token not in stopwords_en]\n",
    "    final = [lemmatizer.lemmatize (word) for word in texto_no_stop]\n",
    "    final = ' '.join(final)\n",
    "    return final"
   ],
   "id": "2e5ac600883154e6",
   "outputs": [],
   "execution_count": 7
  },
  {
   "metadata": {
    "ExecuteTime": {
     "end_time": "2025-02-25T23:01:31.747068Z",
     "start_time": "2025-02-25T23:01:27.921626Z"
    }
   },
   "cell_type": "code",
   "source": [
    "df['clean_tweet'] = df['tweet'].progress_apply(preprocesamiento_texto)\n",
    "df.head()"
   ],
   "id": "72ca255e48793a7e",
   "outputs": [
    {
     "name": "stderr",
     "output_type": "stream",
     "text": [
      "100%|██████████| 9119/9119 [00:03<00:00, 2407.24it/s]\n"
     ]
    },
    {
     "data": {
      "text/plain": [
       "                                               tweet  intention etiqueta  \\\n",
       "0  my life is meaningless i just want to end my l...          1  Suicide   \n",
       "1  muttering i wanna die to myself daily for a fe...          1  Suicide   \n",
       "2  work slave i really feel like my only purpose ...          1  Suicide   \n",
       "3  i did something on the 2 of october i overdose...          1  Suicide   \n",
       "4  i feel like no one cares i just want to die ma...          1  Suicide   \n",
       "\n",
       "                                         clean_tweet  \n",
       "0  life meaningless want end life badly life comp...  \n",
       "1  muttering want die daily month feel worthless ...  \n",
       "2  work slave really feel like purpose life make ...  \n",
       "3  something october overdosed felt alone horribl...  \n",
       "4  feel like one care want die maybe feel less lo...  "
      ],
      "text/html": [
       "<div>\n",
       "<style scoped>\n",
       "    .dataframe tbody tr th:only-of-type {\n",
       "        vertical-align: middle;\n",
       "    }\n",
       "\n",
       "    .dataframe tbody tr th {\n",
       "        vertical-align: top;\n",
       "    }\n",
       "\n",
       "    .dataframe thead th {\n",
       "        text-align: right;\n",
       "    }\n",
       "</style>\n",
       "<table border=\"1\" class=\"dataframe\">\n",
       "  <thead>\n",
       "    <tr style=\"text-align: right;\">\n",
       "      <th></th>\n",
       "      <th>tweet</th>\n",
       "      <th>intention</th>\n",
       "      <th>etiqueta</th>\n",
       "      <th>clean_tweet</th>\n",
       "    </tr>\n",
       "  </thead>\n",
       "  <tbody>\n",
       "    <tr>\n",
       "      <th>0</th>\n",
       "      <td>my life is meaningless i just want to end my l...</td>\n",
       "      <td>1</td>\n",
       "      <td>Suicide</td>\n",
       "      <td>life meaningless want end life badly life comp...</td>\n",
       "    </tr>\n",
       "    <tr>\n",
       "      <th>1</th>\n",
       "      <td>muttering i wanna die to myself daily for a fe...</td>\n",
       "      <td>1</td>\n",
       "      <td>Suicide</td>\n",
       "      <td>muttering want die daily month feel worthless ...</td>\n",
       "    </tr>\n",
       "    <tr>\n",
       "      <th>2</th>\n",
       "      <td>work slave i really feel like my only purpose ...</td>\n",
       "      <td>1</td>\n",
       "      <td>Suicide</td>\n",
       "      <td>work slave really feel like purpose life make ...</td>\n",
       "    </tr>\n",
       "    <tr>\n",
       "      <th>3</th>\n",
       "      <td>i did something on the 2 of october i overdose...</td>\n",
       "      <td>1</td>\n",
       "      <td>Suicide</td>\n",
       "      <td>something october overdosed felt alone horribl...</td>\n",
       "    </tr>\n",
       "    <tr>\n",
       "      <th>4</th>\n",
       "      <td>i feel like no one cares i just want to die ma...</td>\n",
       "      <td>1</td>\n",
       "      <td>Suicide</td>\n",
       "      <td>feel like one care want die maybe feel less lo...</td>\n",
       "    </tr>\n",
       "  </tbody>\n",
       "</table>\n",
       "</div>"
      ]
     },
     "execution_count": 8,
     "metadata": {},
     "output_type": "execute_result"
    }
   ],
   "execution_count": 8
  },
  {
   "metadata": {
    "ExecuteTime": {
     "end_time": "2025-02-25T23:01:31.761077Z",
     "start_time": "2025-02-25T23:01:31.757130Z"
    }
   },
   "cell_type": "code",
   "source": [
    "x = df['clean_tweet']\n",
    "y = df['intention']"
   ],
   "id": "7173750b330bd13a",
   "outputs": [],
   "execution_count": 9
  },
  {
   "metadata": {
    "ExecuteTime": {
     "end_time": "2025-02-25T23:01:31.789258Z",
     "start_time": "2025-02-25T23:01:31.778990Z"
    }
   },
   "cell_type": "code",
   "source": [
    "from sklearn.model_selection import train_test_split\n",
    "x_train, x_test, y_train, y_test = train_test_split(x,y, train_size=0.7,random_state=101, stratify=y)"
   ],
   "id": "aadfa34cddb34ee",
   "outputs": [],
   "execution_count": 10
  },
  {
   "metadata": {
    "ExecuteTime": {
     "end_time": "2025-02-25T23:01:31.824465Z",
     "start_time": "2025-02-25T23:01:31.822489Z"
    }
   },
   "cell_type": "code",
   "source": "from sklearn.feature_extraction.text import TfidfVectorizer\n",
   "id": "b54045e9cb70d494",
   "outputs": [],
   "execution_count": 11
  },
  {
   "metadata": {
    "ExecuteTime": {
     "end_time": "2025-02-25T23:01:32.020771Z",
     "start_time": "2025-02-25T23:01:31.878462Z"
    }
   },
   "cell_type": "code",
   "source": [
    "tfidf_vectorizer = TfidfVectorizer()\n",
    "x_train_vectorized = tfidf_vectorizer.fit_transform(x_train)\n",
    "x_test_vectorized = tfidf_vectorizer.transform(x_test)"
   ],
   "id": "e3e30d743dfa56be",
   "outputs": [],
   "execution_count": 12
  },
  {
   "metadata": {},
   "cell_type": "markdown",
   "source": "# RANDOMForest",
   "id": "f5ca6f52a18c84b4"
  },
  {
   "metadata": {
    "ExecuteTime": {
     "end_time": "2025-02-25T23:15:19.148992Z",
     "start_time": "2025-02-25T23:15:17.901684Z"
    }
   },
   "cell_type": "code",
   "source": [
    "from sklearn.ensemble import RandomForestClassifier\n",
    "#paralelizacion\n",
    "model = RandomForestClassifier(n_estimators=200, n_jobs=-1)\n",
    "model.fit(x_train_vectorized, y_train)\n",
    "y_pred = model.predict(x_test_vectorized)"
   ],
   "id": "232931aa39fcdc9f",
   "outputs": [],
   "execution_count": 30
  },
  {
   "metadata": {
    "ExecuteTime": {
     "end_time": "2025-02-25T23:12:11.716182Z",
     "start_time": "2025-02-25T23:12:11.711261Z"
    }
   },
   "cell_type": "code",
   "source": [
    "from sklearn.metrics import classification_report, confusion_matrix\n",
    "import seaborn as sns"
   ],
   "id": "674b5c84436621df",
   "outputs": [],
   "execution_count": 25
  },
  {
   "metadata": {
    "ExecuteTime": {
     "end_time": "2025-02-25T23:12:13.724850Z",
     "start_time": "2025-02-25T23:12:13.619975Z"
    }
   },
   "cell_type": "code",
   "source": "model.score(x_train_vectorized, y_train)",
   "id": "17f57cbbef4df0dd",
   "outputs": [
    {
     "data": {
      "text/plain": [
       "0.9953000156666144"
      ]
     },
     "execution_count": 26,
     "metadata": {},
     "output_type": "execute_result"
    }
   ],
   "execution_count": 26
  },
  {
   "metadata": {
    "ExecuteTime": {
     "end_time": "2025-02-25T23:12:15.647729Z",
     "start_time": "2025-02-25T23:12:15.567720Z"
    }
   },
   "cell_type": "code",
   "source": "model.score(x_test_vectorized, y_test)\n",
   "id": "ee754a8e4b0d63de",
   "outputs": [
    {
     "data": {
      "text/plain": [
       "0.8983918128654971"
      ]
     },
     "execution_count": 27,
     "metadata": {},
     "output_type": "execute_result"
    }
   ],
   "execution_count": 27
  },
  {
   "metadata": {
    "ExecuteTime": {
     "end_time": "2025-02-25T23:12:17.705273Z",
     "start_time": "2025-02-25T23:12:17.633573Z"
    }
   },
   "cell_type": "code",
   "source": "print(classification_report(y_test, model.predict(x_test_vectorized)))",
   "id": "aee14d6af1e52f9f",
   "outputs": [
    {
     "name": "stdout",
     "output_type": "stream",
     "text": [
      "              precision    recall  f1-score   support\n",
      "\n",
      "           0       0.87      0.97      0.91      1536\n",
      "           1       0.95      0.81      0.87      1200\n",
      "\n",
      "    accuracy                           0.90      2736\n",
      "   macro avg       0.91      0.89      0.89      2736\n",
      "weighted avg       0.90      0.90      0.90      2736\n",
      "\n"
     ]
    }
   ],
   "execution_count": 28
  },
  {
   "metadata": {
    "ExecuteTime": {
     "end_time": "2025-02-25T23:15:47.230625Z",
     "start_time": "2025-02-25T23:15:46.743066Z"
    }
   },
   "cell_type": "code",
   "source": "sns.heatmap(confusion_matrix(y_test, model.predict(x_test_vectorized)))",
   "id": "a3daca3c3954551f",
   "outputs": [
    {
     "data": {
      "text/plain": [
       "<Axes: >"
      ]
     },
     "execution_count": 31,
     "metadata": {},
     "output_type": "execute_result"
    },
    {
     "data": {
      "text/plain": [
       "<Figure size 640x480 with 2 Axes>"
      ],
      "image/png": "[encoded data removed]"
     },
     "metadata": {},
     "output_type": "display_data"
    }
   ],
   "execution_count": 31
  },
  {
   "metadata": {
    "ExecuteTime": {
     "end_time": "2025-02-25T23:01:55.226297Z",
     "start_time": "2025-02-25T23:01:54.428479Z"
    }
   },
   "cell_type": "code",
   "source": [
    "from sklearn.tree import DecisionTreeClassifier\n",
    "model = DecisionTreeClassifier()\n",
    "model.fit(x_train_vectorized, y_train)\n",
    "y_pred = model.predict(x_test_vectorized)"
   ],
   "id": "540eba12ed18146d",
   "outputs": [],
   "execution_count": 13
  },
  {
   "metadata": {
    "ExecuteTime": {
     "end_time": "2025-02-25T23:02:11.105114Z",
     "start_time": "2025-02-25T23:02:11.099461Z"
    }
   },
   "cell_type": "code",
   "source": [
    "from sklearn.metrics import classification_report, confusion_matrix\n",
    "import seaborn as sns"
   ],
   "id": "395723cb86cf6552",
   "outputs": [],
   "execution_count": 14
  },
  {
   "metadata": {
    "ExecuteTime": {
     "end_time": "2025-02-25T23:02:20.595699Z",
     "start_time": "2025-02-25T23:02:20.542838Z"
    }
   },
   "cell_type": "code",
   "source": "print(classification_report(y_test, y_pred))\n",
   "id": "5dcf83a1b2a6fde8",
   "outputs": [
    {
     "name": "stdout",
     "output_type": "stream",
     "text": [
      "              precision    recall  f1-score   support\n",
      "\n",
      "           0       0.86      0.87      0.87      1536\n",
      "           1       0.83      0.82      0.83      1200\n",
      "\n",
      "    accuracy                           0.85      2736\n",
      "   macro avg       0.85      0.85      0.85      2736\n",
      "weighted avg       0.85      0.85      0.85      2736\n",
      "\n"
     ]
    }
   ],
   "execution_count": 15
  }
 ],
 "metadata": {
  "kernelspec": {
   "display_name": "Python 3",
   "language": "python",
   "name": "python3"
  },
  "language_info": {
   "codemirror_mode": {
    "name": "ipython",
    "version": 2
   },
   "file_extension": ".py",
   "mimetype": "text/x-python",
   "name": "python",
   "nbconvert_exporter": "python",
   "pygments_lexer": "ipython2",
   "version": "2.7.6"
  }
 },
 "nbformat": 4,
 "nbformat_minor": 5
}
