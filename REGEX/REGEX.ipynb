{
 "cells": [
  {
   "cell_type": "code",
   "execution_count": null,
   "id": "initial_id",
   "metadata": {
    "collapsed": true
   },
   "outputs": [],
   "source": [
    "'''\n",
    "Regexes:\n",
    "Regex CURP supes estricto\n",
    "[A-Z]{4}(\\d\\d)(0[1-9]|1[0-2])(0[1-9]|[1-2]\\d|3[0-1])(H|M)[A-Z]{6}\\d\n",
    "\n",
    "Regex CURP estricto\n",
    "[A-Z]+[0-9]{2}[0-1][0-9][0-3][0-9][A-Z]+[0-9]\n",
    "\n",
    "Regex CURP\n",
    "[A-Z0-9]{18}\n",
    "[A-Z]+[0-9]+[A-Z]+[0-9]\n",
    "\n",
    "Regex telefono\n",
    "\\+5255\\d{8}\n",
    "\n",
    "Regex correos\n",
    "[a-z0-9]+_?[a-z0-9]+@(gmail|dominio).com\n",
    "'''"
   ]
  }
 ],
 "metadata": {
  "kernelspec": {
   "display_name": "Python 3",
   "language": "python",
   "name": "python3"
  },
  "language_info": {
   "codemirror_mode": {
    "name": "ipython",
    "version": 2
   },
   "file_extension": ".py",
   "mimetype": "text/x-python",
   "name": "python",
   "nbconvert_exporter": "python",
   "pygments_lexer": "ipython2",
   "version": "2.7.6"
  }
 },
 "nbformat": 4,
 "nbformat_minor": 5
}
