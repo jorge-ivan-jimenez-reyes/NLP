{
 "cells": [
  {
   "cell_type": "code",
   "id": "initial_id",
   "metadata": {
    "collapsed": true,
    "ExecuteTime": {
     "end_time": "2025-02-11T22:54:30.128206Z",
     "start_time": "2025-02-11T22:54:30.124211Z"
    }
   },
   "source": [
    "'''\n",
    "Regexes:\n",
    "Regex CURP supes estricto\n",
    "[A-Z]{4}(\\d\\d)(0[1-9]|1[0-2])(0[1-9]|[1-2]\\d|3[0-1])(H|M)[A-Z]{6}\\d\n",
    "\n",
    "Regex CURP estricto\n",
    "[A-Z]+[0-9]{2}[0-1][0-9][0-3][0-9][A-Z]+[0-9]\n",
    "\n",
    "Regex CURP\n",
    "[A-Z0-9]{18}\n",
    "[A-Z]+[0-9]+[A-Z]+[0-9]\n",
    "\n",
    "Regex telefono\n",
    "\\+5255\\d{8}\n",
    "\n",
    "Regex correos\n",
    "[a-z0-9]+_?[a-z0-9]+@(gmail|dominio).com\n",
    "'''"
   ],
   "outputs": [
    {
     "name": "stderr",
     "output_type": "stream",
     "text": [
      "<>:1: SyntaxWarning: invalid escape sequence '\\d'\n",
      "<>:1: SyntaxWarning: invalid escape sequence '\\d'\n",
      "/var/folders/_s/hp45g33j2d710jh6kddhpsx40000gq/T/ipykernel_34647/3936737232.py:1: SyntaxWarning: invalid escape sequence '\\d'\n",
      "  '''\n"
     ]
    },
    {
     "data": {
      "text/plain": [
       "'\\nRegexes:\\nRegex CURP supes estricto\\n[A-Z]{4}(\\\\d\\\\d)(0[1-9]|1[0-2])(0[1-9]|[1-2]\\\\d|3[0-1])(H|M)[A-Z]{6}\\\\d\\n\\nRegex CURP estricto\\n[A-Z]+[0-9]{2}[0-1][0-9][0-3][0-9][A-Z]+[0-9]\\n\\nRegex CURP\\n[A-Z0-9]{18}\\n[A-Z]+[0-9]+[A-Z]+[0-9]\\n\\nRegex telefono\\n\\\\+5255\\\\d{8}\\n\\nRegex correos\\n[a-z0-9]+_?[a-z0-9]+@(gmail|dominio).com\\n'"
      ]
     },
     "execution_count": 1,
     "metadata": {},
     "output_type": "execute_result"
    }
   ],
   "execution_count": 1
  },
  {
   "metadata": {
    "ExecuteTime": {
     "end_time": "2025-02-11T22:54:44.772372Z",
     "start_time": "2025-02-11T22:54:44.765421Z"
    }
   },
   "cell_type": "code",
   "source": [
    "texto = '''\n",
    "Lorem ipsum dolor sit amet, consectetur adipiscing elit. Duis molestie orci ac\n",
    "nulla luctus sagittis. In mattis mattis posuere. Nunc felis nisl, faucibus ut nunc\n",
    "non, maximus porta sem. Nulla hendrerit tortor nec pretium dignissim.\n",
    "In non dictum augue, id tincidunt dolor. Proin blandit justo eu augue ornare, sit\n",
    "amet tempus tellus interdum. Quisque fermentum nulla ut fringilla lacinia. Quisque\n",
    " lobortis bibendum ullamcorper. Sed volutpat id dui nec elementum. Nullam cursus tellus\n",
    " massa, at tempus magna pretium id. Nullam vitae efficitur lorem. Morbi ultricies diam metus,\n",
    "   eget ultricies est dictum sit amet.\n",
    "+525511002299\n",
    "Maecenas tempus finibus accumsan. In vel diam sem. Vivamus lobortis neque tortor,\n",
    "non eleifend est dictum ac. Sed semper, neque at ultricies placerat, dolor mauris pretium\n",
    "felis, vel vulputate nisl lacus et erat. Nullam nulla turpis, lobortis in libero\n",
    "vel, semper venenatis leo. Donec sed lorem quis nunc aliquam accumsan. Cras nec\n",
    "consectetur nulla, a porttitor mauris. Suspendisse id est id risus gravida pharetra.\n",
    "Pellentesque blandit tellus in tempor dictum. Nunc egestas eu nulla nec finibus.\n",
    "+525566774433\n",
    "Mauris malesuada est a ipsum finibus, at vehicula est vulputate. Quisque tincidunt\n",
    "consectetur felis. Etiam auctor urna urna, non ornare augue venenatis et.\n",
    "Vestibulum porta nisl non egestas vulputate.\n",
    "11/12/2011\n",
    "Curabitur gravida, urna sed viverra\n",
    "finibus, lectus ex tincidunt erat, vitae eleifend enim orci vel augue.\n",
    "Curabitur eu egestas turpis, vel pharetra turpis. Aenean condimentum tincidunt\n",
    "02/02/1995\n",
    "gravida. Sed sit amet dui nec erat euismod tristique. Morbi tempor, eros at blandit\n",
    "scelerisque, nulla enim ornare metus, non ornare mi ex ut quam. Donec cursus sapien sit\n",
    "amet nunc condimentum, quis sollicitudin magna viverra. Curabitur non nisl eros. Aliquam\n",
    "et sagittis sem. Etiam rhoncus malesuada metus, at sollicitudin elit vestibulum in.\n",
    "Vivamus vel dignissim tellus, quis venenatis magna.\n",
    "'''"
   ],
   "id": "939263543f0da6e6",
   "outputs": [],
   "execution_count": 2
  },
  {
   "metadata": {
    "ExecuteTime": {
     "end_time": "2025-02-11T22:54:59.412999Z",
     "start_time": "2025-02-11T22:54:58.815451Z"
    }
   },
   "cell_type": "code",
   "source": [
    "import re\n",
    "import pandas as pd"
   ],
   "id": "856e8b35be4f6f1b",
   "outputs": [],
   "execution_count": 3
  },
  {
   "metadata": {},
   "cell_type": "code",
   "outputs": [],
   "execution_count": null,
   "source": [
    "numeros = re.findall(r'\\+5255\\d{8}', texto)\n",
    "numeros"
   ],
   "id": "46637cf01179676b"
  },
  {
   "metadata": {},
   "cell_type": "code",
   "outputs": [],
   "execution_count": null,
   "source": [
    "fechas = re.findall(r'(\\d{2})/(\\d{2})/(\\d{4})', texto)\n",
    "fechas"
   ],
   "id": "3a5f9b969929a537"
  },
  {
   "metadata": {},
   "cell_type": "code",
   "outputs": [],
   "execution_count": null,
   "source": [
    "datos = {\n",
    "    'id':['AAA123','QWE321'],\n",
    "    'texto': ['+525544773388 Hola, mi numero es +525511223344, banana +525544773388', 'Hablale al +525500998877 y despues al +525511223344'],\n",
    "    'numero': [2,3]\n",
    "}\n",
    "\n",
    "df = pd.DataFrame(datos)\n",
    "df"
   ],
   "id": "3b174aa9a4db704f"
  },
  {
   "metadata": {},
   "cell_type": "code",
   "outputs": [],
   "execution_count": null,
   "source": [
    "datos = {\n",
    "    'id':['AAA123','QWE321'],\n",
    "    'texto': ['+525544773388 Hola, mi numero es +525511223344, banana +525544773388', 'Hablale al +525500998877 y despues al +525511223344'],\n",
    "    'numero': [2,3]\n",
    "}\n",
    "\n",
    "df = pd.DataFrame(datos)\n",
    "df"
   ],
   "id": "2074b9a25a9ab39e"
  }
 ],
 "metadata": {
  "kernelspec": {
   "display_name": "Python 3",
   "language": "python",
   "name": "python3"
  },
  "language_info": {
   "codemirror_mode": {
    "name": "ipython",
    "version": 2
   },
   "file_extension": ".py",
   "mimetype": "text/x-python",
   "name": "python",
   "nbconvert_exporter": "python",
   "pygments_lexer": "ipython2",
   "version": "2.7.6"
  }
 },
 "nbformat": 4,
 "nbformat_minor": 5
}
