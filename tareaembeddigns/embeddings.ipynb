{
 "cells": [
  {
   "metadata": {},
   "cell_type": "markdown",
   "source": [
    "\n",
    " Instrucciones:\n",
    "\n",
    "Utilizarán el dataset de tweets sobre desastres naturales\n",
    "Estos tweets corresponden a 2 categorías. Los tweets marcados con un 1, corresponden a desastres reales, los marcados con 0 corresponden a desastres no reales\n",
    "\n",
    "1. Mapear los 1 a \"real disaster\", y los 0 a \"not-real disaster\"\n",
    "\n",
    "2. Crear nubes de palabras de unigramas. Una para los tweets sobre desastres verdaderos, y una para los tweets sobre desastres no reales\n",
    "\n",
    "3. Crear graficos de barras que muestren los 15 unigramas mas comunes. Uno para los tweets sobre desastres verdaderos, y uno para los tweets sobre desastres no reales\n",
    "\n",
    "4. Crear nubes de palabras de unigramas. Una para los tweets sobre desastres verdaderos, y una para los tweets sobre desastres no reales\n",
    "\n",
    "5. Crear graficos de barras que muestren los 15 unigramas mas comunes. Uno para los tweets sobre desastres verdaderos, y uno para los tweets sobre desastres no reales\n",
    "\n",
    "6. Crear nubes de palabras de bigramas. Una para los tweets sobre desastres verdaderos, y una para los tweets sobre desastres no reales\n",
    "\n",
    "7. Crear graficos de barras que muestren los 15 bigramas mas comunes. Uno para los tweets sobre desastres verdaderos, y uno para los tweets sobre desastres no reales\n",
    "\n",
    "8. Crear nubes de palabras de trigramas. Una para los tweets sobre desastres verdaderos, y una para los tweets sobre desastres no reales\n",
    "\n",
    "9. Crear graficos de barras que muestren los 15 trigramas mas comunes. Uno para los tweets sobre desastres verdaderos, y uno para los tweets sobre desastres no reales\n",
    "\n",
    "10. Crear una funcion de vectorizacion para los tweets del dataset. La funcion debera convertir a minusculas, eliminar hashtags, taggeos del tipo \"@usuario\" e hipervinculos. Eliminar stopwords, lematizar y obtener la representacion vectorial del texto con base en los vectores de GloVe (glove.6B.300d.txt). Aplicar dicha funcion sobre la columna que contiene el texto de los tweets. Guardar ese resultado en una columna nueva llamada \"vector\"\n",
    "\n",
    "11. Crear un modelo de TSNE que permita visualizar los vectores obtenidos en 2 dimensiones. El color estará dictado por la categoría del tweet (desastre real o no) y el hover data deberá ser el texto del tweet original\n",
    "\n",
    "12. Crear un pipeline de clasificacion para predecir el contenido de la columna \"target\". Pueden usar la cantidad de modelos e hiperparametros que quieran (nota: minimo dos modelos con dos combianaciones distitnas de parametros cada uno)\n",
    "\n",
    "13. Crear un motor de busqueda sobre el dataset utilizando similitud coseno (es decir, se debera vectorizar la pregunta  a buscar y computar su similitud contra todos los vectores del dataset. Al final, mostrar los resultados mas similares)\n",
    "Se sugiere implementar un parametro \"x\" para controlar el numero de records devueltos. Ejemplo: setear X a 10 implicaria regresar los 10 textos mas parecidos\n"
   ],
   "id": "6af6baefc775614f"
  },
  {
   "cell_type": "code",
   "id": "initial_id",
   "metadata": {
    "collapsed": true,
    "ExecuteTime": {
     "end_time": "2025-03-21T22:52:09.549116Z",
     "start_time": "2025-03-21T22:52:08.601991Z"
    }
   },
   "source": [
    "import numpy as np\n",
    "import pandas as pd"
   ],
   "outputs": [],
   "execution_count": 1
  },
  {
   "metadata": {
    "ExecuteTime": {
     "end_time": "2025-03-21T22:58:22.253010Z",
     "start_time": "2025-03-21T22:58:22.225003Z"
    }
   },
   "cell_type": "code",
   "source": [
    "import re\n",
    "import nltk\n",
    "import numpy as np\n",
    "import ssl\n",
    "try:\n",
    "    _create_unverified_https_context = ssl._create_unverified_context\n",
    "except AttributeError:\n",
    "    # Legacy Python that doesn't verify HTTPS certificates by default\n",
    "    pass\n",
    "else:\n",
    "    ssl._create_default_https_context = _create_unverified_https_context\n",
    "\n",
    "from nltk.tokenize import word_tokenize\n",
    "from nltk.corpus import stopwords\n",
    "from nltk.stem.wordnet import WordNetLemmatizer\n",
    "nltk.download('stopwords')\n",
    "nltk.download('wordnet')\n",
    "nltk.download('punkt')\n",
    "nltk.download('punkt_tab')\n",
    "nltk.download('averaged_perceptron_tagger')\n",
    "stopwords_en = stopwords.words('english')\n",
    "lemmatizer = WordNetLemmatizer()"
   ],
   "id": "11b5e1a644de7f0c",
   "outputs": [
    {
     "name": "stderr",
     "output_type": "stream",
     "text": [
      "[nltk_data] Downloading package stopwords to\n",
      "[nltk_data]     /Users/jorgejimenez/nltk_data...\n",
      "[nltk_data]   Package stopwords is already up-to-date!\n",
      "[nltk_data] Downloading package wordnet to\n",
      "[nltk_data]     /Users/jorgejimenez/nltk_data...\n",
      "[nltk_data]   Package wordnet is already up-to-date!\n",
      "[nltk_data] Downloading package punkt to\n",
      "[nltk_data]     /Users/jorgejimenez/nltk_data...\n",
      "[nltk_data]   Package punkt is already up-to-date!\n",
      "[nltk_data] Downloading package punkt_tab to\n",
      "[nltk_data]     /Users/jorgejimenez/nltk_data...\n",
      "[nltk_data]   Package punkt_tab is already up-to-date!\n",
      "[nltk_data] Downloading package averaged_perceptron_tagger to\n",
      "[nltk_data]     /Users/jorgejimenez/nltk_data...\n",
      "[nltk_data]   Package averaged_perceptron_tagger is already up-to-\n",
      "[nltk_data]       date!\n"
     ]
    }
   ],
   "execution_count": 5
  },
  {
   "metadata": {
    "ExecuteTime": {
     "end_time": "2025-03-21T22:58:26.751735Z",
     "start_time": "2025-03-21T22:58:26.720352Z"
    }
   },
   "cell_type": "code",
   "source": "df = pd.read_csv('/Users/jorgejimenez/Documents/UP/NLP/redesneuronales/clickbait_dataset.csv', encoding = \"latin-1\")",
   "id": "13f8a033808005f9",
   "outputs": [],
   "execution_count": 6
  },
  {
   "metadata": {
    "ExecuteTime": {
     "end_time": "2025-03-21T22:58:27.985240Z",
     "start_time": "2025-03-21T22:58:27.975588Z"
    }
   },
   "cell_type": "code",
   "source": "df.head()",
   "id": "ee29c6db7f473ed5",
   "outputs": [
    {
     "data": {
      "text/plain": [
       "                                            headline  clickbait\n",
       "0  This Is What $1 USD Gets You In Food All Aroun...          1\n",
       "1  Make These Easy Chicken Fajita Quesadillas At ...          1\n",
       "2  The Hardest \"Walking Dead\" Video Game Quiz You...          1\n",
       "3  34 Online Shops Based In The Southeast You Sho...          1\n",
       "4  US and France to work together for new Iran sa...          0"
      ],
      "text/html": [
       "<div>\n",
       "<style scoped>\n",
       "    .dataframe tbody tr th:only-of-type {\n",
       "        vertical-align: middle;\n",
       "    }\n",
       "\n",
       "    .dataframe tbody tr th {\n",
       "        vertical-align: top;\n",
       "    }\n",
       "\n",
       "    .dataframe thead th {\n",
       "        text-align: right;\n",
       "    }\n",
       "</style>\n",
       "<table border=\"1\" class=\"dataframe\">\n",
       "  <thead>\n",
       "    <tr style=\"text-align: right;\">\n",
       "      <th></th>\n",
       "      <th>headline</th>\n",
       "      <th>clickbait</th>\n",
       "    </tr>\n",
       "  </thead>\n",
       "  <tbody>\n",
       "    <tr>\n",
       "      <th>0</th>\n",
       "      <td>This Is What $1 USD Gets You In Food All Aroun...</td>\n",
       "      <td>1</td>\n",
       "    </tr>\n",
       "    <tr>\n",
       "      <th>1</th>\n",
       "      <td>Make These Easy Chicken Fajita Quesadillas At ...</td>\n",
       "      <td>1</td>\n",
       "    </tr>\n",
       "    <tr>\n",
       "      <th>2</th>\n",
       "      <td>The Hardest \"Walking Dead\" Video Game Quiz You...</td>\n",
       "      <td>1</td>\n",
       "    </tr>\n",
       "    <tr>\n",
       "      <th>3</th>\n",
       "      <td>34 Online Shops Based In The Southeast You Sho...</td>\n",
       "      <td>1</td>\n",
       "    </tr>\n",
       "    <tr>\n",
       "      <th>4</th>\n",
       "      <td>US and France to work together for new Iran sa...</td>\n",
       "      <td>0</td>\n",
       "    </tr>\n",
       "  </tbody>\n",
       "</table>\n",
       "</div>"
      ]
     },
     "execution_count": 7,
     "metadata": {},
     "output_type": "execute_result"
    }
   ],
   "execution_count": 7
  },
  {
   "metadata": {
    "ExecuteTime": {
     "end_time": "2025-03-21T23:05:27.891440Z",
     "start_time": "2025-03-21T23:05:24.416281Z"
    }
   },
   "cell_type": "code",
   "source": [
    "stop_words = stopwords.words('english')\n",
    "lemmatizer = WordNetLemmatizer()\n",
    "\n",
    "def preprocesamiento_texto(texto):\n",
    "    texto = contractions.fix(texto)\n",
    "    texto = texto.lower()\n",
    "    texto = re.sub(r'[^a-z\\s]', '', texto)\n",
    "    texto = word_tokenize(texto)\n",
    "    texto = [token for token in texto if token not in stop_words]\n",
    "    texto = [lemmatizer.lemmatize(word) for word in texto]\n",
    "    texto = ' '.join(texto)\n",
    "    return texto\n",
    "\n",
    "df['clean_headline'] = df['headline'].progress_apply(preprocesamiento_texto)\n",
    "df.head()\n"
   ],
   "id": "f8793563ad477823",
   "outputs": [
    {
     "name": "stderr",
     "output_type": "stream",
     "text": [
      "100%|██████████| 32000/32000 [00:03<00:00, 9631.93it/s] \n"
     ]
    },
    {
     "data": {
      "text/plain": [
       "                                            headline  clickbait  \\\n",
       "0  This Is What $1 USD Gets You In Food All Aroun...          1   \n",
       "1  Make These Easy Chicken Fajita Quesadillas At ...          1   \n",
       "2  The Hardest \"Walking Dead\" Video Game Quiz You...          1   \n",
       "3  34 Online Shops Based In The Southeast You Sho...          1   \n",
       "4  US and France to work together for new Iran sa...          0   \n",
       "\n",
       "        etiqueta                                  clean_headline  \n",
       "0  real disaster                       usd get food around world  \n",
       "1  real disaster        make easy chicken fajita quesadilla home  \n",
       "2  real disaster  hardest walking dead video game quiz ever take  \n",
       "3  real disaster            online shop based southeast shopping  \n",
       "4                       u france work together new iran sanction  "
      ],
      "text/html": [
       "<div>\n",
       "<style scoped>\n",
       "    .dataframe tbody tr th:only-of-type {\n",
       "        vertical-align: middle;\n",
       "    }\n",
       "\n",
       "    .dataframe tbody tr th {\n",
       "        vertical-align: top;\n",
       "    }\n",
       "\n",
       "    .dataframe thead th {\n",
       "        text-align: right;\n",
       "    }\n",
       "</style>\n",
       "<table border=\"1\" class=\"dataframe\">\n",
       "  <thead>\n",
       "    <tr style=\"text-align: right;\">\n",
       "      <th></th>\n",
       "      <th>headline</th>\n",
       "      <th>clickbait</th>\n",
       "      <th>etiqueta</th>\n",
       "      <th>clean_headline</th>\n",
       "    </tr>\n",
       "  </thead>\n",
       "  <tbody>\n",
       "    <tr>\n",
       "      <th>0</th>\n",
       "      <td>This Is What $1 USD Gets You In Food All Aroun...</td>\n",
       "      <td>1</td>\n",
       "      <td>real disaster</td>\n",
       "      <td>usd get food around world</td>\n",
       "    </tr>\n",
       "    <tr>\n",
       "      <th>1</th>\n",
       "      <td>Make These Easy Chicken Fajita Quesadillas At ...</td>\n",
       "      <td>1</td>\n",
       "      <td>real disaster</td>\n",
       "      <td>make easy chicken fajita quesadilla home</td>\n",
       "    </tr>\n",
       "    <tr>\n",
       "      <th>2</th>\n",
       "      <td>The Hardest \"Walking Dead\" Video Game Quiz You...</td>\n",
       "      <td>1</td>\n",
       "      <td>real disaster</td>\n",
       "      <td>hardest walking dead video game quiz ever take</td>\n",
       "    </tr>\n",
       "    <tr>\n",
       "      <th>3</th>\n",
       "      <td>34 Online Shops Based In The Southeast You Sho...</td>\n",
       "      <td>1</td>\n",
       "      <td>real disaster</td>\n",
       "      <td>online shop based southeast shopping</td>\n",
       "    </tr>\n",
       "    <tr>\n",
       "      <th>4</th>\n",
       "      <td>US and France to work together for new Iran sa...</td>\n",
       "      <td>0</td>\n",
       "      <td></td>\n",
       "      <td>u france work together new iran sanction</td>\n",
       "    </tr>\n",
       "  </tbody>\n",
       "</table>\n",
       "</div>"
      ]
     },
     "execution_count": 11,
     "metadata": {},
     "output_type": "execute_result"
    }
   ],
   "execution_count": 11
  },
  {
   "metadata": {
    "ExecuteTime": {
     "end_time": "2025-03-21T23:06:02.820409Z",
     "start_time": "2025-03-21T23:06:02.801627Z"
    }
   },
   "cell_type": "code",
   "source": [
    "mapper = {\n",
    "    1: 'real disaster',\n",
    "    0: 'not-real disaster'\n",
    "}\n",
    "df['etiqueta'] = df['clickbait'].map(mapper)\n",
    "df.head()"
   ],
   "id": "8edddc2cc681e348",
   "outputs": [
    {
     "data": {
      "text/plain": [
       "                                            headline  clickbait  \\\n",
       "0  This Is What $1 USD Gets You In Food All Aroun...          1   \n",
       "1  Make These Easy Chicken Fajita Quesadillas At ...          1   \n",
       "2  The Hardest \"Walking Dead\" Video Game Quiz You...          1   \n",
       "3  34 Online Shops Based In The Southeast You Sho...          1   \n",
       "4  US and France to work together for new Iran sa...          0   \n",
       "\n",
       "            etiqueta                                  clean_headline  \n",
       "0      real disaster                       usd get food around world  \n",
       "1      real disaster        make easy chicken fajita quesadilla home  \n",
       "2      real disaster  hardest walking dead video game quiz ever take  \n",
       "3      real disaster            online shop based southeast shopping  \n",
       "4  not-real disaster        u france work together new iran sanction  "
      ],
      "text/html": [
       "<div>\n",
       "<style scoped>\n",
       "    .dataframe tbody tr th:only-of-type {\n",
       "        vertical-align: middle;\n",
       "    }\n",
       "\n",
       "    .dataframe tbody tr th {\n",
       "        vertical-align: top;\n",
       "    }\n",
       "\n",
       "    .dataframe thead th {\n",
       "        text-align: right;\n",
       "    }\n",
       "</style>\n",
       "<table border=\"1\" class=\"dataframe\">\n",
       "  <thead>\n",
       "    <tr style=\"text-align: right;\">\n",
       "      <th></th>\n",
       "      <th>headline</th>\n",
       "      <th>clickbait</th>\n",
       "      <th>etiqueta</th>\n",
       "      <th>clean_headline</th>\n",
       "    </tr>\n",
       "  </thead>\n",
       "  <tbody>\n",
       "    <tr>\n",
       "      <th>0</th>\n",
       "      <td>This Is What $1 USD Gets You In Food All Aroun...</td>\n",
       "      <td>1</td>\n",
       "      <td>real disaster</td>\n",
       "      <td>usd get food around world</td>\n",
       "    </tr>\n",
       "    <tr>\n",
       "      <th>1</th>\n",
       "      <td>Make These Easy Chicken Fajita Quesadillas At ...</td>\n",
       "      <td>1</td>\n",
       "      <td>real disaster</td>\n",
       "      <td>make easy chicken fajita quesadilla home</td>\n",
       "    </tr>\n",
       "    <tr>\n",
       "      <th>2</th>\n",
       "      <td>The Hardest \"Walking Dead\" Video Game Quiz You...</td>\n",
       "      <td>1</td>\n",
       "      <td>real disaster</td>\n",
       "      <td>hardest walking dead video game quiz ever take</td>\n",
       "    </tr>\n",
       "    <tr>\n",
       "      <th>3</th>\n",
       "      <td>34 Online Shops Based In The Southeast You Sho...</td>\n",
       "      <td>1</td>\n",
       "      <td>real disaster</td>\n",
       "      <td>online shop based southeast shopping</td>\n",
       "    </tr>\n",
       "    <tr>\n",
       "      <th>4</th>\n",
       "      <td>US and France to work together for new Iran sa...</td>\n",
       "      <td>0</td>\n",
       "      <td>not-real disaster</td>\n",
       "      <td>u france work together new iran sanction</td>\n",
       "    </tr>\n",
       "  </tbody>\n",
       "</table>\n",
       "</div>"
      ]
     },
     "execution_count": 12,
     "metadata": {},
     "output_type": "execute_result"
    }
   ],
   "execution_count": 12
  },
  {
   "metadata": {},
   "cell_type": "markdown",
   "source": "2. Crear nubes de palabras de unigramas. Una para los tweets sobre desastres verdaderos, y una para los tweets sobre desastres no reales\n",
   "id": "532a19eec89432b8"
  },
  {
   "metadata": {},
   "cell_type": "code",
   "outputs": [],
   "execution_count": null,
   "source": "",
   "id": "9090da6c1199b0a7"
  },
  {
   "metadata": {},
   "cell_type": "markdown",
   "source": "3. Crear graficos de barras que muestren los 15 unigramas mas comunes. Uno para los tweets sobre desastres verdaderos, y uno para los tweets sobre desastres no reales",
   "id": "b33835c0c5c7483f"
  },
  {
   "metadata": {},
   "cell_type": "code",
   "outputs": [],
   "execution_count": null,
   "source": "",
   "id": "4ee201fb21e79555"
  },
  {
   "metadata": {},
   "cell_type": "markdown",
   "source": "4. Crear nubes de palabras de unigramas. Una para los tweets sobre desastres verdaderos, y una para los tweets sobre desastres no reales\n",
   "id": "6e2537b21029d38e"
  },
  {
   "metadata": {},
   "cell_type": "code",
   "outputs": [],
   "execution_count": null,
   "source": "",
   "id": "78a0a67d113d360"
  },
  {
   "metadata": {},
   "cell_type": "markdown",
   "source": "5. Crear graficos de barras que muestren los 15 unigramas mas comunes. Uno para los tweets sobre desastres verdaderos, y uno para los tweets sobre desastres no reales",
   "id": "e2c984c478d5e6ff"
  },
  {
   "metadata": {},
   "cell_type": "code",
   "outputs": [],
   "execution_count": null,
   "source": "",
   "id": "33b0cc82a07e36a6"
  },
  {
   "metadata": {},
   "cell_type": "markdown",
   "source": "6. Crear nubes de palabras de bigramas. Una para los tweets sobre desastres verdaderos, y una para los tweets sobre desastres no reales\n",
   "id": "bf189ec825eeb5f8"
  },
  {
   "metadata": {},
   "cell_type": "code",
   "outputs": [],
   "execution_count": null,
   "source": "",
   "id": "7399869c0e399075"
  },
  {
   "metadata": {},
   "cell_type": "markdown",
   "source": "7. Crear graficos de barras que muestren los 15 bigramas mas comunes. Uno para los tweets sobre desastres verdaderos, y uno para los tweets sobre desastres no reales\n",
   "id": "bcf98dc463ad3e40"
  },
  {
   "metadata": {},
   "cell_type": "code",
   "outputs": [],
   "execution_count": null,
   "source": "",
   "id": "bad3dad42c2beb72"
  },
  {
   "metadata": {},
   "cell_type": "markdown",
   "source": "8. Crear nubes de palabras de trigramas. Una para los tweets sobre desastres verdaderos, y una para los tweets sobre desastres no reales",
   "id": "67caac8821aca29d"
  },
  {
   "metadata": {},
   "cell_type": "code",
   "outputs": [],
   "execution_count": null,
   "source": "",
   "id": "6377a664472c5500"
  },
  {
   "metadata": {},
   "cell_type": "markdown",
   "source": "9. Crear graficos de barras que muestren los 15 trigramas mas comunes. Uno para los tweets sobre desastres verdaderos, y uno para los tweets sobre desastres no reales",
   "id": "5e034b70a000094"
  },
  {
   "metadata": {},
   "cell_type": "code",
   "outputs": [],
   "execution_count": null,
   "source": "",
   "id": "40d5f8bc13404385"
  },
  {
   "metadata": {},
   "cell_type": "markdown",
   "source": "10. Crear una funcion de vectorizacion para los tweets del dataset. La funcion debera convertir a minusculas, eliminar hashtags, taggeos del tipo \"@usuario\" e hipervinculos. Eliminar stopwords, lematizar y obtener la representacion vectorial del texto con base en los vectores de GloVe (glove.6B.300d.txt). Aplicar dicha funcion sobre la columna que contiene el texto de los tweets. Guardar ese resultado en una columna nueva llamada \"vector\"",
   "id": "c164867c7f22b9e5"
  },
  {
   "metadata": {},
   "cell_type": "code",
   "outputs": [],
   "execution_count": null,
   "source": "",
   "id": "df66314888ff0c4d"
  },
  {
   "metadata": {},
   "cell_type": "markdown",
   "source": "11. Crear un modelo de TSNE que permita visualizar los vectores obtenidos en 2 dimensiones. El color estará dictado por la categoría del tweet (desastre real o no) y el hover data deberá ser el texto del tweet original",
   "id": "903a88a63a8a1b35"
  },
  {
   "metadata": {},
   "cell_type": "code",
   "outputs": [],
   "execution_count": null,
   "source": "",
   "id": "adf0be6872b6ec7d"
  },
  {
   "metadata": {},
   "cell_type": "markdown",
   "source": [
    "\n",
    "12. Crear un pipeline de clasificacion para predecir el contenido de la columna \"target\". Pueden usar la cantidad de modelos e hiperparametros que quieran (nota: minimo dos modelos con dos combianaciones distitnas de parametros cada uno)\n"
   ],
   "id": "6bbbf4d6558e61cb"
  },
  {
   "metadata": {},
   "cell_type": "code",
   "outputs": [],
   "execution_count": null,
   "source": "",
   "id": "4713d358d13f6603"
  },
  {
   "metadata": {},
   "cell_type": "markdown",
   "source": [
    "13. Crear un motor de busqueda sobre el dataset utilizando similitud coseno (es decir, se debera vectorizar la pregunta  a buscar y computar su similitud contra todos los vectores del dataset. Al final, mostrar los resultados mas similares)\n",
    "Se sugiere implementar un parametro \"x\" para controlar el numero de records devueltos. Ejemplo: setear X a 10 implicaria regresar los 10 textos mas parecidos\n"
   ],
   "id": "a79ecae72b8a0ca3"
  },
  {
   "metadata": {},
   "cell_type": "code",
   "outputs": [],
   "execution_count": null,
   "source": "",
   "id": "290caccecdd836a6"
  }
 ],
 "metadata": {
  "kernelspec": {
   "display_name": "Python 3",
   "language": "python",
   "name": "python3"
  },
  "language_info": {
   "codemirror_mode": {
    "name": "ipython",
    "version": 2
   },
   "file_extension": ".py",
   "mimetype": "text/x-python",
   "name": "python",
   "nbconvert_exporter": "python",
   "pygments_lexer": "ipython2",
   "version": "2.7.6"
  }
 },
 "nbformat": 4,
 "nbformat_minor": 5
}
