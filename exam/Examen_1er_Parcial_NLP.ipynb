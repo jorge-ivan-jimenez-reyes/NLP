{
 "nbformat": 4,
 "nbformat_minor": 0,
 "metadata": {
  "colab": {
   "provenance": []
  },
  "kernelspec": {
   "name": "python3",
   "display_name": "Python 3"
  },
  "language_info": {
   "name": "python"
  }
 },
 "cells": [
  {
   "cell_type": "markdown",
   "source": [
    "# Examen Primer Parcial NLP"
   ],
   "metadata": {
    "id": "hl9aAPgs5-Fv"
   }
  },
  {
   "cell_type": "markdown",
   "source": [
    "Instrucciones:\n",
    "- Lee cuidadosamente cada pregunta antes de contestar.\n",
    "\n",
    "\n",
    "- No se resuelven dudas durante el examen.\n",
    "\n",
    "\n",
    "- Se permite consultar apuntes, ejercicios previos e internet para contestar el examen.\n",
    "\n",
    "\n",
    "- Cualquier uso de IA Generativa (ChatGPT, Google Gemini, entre otros) deberá poder ser defendido por el alumno. I.E. El alumno deberá poder explicar claramente lo que el codigo hace durante la clase de revisión de examen. **De lo contrario, dicha pregunta quedará anulada**.\n",
    "\n",
    "\n",
    "- Queda **prohibido** el consultar/apoyar a otros compañeros durante la realizacion del examen.\n",
    "\n",
    "\n",
    "- El examen debe estar subido a moodle a mas tardar el dia **Sabado 2 de Marzo de 2024 a las 11:59 de la noche**.\n",
    "\n",
    "\n",
    "- El unico formato valido para el examen es .ipynb. Es decir, una vez terminen, deberán guardar cambios y descargar su Notebook (File/Download/Download .ipynb) Para posteriormente subir dicho archivo a Moodle **NO SE ADMITEN OTROS FORMATOS**\n",
    "\n",
    "\n",
    "- Recordar que la copia en examenes es una **falta grave al codigo de la Universidad Panamericana**. La acumulación de 2 amonestaciones de este tipo devendrá en la **expulsión del alumn@ / alumn@s involucrados**\n",
    "\n",
    "\n",
    "- Cualquier caso de falta disciplinaria será turnado al Comité correspondiente de acuerdo a lo marcado en el Reglamento General de la Universidad Panamericana (Artículos 206 y 207), al Reglamento de la Facultad de Ingeniería (Artículos 86, 206, 207 y 209 ) y al Código de Ética de la Facultad de Ingeniería."
   ],
   "metadata": {
    "id": "-ZvSdeiY6CzR"
   }
  },
  {
   "cell_type": "code",
   "source": [
    "#Utilizando el dataset \"clickbait_dataset.csv\", realizar lo siguiente:\n"
   ],
   "metadata": {
    "id": "YzwHdVGI6AT1"
   },
   "execution_count": null,
   "outputs": []
  },
  {
   "metadata": {},
   "cell_type": "code",
   "outputs": [],
   "execution_count": null,
   "source": ""
  },
  {
   "cell_type": "code",
   "source": [
    "#1) Determina si existen valores nulos en el set de datos. De ser asi, elimina los records nulos"
   ],
   "metadata": {
    "id": "sh_r2bh87oo-"
   },
   "execution_count": null,
   "outputs": []
  },
  {
   "cell_type": "code",
   "source": [
    "#2) Crea una funcion de preprocesamiento de texto adecuada al texto que se encuentra en la columna de \"headline\"\n",
    "#y aplica tu funcion sobre la columna \"headline\". El resultado de la aplicacion de la funcion de preprocesamiento deberá ser guardado\n",
    "#en una nueva columna"
   ],
   "metadata": {
    "id": "2LY8mM-97sBE"
   },
   "execution_count": null,
   "outputs": []
  },
  {
   "cell_type": "code",
   "source": [],
   "metadata": {
    "id": "o8hcCpEhc0B7"
   },
   "execution_count": null,
   "outputs": []
  },
  {
   "cell_type": "code",
   "source": [
    "#3) En la columna de \"clickbait\", cambia los 1 por la palabra \"clickbait\" y los 0 por \"non-clickbait\""
   ],
   "metadata": {
    "id": "tqwcMAQi7zmj"
   },
   "execution_count": null,
   "outputs": []
  },
  {
   "cell_type": "code",
   "source": [
    "#4) Crear dos nubes de palabras. Una para los encabezados que son clickbait, y otra con los que no lo son. Utilizar unigramas"
   ],
   "metadata": {
    "id": "DjYqgSwB79Lv"
   },
   "execution_count": null,
   "outputs": []
  },
  {
   "cell_type": "code",
   "source": [
    "#5) Crear dos nubes de palabras. Una para los encabezados que son clickbait, y otra con los que no lo son. Utilizar bigramas"
   ],
   "metadata": {
    "id": "ctpGIKUt8CzX"
   },
   "execution_count": null,
   "outputs": []
  },
  {
   "cell_type": "code",
   "source": [
    "#6) Crear dos nubes de palabras. Una para los encabezados que son clickbait, y otra con los que no lo son. Utilizar trigramas"
   ],
   "metadata": {
    "id": "IbJ12p6v8GXe"
   },
   "execution_count": null,
   "outputs": []
  },
  {
   "cell_type": "code",
   "source": [
    "#7) Escribe un comentario en el que intentes explicar la información que te ha revelado el haber creado estas nubes de palabras.\n",
    "#Es decir, con base en lo mostrado, comenta que terminos parecen estar presentes cada que el encabezado es \"clickbait\" y\n",
    "#cada que es \"non-clickbait\". Desarrola tu respuesta!"
   ],
   "metadata": {
    "id": "nGwG342b8H-_"
   },
   "execution_count": null,
   "outputs": []
  },
  {
   "cell_type": "code",
   "source": [
    "#8) Vectoriza el texto de la columna que contiene los headlines ya procesados. Para esto, utiliza un ngram range de 1 hasta 3"
   ],
   "metadata": {
    "id": "JO2Xnzcd8Qpf"
   },
   "execution_count": null,
   "outputs": []
  },
  {
   "cell_type": "code",
   "source": [
    "#9) Utiliza TSNE para visualizar en dos dimensiones el texto vectorizado. Asigna la columna de\n",
    "#\"clickbait\" como la variable que dara color a los puntos del grafico y la columna \"headline\" para mostrar el texto\n",
    "#cada que el cursor pase por algun punto"
   ],
   "metadata": {
    "id": "36WbaBzq8VrQ"
   },
   "execution_count": null,
   "outputs": []
  },
  {
   "cell_type": "code",
   "source": [
    "#10) Escribe un comentario donde desarrolles tu analisis sobre la imagen generada. Encuentras algun agrupamiento? Se distinguen\n",
    "#las clases imaginando alguna linea sobre la imagen?. Desarrolla tu respuesta"
   ],
   "metadata": {
    "id": "3SyrpTsn8bcb"
   },
   "execution_count": null,
   "outputs": []
  },
  {
   "cell_type": "code",
   "source": [
    "#11) Crea un modelo de regresion logistica para clasificar encabezados que son \"clickbait\" y \"non-clickbait\". Generar el reporte de clasificacion\n",
    "#y la matriz de confusion correspondiente"
   ],
   "metadata": {
    "id": "LB5QYLrU8rOO"
   },
   "execution_count": null,
   "outputs": []
  },
  {
   "cell_type": "code",
   "source": [
    "#12) Crea un modelo de maquina de soporte vectorial para clasificar encabezados que son \"clickbait\" y \"non-clickbait\". Generar el reporte de clasificacion\n",
    "#y la matriz de confusion correspondiente"
   ],
   "metadata": {
    "id": "wAfZqHW_80Vh"
   },
   "execution_count": null,
   "outputs": []
  },
  {
   "cell_type": "code",
   "source": [
    "#13) Crea un modelo de Random Forest para clasificar encabezados que son \"clickbait\" y \"non-clickbait\". Generar el reporte de clasificacion\n",
    "#y la matriz de confusion correspondiente"
   ],
   "metadata": {
    "id": "OwMCP5wC83H3"
   },
   "execution_count": null,
   "outputs": []
  },
  {
   "cell_type": "code",
   "source": [
    "#14) Poner un comentario en el que justifiques cual de los modelos generados es mejor. Desarrolla tu respuesta"
   ],
   "metadata": {
    "id": "4wc4FW2O87vY"
   },
   "execution_count": null,
   "outputs": []
  },
  {
   "cell_type": "code",
   "source": [
    "#15) Utiliza el mejor modelo para clasificar estos encabezados:\n",
    "# -> \"Find out What Star Wars Character you are\"\n",
    "# -> \"California wildfire spreads out of control\"\n",
    "# -> \"What is Taylor Swift up to?\""
   ],
   "metadata": {
    "id": "X63LSXN99EBk"
   },
   "execution_count": null,
   "outputs": []
  },
  {
   "cell_type": "code",
   "source": [
    "#16) EXTRA: Construye tu modelo utilizando GridSearch"
   ],
   "metadata": {
    "id": "AN3xL6C29bnB"
   },
   "execution_count": null,
   "outputs": []
  }
 ]
}
